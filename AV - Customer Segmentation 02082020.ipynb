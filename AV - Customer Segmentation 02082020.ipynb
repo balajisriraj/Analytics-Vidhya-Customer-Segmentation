{
 "cells": [
  {
   "cell_type": "code",
   "execution_count": 1,
   "metadata": {
    "ExecuteTime": {
     "end_time": "2020-08-02T10:12:58.206871Z",
     "start_time": "2020-08-02T10:12:58.196864Z"
    }
   },
   "outputs": [
    {
     "data": {
      "text/html": [
       "<style>.container { width:90% !important; }</style>"
      ],
      "text/plain": [
       "<IPython.core.display.HTML object>"
      ]
     },
     "metadata": {},
     "output_type": "display_data"
    }
   ],
   "source": [
    "# To increase the size of the cell\n",
    "from IPython.core.display import display, HTML\n",
    "display(HTML(\"<style>.container { width:90% !important; }</style>\"))  # To change the cell size"
   ]
  },
  {
   "cell_type": "markdown",
   "metadata": {},
   "source": [
    "# Project: Janatahack: Customer Segmentation"
   ]
  },
  {
   "cell_type": "markdown",
   "metadata": {},
   "source": [
    "An automobile company has plans to enter new markets with their existing products (P1, P2, P3, P4 and P5). After intensive market research, they’ve deduced that the behavior of new market is similar to their existing market. \n",
    "\n",
    "In their existing market, the sales team has classified all customers into 4 segments (A, B, C, D ). Then, they performed segmented outreach and communication for different segment of customers. This strategy has work exceptionally well for them. They plan to use the same strategy on new markets and have identified 2627 new potential customers. \n",
    "\n",
    "You are required to help the manager to predict the right group of the new customers."
   ]
  },
  {
   "cell_type": "markdown",
   "metadata": {},
   "source": [
    "## Importing Packages"
   ]
  },
  {
   "cell_type": "code",
   "execution_count": 2,
   "metadata": {
    "ExecuteTime": {
     "end_time": "2020-08-02T10:13:02.891103Z",
     "start_time": "2020-08-02T10:13:00.417261Z"
    }
   },
   "outputs": [],
   "source": [
    "import pandas as pd\n",
    "import os\n",
    "\n",
    "#Ignore warnings\n",
    "import warnings\n",
    "warnings.filterwarnings('ignore')\n",
    "\n",
    "### Setting Display size\n",
    "pd.set_option('max_columns', 200)\n",
    "pd.set_option('max_rows', 300)\n",
    "\n",
    "import missingno as msno # For visualizing missing values\n",
    "import matplotlib.pyplot as plt\n",
    "import seaborn as sns\n",
    "import ppscore as pps\n",
    "from impyute.imputation.cs import mice\n",
    "import sys\n",
    "from impyute.imputation.cs import fast_knn\n",
    "sys.setrecursionlimit(100000) #Increase the recursion limit of the OS\n",
    "from sklearn.model_selection import train_test_split\n",
    "from sklearn.model_selection import RandomizedSearchCV\n"
   ]
  },
  {
   "cell_type": "markdown",
   "metadata": {},
   "source": [
    "## Importing Dataset"
   ]
  },
  {
   "cell_type": "code",
   "execution_count": 3,
   "metadata": {
    "ExecuteTime": {
     "end_time": "2020-08-02T10:13:02.912012Z",
     "start_time": "2020-08-02T10:13:02.907063Z"
    }
   },
   "outputs": [
    {
     "name": "stdout",
     "output_type": "stream",
     "text": [
      "Current working Directory D:\\PrivateProjects\\Customer_segmentation\\scripts\n",
      "Changed Working Directory D:\\PrivateProjects\\Customer_segmentation\n"
     ]
    }
   ],
   "source": [
    "print('Current working Directory',os.getcwd())#Find out your current working directory\n",
    "root = 'D:\\\\PrivateProjects\\Customer_segmentation'\n",
    "os.chdir(root)\n",
    "print('Changed Working Directory',os.getcwd())#Find out your (changed) current working directory"
   ]
  },
  {
   "cell_type": "markdown",
   "metadata": {},
   "source": [
    "### Importing data - train, test, sample_submission"
   ]
  },
  {
   "cell_type": "code",
   "execution_count": 4,
   "metadata": {
    "ExecuteTime": {
     "end_time": "2020-08-02T10:13:02.949417Z",
     "start_time": "2020-08-02T10:13:02.924479Z"
    }
   },
   "outputs": [],
   "source": [
    "df_train = pd.read_csv(f'{root}\\data\\Train_aBjfeNk.csv')\n",
    "df_test = pd.read_csv(f'{root}\\data\\Test_LqhgPWU.csv')\n",
    "df_submission = pd.read_csv(f'{root}\\data\\sample_submission_wyi0h0z.csv')"
   ]
  },
  {
   "cell_type": "code",
   "execution_count": 5,
   "metadata": {
    "ExecuteTime": {
     "end_time": "2020-08-02T10:13:03.665053Z",
     "start_time": "2020-08-02T10:13:03.659067Z"
    }
   },
   "outputs": [
    {
     "name": "stdout",
     "output_type": "stream",
     "text": [
      "We have 8068 rows & 11 columns in training dataset\n",
      "We have 2627 rows & 11 columns in testing dataset\n",
      "We have 2627 rows & 11 columns in sample submission dataset\n"
     ]
    }
   ],
   "source": [
    "print('We have {} rows & {} columns in training dataset'.format(df_train.shape[0],df_train.shape[1] ))\n",
    "print('We have {} rows & {} columns in testing dataset'.format(df_test.shape[0],df_train.shape[1]))\n",
    "print('We have {} rows & {} columns in sample submission dataset'.format(df_submission.shape[0],df_train.shape[1]))"
   ]
  },
  {
   "cell_type": "code",
   "execution_count": 6,
   "metadata": {
    "ExecuteTime": {
     "end_time": "2020-08-02T10:13:04.446135Z",
     "start_time": "2020-08-02T10:13:04.441151Z"
    }
   },
   "outputs": [],
   "source": [
    "#To get over all idea about the columns in dataset like count of unique values, type, % of missing values\n",
    "\n",
    "def describe_df(df):\n",
    "    stats = []\n",
    "    for col in df.columns:\n",
    "        stats.append((col, df[col].nunique(), df[col].isnull().sum() * 100 / df.shape[0], df[col].value_counts(normalize=True, dropna=False).values[0] * 100, df[col].dtype))\n",
    "    \n",
    "    stats_df = pd.DataFrame(stats, columns=['Feature', 'Unique_values', 'Percentage of missing values', 'Percentage of values in the biggest category', 'type'])\n",
    "    stats_df.sort_values('Percentage of missing values', ascending=False)\n",
    "    return stats_df"
   ]
  },
  {
   "cell_type": "code",
   "execution_count": 7,
   "metadata": {
    "ExecuteTime": {
     "end_time": "2020-08-02T10:13:05.182664Z",
     "start_time": "2020-08-02T10:13:05.126303Z"
    }
   },
   "outputs": [
    {
     "data": {
      "text/html": [
       "<div>\n",
       "<style scoped>\n",
       "    .dataframe tbody tr th:only-of-type {\n",
       "        vertical-align: middle;\n",
       "    }\n",
       "\n",
       "    .dataframe tbody tr th {\n",
       "        vertical-align: top;\n",
       "    }\n",
       "\n",
       "    .dataframe thead th {\n",
       "        text-align: right;\n",
       "    }\n",
       "</style>\n",
       "<table border=\"1\" class=\"dataframe\">\n",
       "  <thead>\n",
       "    <tr style=\"text-align: right;\">\n",
       "      <th></th>\n",
       "      <th>Feature</th>\n",
       "      <th>Unique_values</th>\n",
       "      <th>Percentage of missing values</th>\n",
       "      <th>Percentage of values in the biggest category</th>\n",
       "      <th>type</th>\n",
       "    </tr>\n",
       "  </thead>\n",
       "  <tbody>\n",
       "    <tr>\n",
       "      <th>0</th>\n",
       "      <td>ID</td>\n",
       "      <td>8068</td>\n",
       "      <td>0.000000</td>\n",
       "      <td>0.012395</td>\n",
       "      <td>int64</td>\n",
       "    </tr>\n",
       "    <tr>\n",
       "      <th>1</th>\n",
       "      <td>Gender</td>\n",
       "      <td>2</td>\n",
       "      <td>0.000000</td>\n",
       "      <td>54.747149</td>\n",
       "      <td>object</td>\n",
       "    </tr>\n",
       "    <tr>\n",
       "      <th>2</th>\n",
       "      <td>Ever_Married</td>\n",
       "      <td>2</td>\n",
       "      <td>1.735250</td>\n",
       "      <td>57.548339</td>\n",
       "      <td>object</td>\n",
       "    </tr>\n",
       "    <tr>\n",
       "      <th>3</th>\n",
       "      <td>Age</td>\n",
       "      <td>67</td>\n",
       "      <td>0.000000</td>\n",
       "      <td>3.098661</td>\n",
       "      <td>int64</td>\n",
       "    </tr>\n",
       "    <tr>\n",
       "      <th>4</th>\n",
       "      <td>Graduated</td>\n",
       "      <td>2</td>\n",
       "      <td>0.966782</td>\n",
       "      <td>61.576599</td>\n",
       "      <td>object</td>\n",
       "    </tr>\n",
       "    <tr>\n",
       "      <th>5</th>\n",
       "      <td>Profession</td>\n",
       "      <td>9</td>\n",
       "      <td>1.536936</td>\n",
       "      <td>31.184928</td>\n",
       "      <td>object</td>\n",
       "    </tr>\n",
       "    <tr>\n",
       "      <th>6</th>\n",
       "      <td>Work_Experience</td>\n",
       "      <td>15</td>\n",
       "      <td>10.275161</td>\n",
       "      <td>29.176996</td>\n",
       "      <td>float64</td>\n",
       "    </tr>\n",
       "    <tr>\n",
       "      <th>7</th>\n",
       "      <td>Spending_Score</td>\n",
       "      <td>3</td>\n",
       "      <td>0.000000</td>\n",
       "      <td>60.461081</td>\n",
       "      <td>object</td>\n",
       "    </tr>\n",
       "    <tr>\n",
       "      <th>8</th>\n",
       "      <td>Family_Size</td>\n",
       "      <td>9</td>\n",
       "      <td>4.152206</td>\n",
       "      <td>29.623203</td>\n",
       "      <td>float64</td>\n",
       "    </tr>\n",
       "    <tr>\n",
       "      <th>9</th>\n",
       "      <td>Var_1</td>\n",
       "      <td>7</td>\n",
       "      <td>0.941993</td>\n",
       "      <td>64.923153</td>\n",
       "      <td>object</td>\n",
       "    </tr>\n",
       "    <tr>\n",
       "      <th>10</th>\n",
       "      <td>Segmentation</td>\n",
       "      <td>4</td>\n",
       "      <td>0.000000</td>\n",
       "      <td>28.111056</td>\n",
       "      <td>object</td>\n",
       "    </tr>\n",
       "  </tbody>\n",
       "</table>\n",
       "</div>"
      ],
      "text/plain": [
       "            Feature  Unique_values  Percentage of missing values  \\\n",
       "0                ID           8068                      0.000000   \n",
       "1            Gender              2                      0.000000   \n",
       "2      Ever_Married              2                      1.735250   \n",
       "3               Age             67                      0.000000   \n",
       "4         Graduated              2                      0.966782   \n",
       "5        Profession              9                      1.536936   \n",
       "6   Work_Experience             15                     10.275161   \n",
       "7    Spending_Score              3                      0.000000   \n",
       "8       Family_Size              9                      4.152206   \n",
       "9             Var_1              7                      0.941993   \n",
       "10     Segmentation              4                      0.000000   \n",
       "\n",
       "    Percentage of values in the biggest category     type  \n",
       "0                                       0.012395    int64  \n",
       "1                                      54.747149   object  \n",
       "2                                      57.548339   object  \n",
       "3                                       3.098661    int64  \n",
       "4                                      61.576599   object  \n",
       "5                                      31.184928   object  \n",
       "6                                      29.176996  float64  \n",
       "7                                      60.461081   object  \n",
       "8                                      29.623203  float64  \n",
       "9                                      64.923153   object  \n",
       "10                                     28.111056   object  "
      ]
     },
     "execution_count": 7,
     "metadata": {},
     "output_type": "execute_result"
    }
   ],
   "source": [
    "describe_df(df_train)"
   ]
  },
  {
   "cell_type": "code",
   "execution_count": 8,
   "metadata": {
    "ExecuteTime": {
     "end_time": "2020-08-02T10:13:05.911415Z",
     "start_time": "2020-08-02T10:13:05.887476Z"
    }
   },
   "outputs": [
    {
     "data": {
      "text/html": [
       "<div>\n",
       "<style scoped>\n",
       "    .dataframe tbody tr th:only-of-type {\n",
       "        vertical-align: middle;\n",
       "    }\n",
       "\n",
       "    .dataframe tbody tr th {\n",
       "        vertical-align: top;\n",
       "    }\n",
       "\n",
       "    .dataframe thead th {\n",
       "        text-align: right;\n",
       "    }\n",
       "</style>\n",
       "<table border=\"1\" class=\"dataframe\">\n",
       "  <thead>\n",
       "    <tr style=\"text-align: right;\">\n",
       "      <th></th>\n",
       "      <th>Feature</th>\n",
       "      <th>Unique_values</th>\n",
       "      <th>Percentage of missing values</th>\n",
       "      <th>Percentage of values in the biggest category</th>\n",
       "      <th>type</th>\n",
       "    </tr>\n",
       "  </thead>\n",
       "  <tbody>\n",
       "    <tr>\n",
       "      <th>0</th>\n",
       "      <td>ID</td>\n",
       "      <td>2627</td>\n",
       "      <td>0.000000</td>\n",
       "      <td>0.038066</td>\n",
       "      <td>int64</td>\n",
       "    </tr>\n",
       "    <tr>\n",
       "      <th>1</th>\n",
       "      <td>Gender</td>\n",
       "      <td>2</td>\n",
       "      <td>0.000000</td>\n",
       "      <td>54.206319</td>\n",
       "      <td>object</td>\n",
       "    </tr>\n",
       "    <tr>\n",
       "      <th>2</th>\n",
       "      <td>Ever_Married</td>\n",
       "      <td>2</td>\n",
       "      <td>1.903312</td>\n",
       "      <td>57.860678</td>\n",
       "      <td>object</td>\n",
       "    </tr>\n",
       "    <tr>\n",
       "      <th>3</th>\n",
       "      <td>Age</td>\n",
       "      <td>67</td>\n",
       "      <td>0.000000</td>\n",
       "      <td>3.349829</td>\n",
       "      <td>int64</td>\n",
       "    </tr>\n",
       "    <tr>\n",
       "      <th>4</th>\n",
       "      <td>Graduated</td>\n",
       "      <td>2</td>\n",
       "      <td>0.913590</td>\n",
       "      <td>60.982109</td>\n",
       "      <td>object</td>\n",
       "    </tr>\n",
       "    <tr>\n",
       "      <th>5</th>\n",
       "      <td>Profession</td>\n",
       "      <td>9</td>\n",
       "      <td>1.446517</td>\n",
       "      <td>30.529121</td>\n",
       "      <td>object</td>\n",
       "    </tr>\n",
       "    <tr>\n",
       "      <th>6</th>\n",
       "      <td>Work_Experience</td>\n",
       "      <td>15</td>\n",
       "      <td>10.239817</td>\n",
       "      <td>29.425200</td>\n",
       "      <td>float64</td>\n",
       "    </tr>\n",
       "    <tr>\n",
       "      <th>7</th>\n",
       "      <td>Spending_Score</td>\n",
       "      <td>3</td>\n",
       "      <td>0.000000</td>\n",
       "      <td>61.515036</td>\n",
       "      <td>object</td>\n",
       "    </tr>\n",
       "    <tr>\n",
       "      <th>8</th>\n",
       "      <td>Family_Size</td>\n",
       "      <td>9</td>\n",
       "      <td>4.301485</td>\n",
       "      <td>29.234869</td>\n",
       "      <td>float64</td>\n",
       "    </tr>\n",
       "    <tr>\n",
       "      <th>9</th>\n",
       "      <td>Var_1</td>\n",
       "      <td>7</td>\n",
       "      <td>1.218120</td>\n",
       "      <td>63.646745</td>\n",
       "      <td>object</td>\n",
       "    </tr>\n",
       "  </tbody>\n",
       "</table>\n",
       "</div>"
      ],
      "text/plain": [
       "           Feature  Unique_values  Percentage of missing values  \\\n",
       "0               ID           2627                      0.000000   \n",
       "1           Gender              2                      0.000000   \n",
       "2     Ever_Married              2                      1.903312   \n",
       "3              Age             67                      0.000000   \n",
       "4        Graduated              2                      0.913590   \n",
       "5       Profession              9                      1.446517   \n",
       "6  Work_Experience             15                     10.239817   \n",
       "7   Spending_Score              3                      0.000000   \n",
       "8      Family_Size              9                      4.301485   \n",
       "9            Var_1              7                      1.218120   \n",
       "\n",
       "   Percentage of values in the biggest category     type  \n",
       "0                                      0.038066    int64  \n",
       "1                                     54.206319   object  \n",
       "2                                     57.860678   object  \n",
       "3                                      3.349829    int64  \n",
       "4                                     60.982109   object  \n",
       "5                                     30.529121   object  \n",
       "6                                     29.425200  float64  \n",
       "7                                     61.515036   object  \n",
       "8                                     29.234869  float64  \n",
       "9                                     63.646745   object  "
      ]
     },
     "execution_count": 8,
     "metadata": {},
     "output_type": "execute_result"
    }
   ],
   "source": [
    "describe_df(df_test)"
   ]
  },
  {
   "cell_type": "markdown",
   "metadata": {},
   "source": [
    " - Let's combaine train & test, then remove the rows with missing columns.\n",
    " - Save the rows with the missing columns for later use.\n",
    " - Do the data processing with the remaining rows."
   ]
  },
  {
   "cell_type": "code",
   "execution_count": 9,
   "metadata": {
    "ExecuteTime": {
     "end_time": "2020-08-02T10:13:07.180592Z",
     "start_time": "2020-08-02T10:13:07.167628Z"
    }
   },
   "outputs": [],
   "source": [
    "#Creating flag column to identify train & test\n",
    "\n",
    "df_train['is_train'] = '1'\n",
    "df_test['is_train'] = '0'\n",
    "df_full = pd.concat([df_train, df_test])\n",
    "df_full['is_train'] = df_full['is_train'].astype('int64')"
   ]
  },
  {
   "cell_type": "markdown",
   "metadata": {},
   "source": [
    "### Predictive power score"
   ]
  },
  {
   "cell_type": "markdown",
   "metadata": {},
   "source": [
    "The predictive power score is a summary metric for predictive relations between data series. Like correlation, it is suitable for quick data exploration. Unlike correlation, it can work with non-linear relations, categorical data, and asymmetric relations, where variable A informs on variable B more than variable B informs on variable A. Technically, the score is a measurement of the success of a Decision Tree model in predicting a target variable with the help of a predictor variable out-of-sample and relative to naïve approaches. For macro strategy development, predictive power score matrices can be easily created based on an existing python module and can increase the efficiency of finding hidden patterns in the data and selecting predictor variables.\n",
    "Reference : https://www.sr-sv.com/the-predictive-power-score/"
   ]
  },
  {
   "cell_type": "code",
   "execution_count": 10,
   "metadata": {
    "ExecuteTime": {
     "end_time": "2020-08-02T10:13:14.103316Z",
     "start_time": "2020-08-02T10:13:08.561591Z"
    }
   },
   "outputs": [
    {
     "data": {
      "text/plain": [
       "<matplotlib.axes._subplots.AxesSubplot at 0x25924b5ce10>"
      ]
     },
     "execution_count": 10,
     "metadata": {},
     "output_type": "execute_result"
    },
    {
     "data": {
      "image/png": "[encoded data removed]",
      "text/plain": [
       "<Figure size 648x360 with 2 Axes>"
      ]
     },
     "metadata": {
      "needs_background": "light"
     },
     "output_type": "display_data"
    }
   ],
   "source": [
    "%matplotlib inline\n",
    "plt.figure(figsize=(9,5))\n",
    "sns.heatmap(pps.matrix(df_train),annot=True,fmt=\".2f\")"
   ]
  },
  {
   "cell_type": "markdown",
   "metadata": {},
   "source": [
    "###### Insights:\n",
    "            - Age has 63% correlation with Ever_Married\n",
    "            - Profession has 51% good scorre with Ever_married\n",
    "            - ding_Score has 66% good score with Ever_married\n",
    "            - Segmentaion depends on Spending_Score, Graduated, Ever_Married\n",
    "            - Its is important to fill missing values of  Ever_Married,Graduated,Profession in that order"
   ]
  },
  {
   "cell_type": "markdown",
   "metadata": {},
   "source": [
    " - How distribuded the segments are?"
   ]
  },
  {
   "cell_type": "code",
   "execution_count": 11,
   "metadata": {
    "ExecuteTime": {
     "end_time": "2020-08-02T10:13:14.401538Z",
     "start_time": "2020-08-02T10:13:14.179113Z"
    }
   },
   "outputs": [
    {
     "data": {
      "image/png": "[encoded data removed]",
      "text/plain": [
       "<Figure size 1008x432 with 1 Axes>"
      ]
     },
     "metadata": {
      "needs_background": "light"
     },
     "output_type": "display_data"
    }
   ],
   "source": [
    "plt.figure(figsize=(14, 6));\n",
    "g = sns.countplot(x='Segmentation', data=df_train)\n",
    "plt.title('Segment Distribution in training data');\n",
    "ax=g.axes\n",
    "for p in ax.patches:\n",
    "     ax.annotate(f\"{p.get_height() * 100 / df_train.shape[0]:.2f}%\", (p.get_x() + p.get_width() / 2., p.get_height()),\n",
    "         ha='center', va='center', fontsize=11, color='gray', rotation=0, xytext=(0, 10),\n",
    "         textcoords='offset points')"
   ]
  },
  {
   "cell_type": "markdown",
   "metadata": {},
   "source": [
    "Answer : We can see the segments are almost equally distributed, no need to worry about sampling issues"
   ]
  },
  {
   "cell_type": "markdown",
   "metadata": {},
   "source": [
    "#### Data Processing"
   ]
  },
  {
   "cell_type": "markdown",
   "metadata": {},
   "source": [
    "Info:\n",
    "\n",
    "    Binary columns : {Ever_Married, Gender, Graduated}\n",
    "    Ordinal column : {Spending_Score}\n",
    "    Nominal column : {Profession,Var_1, Segmentation}\n",
    "    numerical column : {Age, Work_experience, Family_Size}\n",
    "    id column : {ID}"
   ]
  },
  {
   "cell_type": "code",
   "execution_count": 12,
   "metadata": {
    "ExecuteTime": {
     "end_time": "2020-08-02T10:13:14.481836Z",
     "start_time": "2020-08-02T10:13:14.465368Z"
    }
   },
   "outputs": [],
   "source": [
    "# Create df with ID & Segment\n",
    "df_id_segment = df_full[['ID','Segmentation','is_train']]\n",
    "df_full.drop('Segmentation',axis = 1,inplace = True) # Dropping target\n",
    "df_full.fillna('NA',inplace = True)"
   ]
  },
  {
   "cell_type": "code",
   "execution_count": 13,
   "metadata": {
    "ExecuteTime": {
     "end_time": "2020-08-02T10:13:14.562659Z",
     "start_time": "2020-08-02T10:13:14.547659Z"
    }
   },
   "outputs": [],
   "source": [
    "#Processing Binary Columns\n",
    "\n",
    "gender = {'Male': 1,'Female': 0}\n",
    "df_full.Gender = [gender[item] for item in df_full.Gender]\n",
    "\n",
    "graduate = {'Yes': 1,'No': 0, 'NA':'NA'}\n",
    "df_full.Graduated = [graduate[item] for item in df_full.Graduated]\n",
    "\n",
    "ever_married = {'Yes': 1,'No': 0, 'NA':'NA'}\n",
    "df_full.Ever_Married = [ever_married[item] for item in df_full.Ever_Married]"
   ]
  },
  {
   "cell_type": "code",
   "execution_count": 14,
   "metadata": {
    "ExecuteTime": {
     "end_time": "2020-08-02T10:13:14.640412Z",
     "start_time": "2020-08-02T10:13:14.631434Z"
    }
   },
   "outputs": [],
   "source": [
    "# Processing Ordinal column\n",
    "\n",
    "score = {'Low' : 1 , 'Average' : 2, 'High' : 3}\n",
    "df_full.Spending_Score = [score[item] for item in df_full.Spending_Score]"
   ]
  },
  {
   "cell_type": "code",
   "execution_count": 15,
   "metadata": {
    "ExecuteTime": {
     "end_time": "2020-08-02T10:13:14.726182Z",
     "start_time": "2020-08-02T10:13:14.719200Z"
    }
   },
   "outputs": [],
   "source": [
    "# Processing Nominal column\n",
    "prof = {'Healthcare' : 1,\n",
    "        'Engineer' : 2,\n",
    "        'Lawyer' : 3,\n",
    "        'Entertainment' : 4, \n",
    "        'Artist' : 5,\n",
    "       'Executive' : 6,\n",
    "        'Doctor' :7,\n",
    "        'Homemaker' :8, \n",
    "        'Marketing' : 9,\n",
    "        'NA' : 'NA'}\n",
    "\n",
    "df_full.Profession = [prof[item] for item in df_full.Profession]"
   ]
  },
  {
   "cell_type": "code",
   "execution_count": 16,
   "metadata": {
    "ExecuteTime": {
     "end_time": "2020-08-02T10:13:14.881808Z",
     "start_time": "2020-08-02T10:13:14.875784Z"
    }
   },
   "outputs": [],
   "source": [
    "cat = {'Cat_1':1,\n",
    "       'Cat_2':2,\n",
    "       'Cat_3':3,\n",
    "       'Cat_4':4,\n",
    "       'Cat_5':5,\n",
    "       'Cat_6':6,\n",
    "       'Cat_7':7,\n",
    "       'NA':'NA'\n",
    "}\n",
    "\n",
    "df_full.Var_1 = [cat[item] for item in df_full.Var_1]"
   ]
  },
  {
   "cell_type": "markdown",
   "metadata": {},
   "source": [
    "#### Handle Missing values"
   ]
  },
  {
   "cell_type": "markdown",
   "metadata": {},
   "source": [
    "The way missing values are going to be imputed by two methods and take Average.\n",
    "1) MICE\n",
    "2) KNN\n",
    "\n",
    "Reference: https://towardsdatascience.com/6-different-ways-to-compensate-for-missing-values-data-imputation-with-examples-6022d9ca0779"
   ]
  },
  {
   "cell_type": "code",
   "execution_count": 17,
   "metadata": {
    "ExecuteTime": {
     "end_time": "2020-08-02T10:13:16.835682Z",
     "start_time": "2020-08-02T10:13:16.819342Z"
    }
   },
   "outputs": [],
   "source": [
    "df_full.replace('NA', np.nan,inplace = True)"
   ]
  },
  {
   "cell_type": "markdown",
   "metadata": {},
   "source": [
    "##### MICE"
   ]
  },
  {
   "cell_type": "code",
   "execution_count": 18,
   "metadata": {
    "ExecuteTime": {
     "end_time": "2020-08-02T10:13:20.659207Z",
     "start_time": "2020-08-02T10:13:17.622006Z"
    }
   },
   "outputs": [],
   "source": [
    "# start the MICE training\n",
    "imputed_training_mice=mice(df_full.values)\n",
    "imputed_training_mice = pd.DataFrame(imputed_training_mice)\n",
    "\n",
    "cols = df_full.columns # Since imputed_training is numpy array wer have to convert it to PD dataframe & assign col names\n",
    "imputed_training_mice.columns = cols\n",
    "imputed_training_mice[['ID','is_train']] = imputed_training_mice[['ID','is_train']].astype('int64')"
   ]
  },
  {
   "cell_type": "code",
   "execution_count": 19,
   "metadata": {
    "ExecuteTime": {
     "end_time": "2020-08-02T10:13:20.753881Z",
     "start_time": "2020-08-02T10:13:20.742910Z"
    }
   },
   "outputs": [],
   "source": [
    "df_processed_mice = pd.merge(imputed_training_mice,df_id_segment, how = 'inner', on =['ID','is_train'])"
   ]
  },
  {
   "cell_type": "markdown",
   "metadata": {},
   "source": [
    "##### KNN"
   ]
  },
  {
   "cell_type": "code",
   "execution_count": 20,
   "metadata": {
    "ExecuteTime": {
     "end_time": "2020-08-02T10:13:22.377045Z",
     "start_time": "2020-08-02T10:13:20.848628Z"
    }
   },
   "outputs": [],
   "source": [
    "# start the KNN training\n",
    "imputed_training_knn =fast_knn(df_full.values, k=50)\n",
    "imputed_training_knn = pd.DataFrame(imputed_training_knn)\n",
    "\n",
    "cols = df_full.columns # Since imputed_training is numpy array wer have to convert it to PD dataframe & assign col names\n",
    "imputed_training_knn.columns = cols\n",
    "imputed_training_knn[['ID','is_train']] = imputed_training_knn[['ID','is_train']].astype('int64')"
   ]
  },
  {
   "cell_type": "code",
   "execution_count": 21,
   "metadata": {
    "ExecuteTime": {
     "end_time": "2020-08-02T10:13:22.495019Z",
     "start_time": "2020-08-02T10:13:22.487600Z"
    }
   },
   "outputs": [],
   "source": [
    "df_processed_knn = pd.merge(imputed_training_knn,df_id_segment, how = 'inner', on =['ID','is_train'])"
   ]
  },
  {
   "cell_type": "markdown",
   "metadata": {},
   "source": [
    "###### Now that we have imputed the missing values we can combain these two imputations & take average"
   ]
  },
  {
   "cell_type": "markdown",
   "metadata": {},
   "source": [
    "List of cols with missing values : \n",
    "    - Ever_Married\n",
    "    - Graduated\n",
    "    - Profession\n",
    "    - Work_Experience\n",
    "    - Family_Size\n",
    "    - var_1"
   ]
  },
  {
   "cell_type": "code",
   "execution_count": 22,
   "metadata": {
    "ExecuteTime": {
     "end_time": "2020-08-02T10:13:22.635643Z",
     "start_time": "2020-08-02T10:13:22.618689Z"
    }
   },
   "outputs": [],
   "source": [
    "temp = pd.concat((df_processed_knn, df_processed_mice)); \n",
    "df_final = temp.groupby(temp.index).mean()\n",
    "df_final = pd.merge(df_final, df_id_segment, how = 'inner', on =['ID','is_train'] )"
   ]
  },
  {
   "cell_type": "code",
   "execution_count": 23,
   "metadata": {
    "ExecuteTime": {
     "end_time": "2020-08-02T10:13:22.821147Z",
     "start_time": "2020-08-02T10:13:22.814166Z"
    }
   },
   "outputs": [],
   "source": [
    "df_final.drop(['Segmentation','ID','is_train'],axis = 1, inplace = True)"
   ]
  },
  {
   "cell_type": "code",
   "execution_count": 24,
   "metadata": {
    "ExecuteTime": {
     "end_time": "2020-08-02T10:13:22.984246Z",
     "start_time": "2020-08-02T10:13:22.978253Z"
    }
   },
   "outputs": [
    {
     "data": {
      "text/plain": [
       "Index(['Gender', 'Ever_Married', 'Age', 'Graduated', 'Profession',\n",
       "       'Work_Experience', 'Spending_Score', 'Family_Size', 'Var_1'],\n",
       "      dtype='object')"
      ]
     },
     "execution_count": 24,
     "metadata": {},
     "output_type": "execute_result"
    }
   ],
   "source": [
    "df_final.columns"
   ]
  },
  {
   "cell_type": "code",
   "execution_count": 25,
   "metadata": {
    "ExecuteTime": {
     "end_time": "2020-08-02T10:13:23.139820Z",
     "start_time": "2020-08-02T10:13:23.129848Z"
    }
   },
   "outputs": [],
   "source": [
    "df_final = df_final.round()"
   ]
  },
  {
   "cell_type": "code",
   "execution_count": 26,
   "metadata": {
    "ExecuteTime": {
     "end_time": "2020-08-02T10:13:23.299393Z",
     "start_time": "2020-08-02T10:13:23.284434Z"
    }
   },
   "outputs": [],
   "source": [
    "df_final['Ever_Married']  = df_final['Ever_Married'].astype('category')\n",
    "df_final['Gender']  = df_final['Gender'].astype('category')\n",
    "df_final['Graduated']  = df_final['Graduated'].astype('category')\n",
    "df_final['Profession']  = df_final['Profession'].astype('category')\n",
    "df_final['Var_1']  = df_final['Var_1'].astype('category')"
   ]
  },
  {
   "cell_type": "markdown",
   "metadata": {},
   "source": [
    "#### Preprocess"
   ]
  },
  {
   "cell_type": "code",
   "execution_count": 27,
   "metadata": {
    "ExecuteTime": {
     "end_time": "2020-08-02T10:13:23.470935Z",
     "start_time": "2020-08-02T10:13:23.456972Z"
    }
   },
   "outputs": [],
   "source": [
    "df_final = pd.get_dummies(df_final)"
   ]
  },
  {
   "cell_type": "code",
   "execution_count": 28,
   "metadata": {
    "ExecuteTime": {
     "end_time": "2020-08-02T10:13:23.638193Z",
     "start_time": "2020-08-02T10:13:23.622201Z"
    }
   },
   "outputs": [],
   "source": [
    "df_final = pd.merge(df_final,df_id_segment, how = 'inner', left_index=True, right_index=True)"
   ]
  },
  {
   "cell_type": "code",
   "execution_count": 33,
   "metadata": {
    "ExecuteTime": {
     "end_time": "2020-08-02T10:14:10.164823Z",
     "start_time": "2020-08-02T10:14:10.148106Z"
    }
   },
   "outputs": [],
   "source": [
    "df_final_train = df_final[df_final['is_train'] == 1]\n",
    "df_final_test = df_final[df_final['is_train'] == 0]"
   ]
  },
  {
   "cell_type": "code",
   "execution_count": 34,
   "metadata": {
    "ExecuteTime": {
     "end_time": "2020-08-02T10:14:11.857858Z",
     "start_time": "2020-08-02T10:14:11.851875Z"
    }
   },
   "outputs": [],
   "source": [
    "df_final_train.drop(['is_train'],axis = 1,inplace = True)\n",
    "df_final_test.drop(['is_train'],axis = 1,inplace = True)"
   ]
  },
  {
   "cell_type": "code",
   "execution_count": 35,
   "metadata": {
    "ExecuteTime": {
     "end_time": "2020-08-02T10:14:13.015178Z",
     "start_time": "2020-08-02T10:14:12.935837Z"
    }
   },
   "outputs": [],
   "source": [
    "df_final_train.to_csv('train.csv',index = False)\n",
    "df_final_test.to_csv('test.csv',index = False)"
   ]
  },
  {
   "cell_type": "markdown",
   "metadata": {},
   "source": [
    "### Model"
   ]
  },
  {
   "cell_type": "code",
   "execution_count": 32,
   "metadata": {
    "ExecuteTime": {
     "end_time": "2020-08-02T10:13:35.414340Z",
     "start_time": "2020-08-02T10:13:35.409348Z"
    }
   },
   "outputs": [],
   "source": [
    "df_final_train.drop('ID', axis = 1, inplace = True)"
   ]
  },
  {
   "cell_type": "code",
   "execution_count": null,
   "metadata": {
    "ExecuteTime": {
     "end_time": "2020-08-02T04:41:06.550498Z",
     "start_time": "2020-08-02T04:41:06.544507Z"
    }
   },
   "outputs": [],
   "source": [
    "y = df_final_train['Segmentation']\n",
    "x = df_final_train.drop(['Segmentation'], axis=1)"
   ]
  },
  {
   "cell_type": "code",
   "execution_count": null,
   "metadata": {
    "ExecuteTime": {
     "end_time": "2020-08-02T04:41:33.289430Z",
     "start_time": "2020-08-02T04:41:33.281451Z"
    }
   },
   "outputs": [],
   "source": [
    "x_train, x_test, y_train, y_test = train_test_split(x,y, test_size= 0.20, random_state=27)"
   ]
  },
  {
   "cell_type": "code",
   "execution_count": null,
   "metadata": {
    "ExecuteTime": {
     "end_time": "2020-08-02T04:41:37.166921Z",
     "start_time": "2020-08-02T04:41:37.160938Z"
    }
   },
   "outputs": [],
   "source": [
    "from sklearn.metrics import accuracy_score, log_loss\n",
    "from sklearn.neighbors import KNeighborsClassifier\n",
    "from sklearn.svm import SVC, LinearSVC, NuSVC\n",
    "from sklearn.tree import DecisionTreeClassifier\n",
    "from sklearn.ensemble import RandomForestClassifier, AdaBoostClassifier, GradientBoostingClassifier\n",
    "from sklearn.naive_bayes import GaussianNB\n",
    "from sklearn.discriminant_analysis import LinearDiscriminantAnalysis\n",
    "from sklearn.discriminant_analysis import QuadraticDiscriminantAnalysis\n",
    "from sklearn.tree import DecisionTreeClassifier\n",
    "\n",
    "from sklearn.linear_model import LogisticRegression\n",
    "\n",
    "from sklearn.neural_network import MLPClassifier\n",
    "\n",
    "from sklearn.utils.testing import ignore_warnings\n",
    "from sklearn.exceptions import ConvergenceWarning"
   ]
  },
  {
   "cell_type": "code",
   "execution_count": null,
   "metadata": {
    "ExecuteTime": {
     "end_time": "2020-08-02T04:41:39.729010Z",
     "start_time": "2020-08-02T04:41:39.720649Z"
    }
   },
   "outputs": [],
   "source": [
    "classifiers = [\n",
    "    LogisticRegression(random_state=1,solver=\"liblinear\", multi_class=\"ovr\"),\n",
    "    DecisionTreeClassifier(),\n",
    "    KNeighborsClassifier(4),\n",
    "    SVC(kernel=\"rbf\", C=0.025, probability=True),\n",
    "    NuSVC(probability=True),\n",
    "    RandomForestClassifier(),\n",
    "    AdaBoostClassifier(),\n",
    "    GradientBoostingClassifier(),\n",
    "    GaussianNB(),\n",
    "    LinearDiscriminantAnalysis(),\n",
    "    QuadraticDiscriminantAnalysis(),\n",
    "    MLPClassifier(hidden_layer_sizes=(500,500,500,100,100,100,100,100,100), max_iter=1000, alpha=0.0001,\n",
    "                     solver='adam', verbose=10,  random_state=21,tol=0.000000001, activation= 'relu' )\n",
    "]"
   ]
  },
  {
   "cell_type": "code",
   "execution_count": null,
   "metadata": {
    "ExecuteTime": {
     "end_time": "2020-08-02T04:48:35.023631Z",
     "start_time": "2020-08-02T04:41:41.928460Z"
    }
   },
   "outputs": [],
   "source": [
    "# Logging for Visual Comparison\n",
    "log_cols=[\"Classifier\", \"Accuracy\", \"Log Loss\"]\n",
    "log = pd.DataFrame(columns=log_cols)\n",
    "\n",
    "for clf in classifiers:\n",
    "    clf.fit(x_train, y_train)\n",
    "    name = clf.__class__.__name__\n",
    "    \n",
    "    print(\"=\"*30)\n",
    "    print(name)\n",
    "    \n",
    "    print('****Results****')\n",
    "    train_predictions = clf.predict(x_test)\n",
    "    acc = accuracy_score(y_test, train_predictions)\n",
    "    print(\"Accuracy: {:.4%}\".format(acc))\n",
    "    \n",
    "    train_predictions = clf.predict_proba(x_test)\n",
    "    ll = log_loss(y_test, train_predictions)\n",
    "    print(\"Log Loss: {}\".format(ll))\n",
    "    \n",
    "    log_entry = pd.DataFrame([[name, acc*100, ll]], columns=log_cols)\n",
    "    log = log.append(log_entry)\n",
    "    \n",
    "print(\"=\"*30)"
   ]
  },
  {
   "cell_type": "code",
   "execution_count": null,
   "metadata": {
    "ExecuteTime": {
     "end_time": "2020-08-02T04:49:45.486749Z",
     "start_time": "2020-08-02T04:49:45.115204Z"
    }
   },
   "outputs": [],
   "source": [
    "sns.set_color_codes(\"muted\")\n",
    "sns.barplot(x='Accuracy', y='Classifier', data=log, color=\"b\")\n",
    "\n",
    "plt.xlabel('Accuracy %')\n",
    "plt.title('Classifier Accuracy')\n",
    "plt.show()\n",
    "\n",
    "sns.set_color_codes(\"muted\")\n",
    "sns.barplot(x='Log Loss', y='Classifier', data=log, color=\"g\")\n",
    "\n",
    "plt.xlabel('Log Loss')\n",
    "plt.title('Classifier Log Loss')\n",
    "plt.show()"
   ]
  },
  {
   "cell_type": "markdown",
   "metadata": {},
   "source": [
    "##### Let's select the models with high Accuracy for max voting\n",
    " - LogisticRegression\n",
    " - RandomForestClassifier\n",
    " - AdaBoostClassifier\n",
    " - GradientBoostingClassifier\n",
    " - LinearDiscriminantAnalysis"
   ]
  },
  {
   "cell_type": "code",
   "execution_count": null,
   "metadata": {
    "ExecuteTime": {
     "end_time": "2020-08-02T05:30:41.135174Z",
     "start_time": "2020-08-02T05:30:20.095060Z"
    }
   },
   "outputs": [],
   "source": [
    "from sklearn.ensemble import VotingClassifier\n",
    "\n",
    "model1 = LogisticRegression(random_state=1,solver=\"liblinear\", multi_class=\"ovr\")\n",
    "model2 = RandomForestClassifier(n_estimators=1600,max_depth= 1000,bootstrap= True,min_samples_split= 2,\n",
    "                                 min_samples_leaf= 4)\n",
    "model3 = AdaBoostClassifier()\n",
    "model4 = GradientBoostingClassifier(n_estimators=300)\n",
    "model5 = LinearDiscriminantAnalysis()\n",
    "\n",
    "model = VotingClassifier(estimators=[\n",
    "                                        ('lr', model1),\n",
    "                                        ('rc',model2),\n",
    "                                        ('abc',model3),\n",
    "                                        ('gbc',model4),\n",
    "                                        ('lda',model5)\n",
    "                                      \n",
    "                                    \n",
    "                                    ],\n",
    "                                     voting='hard')\n",
    "model.fit(x_train, y_train)\n",
    "model.score( x_test, y_test)"
   ]
  },
  {
   "cell_type": "markdown",
   "metadata": {
    "ExecuteTime": {
     "end_time": "2020-08-02T05:23:51.022631Z",
     "start_time": "2020-08-02T05:23:51.013699Z"
    }
   },
   "source": [
    "### PyCaret"
   ]
  },
  {
   "cell_type": "code",
   "execution_count": 40,
   "metadata": {
    "ExecuteTime": {
     "end_time": "2020-08-02T10:23:30.553611Z",
     "start_time": "2020-08-02T10:23:27.482304Z"
    }
   },
   "outputs": [
    {
     "name": "stdout",
     "output_type": "stream",
     "text": [
      "Setup Succesfully Completed!\n"
     ]
    },
    {
     "data": {
      "text/html": [
       "<style  type=\"text/css\" >\n",
       "#T_361946e8_d4aa_11ea_9eac_84fdd1e63b41row15_col1,#T_361946e8_d4aa_11ea_9eac_84fdd1e63b41row17_col1,#T_361946e8_d4aa_11ea_9eac_84fdd1e63b41row22_col1{\n",
       "            background-color:  lightgreen;\n",
       "        }</style><table id=\"T_361946e8_d4aa_11ea_9eac_84fdd1e63b41\" ><thead>    <tr>        <th class=\"blank level0\" ></th>        <th class=\"col_heading level0 col0\" >Description</th>        <th class=\"col_heading level0 col1\" >Value</th>    </tr></thead><tbody>\n",
       "                <tr>\n",
       "                        <th id=\"T_361946e8_d4aa_11ea_9eac_84fdd1e63b41level0_row0\" class=\"row_heading level0 row0\" >0</th>\n",
       "                        <td id=\"T_361946e8_d4aa_11ea_9eac_84fdd1e63b41row0_col0\" class=\"data row0 col0\" >session_id</td>\n",
       "                        <td id=\"T_361946e8_d4aa_11ea_9eac_84fdd1e63b41row0_col1\" class=\"data row0 col1\" >2915</td>\n",
       "            </tr>\n",
       "            <tr>\n",
       "                        <th id=\"T_361946e8_d4aa_11ea_9eac_84fdd1e63b41level0_row1\" class=\"row_heading level0 row1\" >1</th>\n",
       "                        <td id=\"T_361946e8_d4aa_11ea_9eac_84fdd1e63b41row1_col0\" class=\"data row1 col0\" >Target Type</td>\n",
       "                        <td id=\"T_361946e8_d4aa_11ea_9eac_84fdd1e63b41row1_col1\" class=\"data row1 col1\" >Multiclass</td>\n",
       "            </tr>\n",
       "            <tr>\n",
       "                        <th id=\"T_361946e8_d4aa_11ea_9eac_84fdd1e63b41level0_row2\" class=\"row_heading level0 row2\" >2</th>\n",
       "                        <td id=\"T_361946e8_d4aa_11ea_9eac_84fdd1e63b41row2_col0\" class=\"data row2 col0\" >Label Encoded</td>\n",
       "                        <td id=\"T_361946e8_d4aa_11ea_9eac_84fdd1e63b41row2_col1\" class=\"data row2 col1\" >A: 0, B: 1, C: 2, D: 3</td>\n",
       "            </tr>\n",
       "            <tr>\n",
       "                        <th id=\"T_361946e8_d4aa_11ea_9eac_84fdd1e63b41level0_row3\" class=\"row_heading level0 row3\" >3</th>\n",
       "                        <td id=\"T_361946e8_d4aa_11ea_9eac_84fdd1e63b41row3_col0\" class=\"data row3 col0\" >Original Data</td>\n",
       "                        <td id=\"T_361946e8_d4aa_11ea_9eac_84fdd1e63b41row3_col1\" class=\"data row3 col1\" >(8068, 28)</td>\n",
       "            </tr>\n",
       "            <tr>\n",
       "                        <th id=\"T_361946e8_d4aa_11ea_9eac_84fdd1e63b41level0_row4\" class=\"row_heading level0 row4\" >4</th>\n",
       "                        <td id=\"T_361946e8_d4aa_11ea_9eac_84fdd1e63b41row4_col0\" class=\"data row4 col0\" >Missing Values </td>\n",
       "                        <td id=\"T_361946e8_d4aa_11ea_9eac_84fdd1e63b41row4_col1\" class=\"data row4 col1\" >False</td>\n",
       "            </tr>\n",
       "            <tr>\n",
       "                        <th id=\"T_361946e8_d4aa_11ea_9eac_84fdd1e63b41level0_row5\" class=\"row_heading level0 row5\" >5</th>\n",
       "                        <td id=\"T_361946e8_d4aa_11ea_9eac_84fdd1e63b41row5_col0\" class=\"data row5 col0\" >Numeric Features </td>\n",
       "                        <td id=\"T_361946e8_d4aa_11ea_9eac_84fdd1e63b41row5_col1\" class=\"data row5 col1\" >27</td>\n",
       "            </tr>\n",
       "            <tr>\n",
       "                        <th id=\"T_361946e8_d4aa_11ea_9eac_84fdd1e63b41level0_row6\" class=\"row_heading level0 row6\" >6</th>\n",
       "                        <td id=\"T_361946e8_d4aa_11ea_9eac_84fdd1e63b41row6_col0\" class=\"data row6 col0\" >Categorical Features </td>\n",
       "                        <td id=\"T_361946e8_d4aa_11ea_9eac_84fdd1e63b41row6_col1\" class=\"data row6 col1\" >0</td>\n",
       "            </tr>\n",
       "            <tr>\n",
       "                        <th id=\"T_361946e8_d4aa_11ea_9eac_84fdd1e63b41level0_row7\" class=\"row_heading level0 row7\" >7</th>\n",
       "                        <td id=\"T_361946e8_d4aa_11ea_9eac_84fdd1e63b41row7_col0\" class=\"data row7 col0\" >Ordinal Features </td>\n",
       "                        <td id=\"T_361946e8_d4aa_11ea_9eac_84fdd1e63b41row7_col1\" class=\"data row7 col1\" >False</td>\n",
       "            </tr>\n",
       "            <tr>\n",
       "                        <th id=\"T_361946e8_d4aa_11ea_9eac_84fdd1e63b41level0_row8\" class=\"row_heading level0 row8\" >8</th>\n",
       "                        <td id=\"T_361946e8_d4aa_11ea_9eac_84fdd1e63b41row8_col0\" class=\"data row8 col0\" >High Cardinality Features </td>\n",
       "                        <td id=\"T_361946e8_d4aa_11ea_9eac_84fdd1e63b41row8_col1\" class=\"data row8 col1\" >False</td>\n",
       "            </tr>\n",
       "            <tr>\n",
       "                        <th id=\"T_361946e8_d4aa_11ea_9eac_84fdd1e63b41level0_row9\" class=\"row_heading level0 row9\" >9</th>\n",
       "                        <td id=\"T_361946e8_d4aa_11ea_9eac_84fdd1e63b41row9_col0\" class=\"data row9 col0\" >High Cardinality Method </td>\n",
       "                        <td id=\"T_361946e8_d4aa_11ea_9eac_84fdd1e63b41row9_col1\" class=\"data row9 col1\" >None</td>\n",
       "            </tr>\n",
       "            <tr>\n",
       "                        <th id=\"T_361946e8_d4aa_11ea_9eac_84fdd1e63b41level0_row10\" class=\"row_heading level0 row10\" >10</th>\n",
       "                        <td id=\"T_361946e8_d4aa_11ea_9eac_84fdd1e63b41row10_col0\" class=\"data row10 col0\" >Sampled Data</td>\n",
       "                        <td id=\"T_361946e8_d4aa_11ea_9eac_84fdd1e63b41row10_col1\" class=\"data row10 col1\" >(8068, 28)</td>\n",
       "            </tr>\n",
       "            <tr>\n",
       "                        <th id=\"T_361946e8_d4aa_11ea_9eac_84fdd1e63b41level0_row11\" class=\"row_heading level0 row11\" >11</th>\n",
       "                        <td id=\"T_361946e8_d4aa_11ea_9eac_84fdd1e63b41row11_col0\" class=\"data row11 col0\" >Transformed Train Set</td>\n",
       "                        <td id=\"T_361946e8_d4aa_11ea_9eac_84fdd1e63b41row11_col1\" class=\"data row11 col1\" >(5647, 21)</td>\n",
       "            </tr>\n",
       "            <tr>\n",
       "                        <th id=\"T_361946e8_d4aa_11ea_9eac_84fdd1e63b41level0_row12\" class=\"row_heading level0 row12\" >12</th>\n",
       "                        <td id=\"T_361946e8_d4aa_11ea_9eac_84fdd1e63b41row12_col0\" class=\"data row12 col0\" >Transformed Test Set</td>\n",
       "                        <td id=\"T_361946e8_d4aa_11ea_9eac_84fdd1e63b41row12_col1\" class=\"data row12 col1\" >(2421, 21)</td>\n",
       "            </tr>\n",
       "            <tr>\n",
       "                        <th id=\"T_361946e8_d4aa_11ea_9eac_84fdd1e63b41level0_row13\" class=\"row_heading level0 row13\" >13</th>\n",
       "                        <td id=\"T_361946e8_d4aa_11ea_9eac_84fdd1e63b41row13_col0\" class=\"data row13 col0\" >Numeric Imputer </td>\n",
       "                        <td id=\"T_361946e8_d4aa_11ea_9eac_84fdd1e63b41row13_col1\" class=\"data row13 col1\" >mean</td>\n",
       "            </tr>\n",
       "            <tr>\n",
       "                        <th id=\"T_361946e8_d4aa_11ea_9eac_84fdd1e63b41level0_row14\" class=\"row_heading level0 row14\" >14</th>\n",
       "                        <td id=\"T_361946e8_d4aa_11ea_9eac_84fdd1e63b41row14_col0\" class=\"data row14 col0\" >Categorical Imputer </td>\n",
       "                        <td id=\"T_361946e8_d4aa_11ea_9eac_84fdd1e63b41row14_col1\" class=\"data row14 col1\" >constant</td>\n",
       "            </tr>\n",
       "            <tr>\n",
       "                        <th id=\"T_361946e8_d4aa_11ea_9eac_84fdd1e63b41level0_row15\" class=\"row_heading level0 row15\" >15</th>\n",
       "                        <td id=\"T_361946e8_d4aa_11ea_9eac_84fdd1e63b41row15_col0\" class=\"data row15 col0\" >Normalize </td>\n",
       "                        <td id=\"T_361946e8_d4aa_11ea_9eac_84fdd1e63b41row15_col1\" class=\"data row15 col1\" >True</td>\n",
       "            </tr>\n",
       "            <tr>\n",
       "                        <th id=\"T_361946e8_d4aa_11ea_9eac_84fdd1e63b41level0_row16\" class=\"row_heading level0 row16\" >16</th>\n",
       "                        <td id=\"T_361946e8_d4aa_11ea_9eac_84fdd1e63b41row16_col0\" class=\"data row16 col0\" >Normalize Method </td>\n",
       "                        <td id=\"T_361946e8_d4aa_11ea_9eac_84fdd1e63b41row16_col1\" class=\"data row16 col1\" >zscore</td>\n",
       "            </tr>\n",
       "            <tr>\n",
       "                        <th id=\"T_361946e8_d4aa_11ea_9eac_84fdd1e63b41level0_row17\" class=\"row_heading level0 row17\" >17</th>\n",
       "                        <td id=\"T_361946e8_d4aa_11ea_9eac_84fdd1e63b41row17_col0\" class=\"data row17 col0\" >Transformation </td>\n",
       "                        <td id=\"T_361946e8_d4aa_11ea_9eac_84fdd1e63b41row17_col1\" class=\"data row17 col1\" >True</td>\n",
       "            </tr>\n",
       "            <tr>\n",
       "                        <th id=\"T_361946e8_d4aa_11ea_9eac_84fdd1e63b41level0_row18\" class=\"row_heading level0 row18\" >18</th>\n",
       "                        <td id=\"T_361946e8_d4aa_11ea_9eac_84fdd1e63b41row18_col0\" class=\"data row18 col0\" >Transformation Method </td>\n",
       "                        <td id=\"T_361946e8_d4aa_11ea_9eac_84fdd1e63b41row18_col1\" class=\"data row18 col1\" >yeo-johnson</td>\n",
       "            </tr>\n",
       "            <tr>\n",
       "                        <th id=\"T_361946e8_d4aa_11ea_9eac_84fdd1e63b41level0_row19\" class=\"row_heading level0 row19\" >19</th>\n",
       "                        <td id=\"T_361946e8_d4aa_11ea_9eac_84fdd1e63b41row19_col0\" class=\"data row19 col0\" >PCA </td>\n",
       "                        <td id=\"T_361946e8_d4aa_11ea_9eac_84fdd1e63b41row19_col1\" class=\"data row19 col1\" >False</td>\n",
       "            </tr>\n",
       "            <tr>\n",
       "                        <th id=\"T_361946e8_d4aa_11ea_9eac_84fdd1e63b41level0_row20\" class=\"row_heading level0 row20\" >20</th>\n",
       "                        <td id=\"T_361946e8_d4aa_11ea_9eac_84fdd1e63b41row20_col0\" class=\"data row20 col0\" >PCA Method </td>\n",
       "                        <td id=\"T_361946e8_d4aa_11ea_9eac_84fdd1e63b41row20_col1\" class=\"data row20 col1\" >None</td>\n",
       "            </tr>\n",
       "            <tr>\n",
       "                        <th id=\"T_361946e8_d4aa_11ea_9eac_84fdd1e63b41level0_row21\" class=\"row_heading level0 row21\" >21</th>\n",
       "                        <td id=\"T_361946e8_d4aa_11ea_9eac_84fdd1e63b41row21_col0\" class=\"data row21 col0\" >PCA Components </td>\n",
       "                        <td id=\"T_361946e8_d4aa_11ea_9eac_84fdd1e63b41row21_col1\" class=\"data row21 col1\" >None</td>\n",
       "            </tr>\n",
       "            <tr>\n",
       "                        <th id=\"T_361946e8_d4aa_11ea_9eac_84fdd1e63b41level0_row22\" class=\"row_heading level0 row22\" >22</th>\n",
       "                        <td id=\"T_361946e8_d4aa_11ea_9eac_84fdd1e63b41row22_col0\" class=\"data row22 col0\" >Ignore Low Variance </td>\n",
       "                        <td id=\"T_361946e8_d4aa_11ea_9eac_84fdd1e63b41row22_col1\" class=\"data row22 col1\" >True</td>\n",
       "            </tr>\n",
       "            <tr>\n",
       "                        <th id=\"T_361946e8_d4aa_11ea_9eac_84fdd1e63b41level0_row23\" class=\"row_heading level0 row23\" >23</th>\n",
       "                        <td id=\"T_361946e8_d4aa_11ea_9eac_84fdd1e63b41row23_col0\" class=\"data row23 col0\" >Combine Rare Levels </td>\n",
       "                        <td id=\"T_361946e8_d4aa_11ea_9eac_84fdd1e63b41row23_col1\" class=\"data row23 col1\" >False</td>\n",
       "            </tr>\n",
       "            <tr>\n",
       "                        <th id=\"T_361946e8_d4aa_11ea_9eac_84fdd1e63b41level0_row24\" class=\"row_heading level0 row24\" >24</th>\n",
       "                        <td id=\"T_361946e8_d4aa_11ea_9eac_84fdd1e63b41row24_col0\" class=\"data row24 col0\" >Rare Level Threshold </td>\n",
       "                        <td id=\"T_361946e8_d4aa_11ea_9eac_84fdd1e63b41row24_col1\" class=\"data row24 col1\" >None</td>\n",
       "            </tr>\n",
       "            <tr>\n",
       "                        <th id=\"T_361946e8_d4aa_11ea_9eac_84fdd1e63b41level0_row25\" class=\"row_heading level0 row25\" >25</th>\n",
       "                        <td id=\"T_361946e8_d4aa_11ea_9eac_84fdd1e63b41row25_col0\" class=\"data row25 col0\" >Numeric Binning </td>\n",
       "                        <td id=\"T_361946e8_d4aa_11ea_9eac_84fdd1e63b41row25_col1\" class=\"data row25 col1\" >False</td>\n",
       "            </tr>\n",
       "            <tr>\n",
       "                        <th id=\"T_361946e8_d4aa_11ea_9eac_84fdd1e63b41level0_row26\" class=\"row_heading level0 row26\" >26</th>\n",
       "                        <td id=\"T_361946e8_d4aa_11ea_9eac_84fdd1e63b41row26_col0\" class=\"data row26 col0\" >Remove Outliers </td>\n",
       "                        <td id=\"T_361946e8_d4aa_11ea_9eac_84fdd1e63b41row26_col1\" class=\"data row26 col1\" >False</td>\n",
       "            </tr>\n",
       "            <tr>\n",
       "                        <th id=\"T_361946e8_d4aa_11ea_9eac_84fdd1e63b41level0_row27\" class=\"row_heading level0 row27\" >27</th>\n",
       "                        <td id=\"T_361946e8_d4aa_11ea_9eac_84fdd1e63b41row27_col0\" class=\"data row27 col0\" >Outliers Threshold </td>\n",
       "                        <td id=\"T_361946e8_d4aa_11ea_9eac_84fdd1e63b41row27_col1\" class=\"data row27 col1\" >None</td>\n",
       "            </tr>\n",
       "            <tr>\n",
       "                        <th id=\"T_361946e8_d4aa_11ea_9eac_84fdd1e63b41level0_row28\" class=\"row_heading level0 row28\" >28</th>\n",
       "                        <td id=\"T_361946e8_d4aa_11ea_9eac_84fdd1e63b41row28_col0\" class=\"data row28 col0\" >Remove Multicollinearity </td>\n",
       "                        <td id=\"T_361946e8_d4aa_11ea_9eac_84fdd1e63b41row28_col1\" class=\"data row28 col1\" >False</td>\n",
       "            </tr>\n",
       "            <tr>\n",
       "                        <th id=\"T_361946e8_d4aa_11ea_9eac_84fdd1e63b41level0_row29\" class=\"row_heading level0 row29\" >29</th>\n",
       "                        <td id=\"T_361946e8_d4aa_11ea_9eac_84fdd1e63b41row29_col0\" class=\"data row29 col0\" >Multicollinearity Threshold </td>\n",
       "                        <td id=\"T_361946e8_d4aa_11ea_9eac_84fdd1e63b41row29_col1\" class=\"data row29 col1\" >None</td>\n",
       "            </tr>\n",
       "            <tr>\n",
       "                        <th id=\"T_361946e8_d4aa_11ea_9eac_84fdd1e63b41level0_row30\" class=\"row_heading level0 row30\" >30</th>\n",
       "                        <td id=\"T_361946e8_d4aa_11ea_9eac_84fdd1e63b41row30_col0\" class=\"data row30 col0\" >Clustering </td>\n",
       "                        <td id=\"T_361946e8_d4aa_11ea_9eac_84fdd1e63b41row30_col1\" class=\"data row30 col1\" >False</td>\n",
       "            </tr>\n",
       "            <tr>\n",
       "                        <th id=\"T_361946e8_d4aa_11ea_9eac_84fdd1e63b41level0_row31\" class=\"row_heading level0 row31\" >31</th>\n",
       "                        <td id=\"T_361946e8_d4aa_11ea_9eac_84fdd1e63b41row31_col0\" class=\"data row31 col0\" >Clustering Iteration </td>\n",
       "                        <td id=\"T_361946e8_d4aa_11ea_9eac_84fdd1e63b41row31_col1\" class=\"data row31 col1\" >None</td>\n",
       "            </tr>\n",
       "            <tr>\n",
       "                        <th id=\"T_361946e8_d4aa_11ea_9eac_84fdd1e63b41level0_row32\" class=\"row_heading level0 row32\" >32</th>\n",
       "                        <td id=\"T_361946e8_d4aa_11ea_9eac_84fdd1e63b41row32_col0\" class=\"data row32 col0\" >Polynomial Features </td>\n",
       "                        <td id=\"T_361946e8_d4aa_11ea_9eac_84fdd1e63b41row32_col1\" class=\"data row32 col1\" >False</td>\n",
       "            </tr>\n",
       "            <tr>\n",
       "                        <th id=\"T_361946e8_d4aa_11ea_9eac_84fdd1e63b41level0_row33\" class=\"row_heading level0 row33\" >33</th>\n",
       "                        <td id=\"T_361946e8_d4aa_11ea_9eac_84fdd1e63b41row33_col0\" class=\"data row33 col0\" >Polynomial Degree </td>\n",
       "                        <td id=\"T_361946e8_d4aa_11ea_9eac_84fdd1e63b41row33_col1\" class=\"data row33 col1\" >None</td>\n",
       "            </tr>\n",
       "            <tr>\n",
       "                        <th id=\"T_361946e8_d4aa_11ea_9eac_84fdd1e63b41level0_row34\" class=\"row_heading level0 row34\" >34</th>\n",
       "                        <td id=\"T_361946e8_d4aa_11ea_9eac_84fdd1e63b41row34_col0\" class=\"data row34 col0\" >Trignometry Features </td>\n",
       "                        <td id=\"T_361946e8_d4aa_11ea_9eac_84fdd1e63b41row34_col1\" class=\"data row34 col1\" >False</td>\n",
       "            </tr>\n",
       "            <tr>\n",
       "                        <th id=\"T_361946e8_d4aa_11ea_9eac_84fdd1e63b41level0_row35\" class=\"row_heading level0 row35\" >35</th>\n",
       "                        <td id=\"T_361946e8_d4aa_11ea_9eac_84fdd1e63b41row35_col0\" class=\"data row35 col0\" >Polynomial Threshold </td>\n",
       "                        <td id=\"T_361946e8_d4aa_11ea_9eac_84fdd1e63b41row35_col1\" class=\"data row35 col1\" >None</td>\n",
       "            </tr>\n",
       "            <tr>\n",
       "                        <th id=\"T_361946e8_d4aa_11ea_9eac_84fdd1e63b41level0_row36\" class=\"row_heading level0 row36\" >36</th>\n",
       "                        <td id=\"T_361946e8_d4aa_11ea_9eac_84fdd1e63b41row36_col0\" class=\"data row36 col0\" >Group Features </td>\n",
       "                        <td id=\"T_361946e8_d4aa_11ea_9eac_84fdd1e63b41row36_col1\" class=\"data row36 col1\" >False</td>\n",
       "            </tr>\n",
       "            <tr>\n",
       "                        <th id=\"T_361946e8_d4aa_11ea_9eac_84fdd1e63b41level0_row37\" class=\"row_heading level0 row37\" >37</th>\n",
       "                        <td id=\"T_361946e8_d4aa_11ea_9eac_84fdd1e63b41row37_col0\" class=\"data row37 col0\" >Feature Selection </td>\n",
       "                        <td id=\"T_361946e8_d4aa_11ea_9eac_84fdd1e63b41row37_col1\" class=\"data row37 col1\" >False</td>\n",
       "            </tr>\n",
       "            <tr>\n",
       "                        <th id=\"T_361946e8_d4aa_11ea_9eac_84fdd1e63b41level0_row38\" class=\"row_heading level0 row38\" >38</th>\n",
       "                        <td id=\"T_361946e8_d4aa_11ea_9eac_84fdd1e63b41row38_col0\" class=\"data row38 col0\" >Features Selection Threshold </td>\n",
       "                        <td id=\"T_361946e8_d4aa_11ea_9eac_84fdd1e63b41row38_col1\" class=\"data row38 col1\" >None</td>\n",
       "            </tr>\n",
       "            <tr>\n",
       "                        <th id=\"T_361946e8_d4aa_11ea_9eac_84fdd1e63b41level0_row39\" class=\"row_heading level0 row39\" >39</th>\n",
       "                        <td id=\"T_361946e8_d4aa_11ea_9eac_84fdd1e63b41row39_col0\" class=\"data row39 col0\" >Feature Interaction </td>\n",
       "                        <td id=\"T_361946e8_d4aa_11ea_9eac_84fdd1e63b41row39_col1\" class=\"data row39 col1\" >False</td>\n",
       "            </tr>\n",
       "            <tr>\n",
       "                        <th id=\"T_361946e8_d4aa_11ea_9eac_84fdd1e63b41level0_row40\" class=\"row_heading level0 row40\" >40</th>\n",
       "                        <td id=\"T_361946e8_d4aa_11ea_9eac_84fdd1e63b41row40_col0\" class=\"data row40 col0\" >Feature Ratio </td>\n",
       "                        <td id=\"T_361946e8_d4aa_11ea_9eac_84fdd1e63b41row40_col1\" class=\"data row40 col1\" >False</td>\n",
       "            </tr>\n",
       "            <tr>\n",
       "                        <th id=\"T_361946e8_d4aa_11ea_9eac_84fdd1e63b41level0_row41\" class=\"row_heading level0 row41\" >41</th>\n",
       "                        <td id=\"T_361946e8_d4aa_11ea_9eac_84fdd1e63b41row41_col0\" class=\"data row41 col0\" >Interaction Threshold </td>\n",
       "                        <td id=\"T_361946e8_d4aa_11ea_9eac_84fdd1e63b41row41_col1\" class=\"data row41 col1\" >None</td>\n",
       "            </tr>\n",
       "            <tr>\n",
       "                        <th id=\"T_361946e8_d4aa_11ea_9eac_84fdd1e63b41level0_row42\" class=\"row_heading level0 row42\" >42</th>\n",
       "                        <td id=\"T_361946e8_d4aa_11ea_9eac_84fdd1e63b41row42_col0\" class=\"data row42 col0\" >Fix Imbalance</td>\n",
       "                        <td id=\"T_361946e8_d4aa_11ea_9eac_84fdd1e63b41row42_col1\" class=\"data row42 col1\" >False</td>\n",
       "            </tr>\n",
       "            <tr>\n",
       "                        <th id=\"T_361946e8_d4aa_11ea_9eac_84fdd1e63b41level0_row43\" class=\"row_heading level0 row43\" >43</th>\n",
       "                        <td id=\"T_361946e8_d4aa_11ea_9eac_84fdd1e63b41row43_col0\" class=\"data row43 col0\" >Fix Imbalance Method</td>\n",
       "                        <td id=\"T_361946e8_d4aa_11ea_9eac_84fdd1e63b41row43_col1\" class=\"data row43 col1\" >SMOTE</td>\n",
       "            </tr>\n",
       "    </tbody></table>"
      ],
      "text/plain": [
       "<pandas.io.formats.style.Styler at 0x25939061ef0>"
      ]
     },
     "metadata": {},
     "output_type": "display_data"
    }
   ],
   "source": [
    "#import classification module\n",
    "from pycaret.classification import *\n",
    "#intialize the setup\n",
    "exp_clf = setup(df_final_train, target = 'Segmentation',ignore_features=['ID'],normalize = True, \n",
    "                  transformation = True, \n",
    "                  ignore_low_variance = True)"
   ]
  },
  {
   "cell_type": "code",
   "execution_count": 37,
   "metadata": {
    "ExecuteTime": {
     "end_time": "2020-08-02T10:14:38.580008Z",
     "start_time": "2020-08-02T10:14:35.288933Z"
    }
   },
   "outputs": [
    {
     "name": "stdout",
     "output_type": "stream",
     "text": [
      "Requirement already satisfied: llvmlite in c:\\users\\balaji\\appdata\\local\\continuum\\anaconda3\\lib\\site-packages (0.29.0)\n"
     ]
    }
   ],
   "source": [
    "#! pip install  llvmlite --user    --trusted-host pypi.org --trusted-host files.pythonhosted.org"
   ]
  },
  {
   "cell_type": "code",
   "execution_count": null,
   "metadata": {
    "ExecuteTime": {
     "end_time": "2020-08-02T06:34:28.781662Z",
     "start_time": "2020-08-02T06:34:28.778673Z"
    }
   },
   "outputs": [],
   "source": [
    "#! pip install   pandas --upgrade --user    --trusted-host pypi.org --trusted-host files.pythonhosted.org"
   ]
  },
  {
   "cell_type": "code",
   "execution_count": 41,
   "metadata": {
    "ExecuteTime": {
     "end_time": "2020-08-02T10:27:32.854800Z",
     "start_time": "2020-08-02T10:23:48.294362Z"
    }
   },
   "outputs": [
    {
     "data": {
      "text/html": [
       "<style  type=\"text/css\" >\n",
       "    #T_c680a438_d4aa_11ea_bfae_84fdd1e63b41 th {\n",
       "          text-align: left;\n",
       "    }#T_c680a438_d4aa_11ea_bfae_84fdd1e63b41row0_col0,#T_c680a438_d4aa_11ea_bfae_84fdd1e63b41row0_col2,#T_c680a438_d4aa_11ea_bfae_84fdd1e63b41row1_col0,#T_c680a438_d4aa_11ea_bfae_84fdd1e63b41row1_col1,#T_c680a438_d4aa_11ea_bfae_84fdd1e63b41row1_col2,#T_c680a438_d4aa_11ea_bfae_84fdd1e63b41row1_col3,#T_c680a438_d4aa_11ea_bfae_84fdd1e63b41row1_col4,#T_c680a438_d4aa_11ea_bfae_84fdd1e63b41row1_col5,#T_c680a438_d4aa_11ea_bfae_84fdd1e63b41row1_col6,#T_c680a438_d4aa_11ea_bfae_84fdd1e63b41row1_col7,#T_c680a438_d4aa_11ea_bfae_84fdd1e63b41row2_col0,#T_c680a438_d4aa_11ea_bfae_84fdd1e63b41row2_col1,#T_c680a438_d4aa_11ea_bfae_84fdd1e63b41row2_col2,#T_c680a438_d4aa_11ea_bfae_84fdd1e63b41row2_col3,#T_c680a438_d4aa_11ea_bfae_84fdd1e63b41row2_col4,#T_c680a438_d4aa_11ea_bfae_84fdd1e63b41row2_col5,#T_c680a438_d4aa_11ea_bfae_84fdd1e63b41row2_col6,#T_c680a438_d4aa_11ea_bfae_84fdd1e63b41row2_col7,#T_c680a438_d4aa_11ea_bfae_84fdd1e63b41row3_col0,#T_c680a438_d4aa_11ea_bfae_84fdd1e63b41row3_col1,#T_c680a438_d4aa_11ea_bfae_84fdd1e63b41row3_col2,#T_c680a438_d4aa_11ea_bfae_84fdd1e63b41row3_col3,#T_c680a438_d4aa_11ea_bfae_84fdd1e63b41row3_col4,#T_c680a438_d4aa_11ea_bfae_84fdd1e63b41row3_col5,#T_c680a438_d4aa_11ea_bfae_84fdd1e63b41row3_col6,#T_c680a438_d4aa_11ea_bfae_84fdd1e63b41row3_col7,#T_c680a438_d4aa_11ea_bfae_84fdd1e63b41row4_col0,#T_c680a438_d4aa_11ea_bfae_84fdd1e63b41row4_col1,#T_c680a438_d4aa_11ea_bfae_84fdd1e63b41row4_col2,#T_c680a438_d4aa_11ea_bfae_84fdd1e63b41row4_col3,#T_c680a438_d4aa_11ea_bfae_84fdd1e63b41row4_col4,#T_c680a438_d4aa_11ea_bfae_84fdd1e63b41row4_col5,#T_c680a438_d4aa_11ea_bfae_84fdd1e63b41row4_col6,#T_c680a438_d4aa_11ea_bfae_84fdd1e63b41row4_col7,#T_c680a438_d4aa_11ea_bfae_84fdd1e63b41row5_col0,#T_c680a438_d4aa_11ea_bfae_84fdd1e63b41row5_col1,#T_c680a438_d4aa_11ea_bfae_84fdd1e63b41row5_col2,#T_c680a438_d4aa_11ea_bfae_84fdd1e63b41row5_col3,#T_c680a438_d4aa_11ea_bfae_84fdd1e63b41row5_col4,#T_c680a438_d4aa_11ea_bfae_84fdd1e63b41row5_col5,#T_c680a438_d4aa_11ea_bfae_84fdd1e63b41row5_col6,#T_c680a438_d4aa_11ea_bfae_84fdd1e63b41row5_col7,#T_c680a438_d4aa_11ea_bfae_84fdd1e63b41row6_col0,#T_c680a438_d4aa_11ea_bfae_84fdd1e63b41row6_col1,#T_c680a438_d4aa_11ea_bfae_84fdd1e63b41row6_col2,#T_c680a438_d4aa_11ea_bfae_84fdd1e63b41row6_col3,#T_c680a438_d4aa_11ea_bfae_84fdd1e63b41row6_col4,#T_c680a438_d4aa_11ea_bfae_84fdd1e63b41row6_col5,#T_c680a438_d4aa_11ea_bfae_84fdd1e63b41row6_col6,#T_c680a438_d4aa_11ea_bfae_84fdd1e63b41row6_col7,#T_c680a438_d4aa_11ea_bfae_84fdd1e63b41row7_col0,#T_c680a438_d4aa_11ea_bfae_84fdd1e63b41row7_col1,#T_c680a438_d4aa_11ea_bfae_84fdd1e63b41row7_col2,#T_c680a438_d4aa_11ea_bfae_84fdd1e63b41row7_col3,#T_c680a438_d4aa_11ea_bfae_84fdd1e63b41row7_col4,#T_c680a438_d4aa_11ea_bfae_84fdd1e63b41row7_col5,#T_c680a438_d4aa_11ea_bfae_84fdd1e63b41row7_col6,#T_c680a438_d4aa_11ea_bfae_84fdd1e63b41row7_col7,#T_c680a438_d4aa_11ea_bfae_84fdd1e63b41row8_col0,#T_c680a438_d4aa_11ea_bfae_84fdd1e63b41row8_col1,#T_c680a438_d4aa_11ea_bfae_84fdd1e63b41row8_col2,#T_c680a438_d4aa_11ea_bfae_84fdd1e63b41row8_col3,#T_c680a438_d4aa_11ea_bfae_84fdd1e63b41row8_col4,#T_c680a438_d4aa_11ea_bfae_84fdd1e63b41row8_col5,#T_c680a438_d4aa_11ea_bfae_84fdd1e63b41row8_col6,#T_c680a438_d4aa_11ea_bfae_84fdd1e63b41row8_col7,#T_c680a438_d4aa_11ea_bfae_84fdd1e63b41row9_col0,#T_c680a438_d4aa_11ea_bfae_84fdd1e63b41row9_col1,#T_c680a438_d4aa_11ea_bfae_84fdd1e63b41row9_col2,#T_c680a438_d4aa_11ea_bfae_84fdd1e63b41row9_col3,#T_c680a438_d4aa_11ea_bfae_84fdd1e63b41row9_col4,#T_c680a438_d4aa_11ea_bfae_84fdd1e63b41row9_col5,#T_c680a438_d4aa_11ea_bfae_84fdd1e63b41row9_col6,#T_c680a438_d4aa_11ea_bfae_84fdd1e63b41row9_col7,#T_c680a438_d4aa_11ea_bfae_84fdd1e63b41row10_col0,#T_c680a438_d4aa_11ea_bfae_84fdd1e63b41row10_col1,#T_c680a438_d4aa_11ea_bfae_84fdd1e63b41row10_col2,#T_c680a438_d4aa_11ea_bfae_84fdd1e63b41row10_col3,#T_c680a438_d4aa_11ea_bfae_84fdd1e63b41row10_col4,#T_c680a438_d4aa_11ea_bfae_84fdd1e63b41row10_col5,#T_c680a438_d4aa_11ea_bfae_84fdd1e63b41row10_col6,#T_c680a438_d4aa_11ea_bfae_84fdd1e63b41row10_col7,#T_c680a438_d4aa_11ea_bfae_84fdd1e63b41row11_col0,#T_c680a438_d4aa_11ea_bfae_84fdd1e63b41row11_col1,#T_c680a438_d4aa_11ea_bfae_84fdd1e63b41row11_col2,#T_c680a438_d4aa_11ea_bfae_84fdd1e63b41row11_col3,#T_c680a438_d4aa_11ea_bfae_84fdd1e63b41row11_col4,#T_c680a438_d4aa_11ea_bfae_84fdd1e63b41row11_col5,#T_c680a438_d4aa_11ea_bfae_84fdd1e63b41row11_col6,#T_c680a438_d4aa_11ea_bfae_84fdd1e63b41row11_col7,#T_c680a438_d4aa_11ea_bfae_84fdd1e63b41row12_col0,#T_c680a438_d4aa_11ea_bfae_84fdd1e63b41row12_col1,#T_c680a438_d4aa_11ea_bfae_84fdd1e63b41row12_col2,#T_c680a438_d4aa_11ea_bfae_84fdd1e63b41row12_col3,#T_c680a438_d4aa_11ea_bfae_84fdd1e63b41row12_col4,#T_c680a438_d4aa_11ea_bfae_84fdd1e63b41row12_col5,#T_c680a438_d4aa_11ea_bfae_84fdd1e63b41row12_col6,#T_c680a438_d4aa_11ea_bfae_84fdd1e63b41row12_col7,#T_c680a438_d4aa_11ea_bfae_84fdd1e63b41row13_col0,#T_c680a438_d4aa_11ea_bfae_84fdd1e63b41row13_col1,#T_c680a438_d4aa_11ea_bfae_84fdd1e63b41row13_col2,#T_c680a438_d4aa_11ea_bfae_84fdd1e63b41row13_col3,#T_c680a438_d4aa_11ea_bfae_84fdd1e63b41row13_col4,#T_c680a438_d4aa_11ea_bfae_84fdd1e63b41row13_col5,#T_c680a438_d4aa_11ea_bfae_84fdd1e63b41row13_col6,#T_c680a438_d4aa_11ea_bfae_84fdd1e63b41row13_col7,#T_c680a438_d4aa_11ea_bfae_84fdd1e63b41row14_col0,#T_c680a438_d4aa_11ea_bfae_84fdd1e63b41row14_col1,#T_c680a438_d4aa_11ea_bfae_84fdd1e63b41row14_col2,#T_c680a438_d4aa_11ea_bfae_84fdd1e63b41row14_col3,#T_c680a438_d4aa_11ea_bfae_84fdd1e63b41row14_col4,#T_c680a438_d4aa_11ea_bfae_84fdd1e63b41row14_col5,#T_c680a438_d4aa_11ea_bfae_84fdd1e63b41row14_col6,#T_c680a438_d4aa_11ea_bfae_84fdd1e63b41row14_col7{\n",
       "            text-align:  left;\n",
       "        }#T_c680a438_d4aa_11ea_bfae_84fdd1e63b41row0_col1,#T_c680a438_d4aa_11ea_bfae_84fdd1e63b41row0_col3,#T_c680a438_d4aa_11ea_bfae_84fdd1e63b41row0_col4,#T_c680a438_d4aa_11ea_bfae_84fdd1e63b41row0_col5,#T_c680a438_d4aa_11ea_bfae_84fdd1e63b41row0_col6,#T_c680a438_d4aa_11ea_bfae_84fdd1e63b41row0_col7{\n",
       "            background-color:  yellow;\n",
       "            text-align:  left;\n",
       "        }#T_c680a438_d4aa_11ea_bfae_84fdd1e63b41row0_col8,#T_c680a438_d4aa_11ea_bfae_84fdd1e63b41row1_col8,#T_c680a438_d4aa_11ea_bfae_84fdd1e63b41row2_col8,#T_c680a438_d4aa_11ea_bfae_84fdd1e63b41row3_col8,#T_c680a438_d4aa_11ea_bfae_84fdd1e63b41row4_col8,#T_c680a438_d4aa_11ea_bfae_84fdd1e63b41row5_col8,#T_c680a438_d4aa_11ea_bfae_84fdd1e63b41row6_col8,#T_c680a438_d4aa_11ea_bfae_84fdd1e63b41row7_col8,#T_c680a438_d4aa_11ea_bfae_84fdd1e63b41row8_col8,#T_c680a438_d4aa_11ea_bfae_84fdd1e63b41row9_col8,#T_c680a438_d4aa_11ea_bfae_84fdd1e63b41row10_col8,#T_c680a438_d4aa_11ea_bfae_84fdd1e63b41row11_col8,#T_c680a438_d4aa_11ea_bfae_84fdd1e63b41row12_col8,#T_c680a438_d4aa_11ea_bfae_84fdd1e63b41row13_col8,#T_c680a438_d4aa_11ea_bfae_84fdd1e63b41row14_col8{\n",
       "            background-color:  lightgrey;\n",
       "            text-align:  left;\n",
       "        }</style><table id=\"T_c680a438_d4aa_11ea_bfae_84fdd1e63b41\" ><thead>    <tr>        <th class=\"blank level0\" ></th>        <th class=\"col_heading level0 col0\" >Model</th>        <th class=\"col_heading level0 col1\" >Accuracy</th>        <th class=\"col_heading level0 col2\" >AUC</th>        <th class=\"col_heading level0 col3\" >Recall</th>        <th class=\"col_heading level0 col4\" >Prec.</th>        <th class=\"col_heading level0 col5\" >F1</th>        <th class=\"col_heading level0 col6\" >Kappa</th>        <th class=\"col_heading level0 col7\" >MCC</th>        <th class=\"col_heading level0 col8\" >TT (Sec)</th>    </tr></thead><tbody>\n",
       "                <tr>\n",
       "                        <th id=\"T_c680a438_d4aa_11ea_bfae_84fdd1e63b41level0_row0\" class=\"row_heading level0 row0\" >0</th>\n",
       "                        <td id=\"T_c680a438_d4aa_11ea_bfae_84fdd1e63b41row0_col0\" class=\"data row0 col0\" >Gradient Boosting Classifier</td>\n",
       "                        <td id=\"T_c680a438_d4aa_11ea_bfae_84fdd1e63b41row0_col1\" class=\"data row0 col1\" >0.5222</td>\n",
       "                        <td id=\"T_c680a438_d4aa_11ea_bfae_84fdd1e63b41row0_col2\" class=\"data row0 col2\" >0.0000</td>\n",
       "                        <td id=\"T_c680a438_d4aa_11ea_bfae_84fdd1e63b41row0_col3\" class=\"data row0 col3\" >0.5114</td>\n",
       "                        <td id=\"T_c680a438_d4aa_11ea_bfae_84fdd1e63b41row0_col4\" class=\"data row0 col4\" >0.5112</td>\n",
       "                        <td id=\"T_c680a438_d4aa_11ea_bfae_84fdd1e63b41row0_col5\" class=\"data row0 col5\" >0.5128</td>\n",
       "                        <td id=\"T_c680a438_d4aa_11ea_bfae_84fdd1e63b41row0_col6\" class=\"data row0 col6\" >0.3595</td>\n",
       "                        <td id=\"T_c680a438_d4aa_11ea_bfae_84fdd1e63b41row0_col7\" class=\"data row0 col7\" >0.3614</td>\n",
       "                        <td id=\"T_c680a438_d4aa_11ea_bfae_84fdd1e63b41row0_col8\" class=\"data row0 col8\" >1.7563</td>\n",
       "            </tr>\n",
       "            <tr>\n",
       "                        <th id=\"T_c680a438_d4aa_11ea_bfae_84fdd1e63b41level0_row1\" class=\"row_heading level0 row1\" >1</th>\n",
       "                        <td id=\"T_c680a438_d4aa_11ea_bfae_84fdd1e63b41row1_col0\" class=\"data row1 col0\" >Extreme Gradient Boosting</td>\n",
       "                        <td id=\"T_c680a438_d4aa_11ea_bfae_84fdd1e63b41row1_col1\" class=\"data row1 col1\" >0.5212</td>\n",
       "                        <td id=\"T_c680a438_d4aa_11ea_bfae_84fdd1e63b41row1_col2\" class=\"data row1 col2\" >0.0000</td>\n",
       "                        <td id=\"T_c680a438_d4aa_11ea_bfae_84fdd1e63b41row1_col3\" class=\"data row1 col3\" >0.5102</td>\n",
       "                        <td id=\"T_c680a438_d4aa_11ea_bfae_84fdd1e63b41row1_col4\" class=\"data row1 col4\" >0.5100</td>\n",
       "                        <td id=\"T_c680a438_d4aa_11ea_bfae_84fdd1e63b41row1_col5\" class=\"data row1 col5\" >0.5106</td>\n",
       "                        <td id=\"T_c680a438_d4aa_11ea_bfae_84fdd1e63b41row1_col6\" class=\"data row1 col6\" >0.3580</td>\n",
       "                        <td id=\"T_c680a438_d4aa_11ea_bfae_84fdd1e63b41row1_col7\" class=\"data row1 col7\" >0.3603</td>\n",
       "                        <td id=\"T_c680a438_d4aa_11ea_bfae_84fdd1e63b41row1_col8\" class=\"data row1 col8\" >0.7519</td>\n",
       "            </tr>\n",
       "            <tr>\n",
       "                        <th id=\"T_c680a438_d4aa_11ea_bfae_84fdd1e63b41level0_row2\" class=\"row_heading level0 row2\" >2</th>\n",
       "                        <td id=\"T_c680a438_d4aa_11ea_bfae_84fdd1e63b41row2_col0\" class=\"data row2 col0\" >CatBoost Classifier</td>\n",
       "                        <td id=\"T_c680a438_d4aa_11ea_bfae_84fdd1e63b41row2_col1\" class=\"data row2 col1\" >0.5155</td>\n",
       "                        <td id=\"T_c680a438_d4aa_11ea_bfae_84fdd1e63b41row2_col2\" class=\"data row2 col2\" >0.0000</td>\n",
       "                        <td id=\"T_c680a438_d4aa_11ea_bfae_84fdd1e63b41row2_col3\" class=\"data row2 col3\" >0.5060</td>\n",
       "                        <td id=\"T_c680a438_d4aa_11ea_bfae_84fdd1e63b41row2_col4\" class=\"data row2 col4\" >0.5083</td>\n",
       "                        <td id=\"T_c680a438_d4aa_11ea_bfae_84fdd1e63b41row2_col5\" class=\"data row2 col5\" >0.5101</td>\n",
       "                        <td id=\"T_c680a438_d4aa_11ea_bfae_84fdd1e63b41row2_col6\" class=\"data row2 col6\" >0.3512</td>\n",
       "                        <td id=\"T_c680a438_d4aa_11ea_bfae_84fdd1e63b41row2_col7\" class=\"data row2 col7\" >0.3521</td>\n",
       "                        <td id=\"T_c680a438_d4aa_11ea_bfae_84fdd1e63b41row2_col8\" class=\"data row2 col8\" >12.6113</td>\n",
       "            </tr>\n",
       "            <tr>\n",
       "                        <th id=\"T_c680a438_d4aa_11ea_bfae_84fdd1e63b41level0_row3\" class=\"row_heading level0 row3\" >3</th>\n",
       "                        <td id=\"T_c680a438_d4aa_11ea_bfae_84fdd1e63b41row3_col0\" class=\"data row3 col0\" >Light Gradient Boosting Machine</td>\n",
       "                        <td id=\"T_c680a438_d4aa_11ea_bfae_84fdd1e63b41row3_col1\" class=\"data row3 col1\" >0.5114</td>\n",
       "                        <td id=\"T_c680a438_d4aa_11ea_bfae_84fdd1e63b41row3_col2\" class=\"data row3 col2\" >0.0000</td>\n",
       "                        <td id=\"T_c680a438_d4aa_11ea_bfae_84fdd1e63b41row3_col3\" class=\"data row3 col3\" >0.5010</td>\n",
       "                        <td id=\"T_c680a438_d4aa_11ea_bfae_84fdd1e63b41row3_col4\" class=\"data row3 col4\" >0.5020</td>\n",
       "                        <td id=\"T_c680a438_d4aa_11ea_bfae_84fdd1e63b41row3_col5\" class=\"data row3 col5\" >0.5045</td>\n",
       "                        <td id=\"T_c680a438_d4aa_11ea_bfae_84fdd1e63b41row3_col6\" class=\"data row3 col6\" >0.3453</td>\n",
       "                        <td id=\"T_c680a438_d4aa_11ea_bfae_84fdd1e63b41row3_col7\" class=\"data row3 col7\" >0.3464</td>\n",
       "                        <td id=\"T_c680a438_d4aa_11ea_bfae_84fdd1e63b41row3_col8\" class=\"data row3 col8\" >0.5034</td>\n",
       "            </tr>\n",
       "            <tr>\n",
       "                        <th id=\"T_c680a438_d4aa_11ea_bfae_84fdd1e63b41level0_row4\" class=\"row_heading level0 row4\" >4</th>\n",
       "                        <td id=\"T_c680a438_d4aa_11ea_bfae_84fdd1e63b41row4_col0\" class=\"data row4 col0\" >Logistic Regression</td>\n",
       "                        <td id=\"T_c680a438_d4aa_11ea_bfae_84fdd1e63b41row4_col1\" class=\"data row4 col1\" >0.5072</td>\n",
       "                        <td id=\"T_c680a438_d4aa_11ea_bfae_84fdd1e63b41row4_col2\" class=\"data row4 col2\" >0.0000</td>\n",
       "                        <td id=\"T_c680a438_d4aa_11ea_bfae_84fdd1e63b41row4_col3\" class=\"data row4 col3\" >0.4943</td>\n",
       "                        <td id=\"T_c680a438_d4aa_11ea_bfae_84fdd1e63b41row4_col4\" class=\"data row4 col4\" >0.4901</td>\n",
       "                        <td id=\"T_c680a438_d4aa_11ea_bfae_84fdd1e63b41row4_col5\" class=\"data row4 col5\" >0.4814</td>\n",
       "                        <td id=\"T_c680a438_d4aa_11ea_bfae_84fdd1e63b41row4_col6\" class=\"data row4 col6\" >0.3387</td>\n",
       "                        <td id=\"T_c680a438_d4aa_11ea_bfae_84fdd1e63b41row4_col7\" class=\"data row4 col7\" >0.3459</td>\n",
       "                        <td id=\"T_c680a438_d4aa_11ea_bfae_84fdd1e63b41row4_col8\" class=\"data row4 col8\" >0.1940</td>\n",
       "            </tr>\n",
       "            <tr>\n",
       "                        <th id=\"T_c680a438_d4aa_11ea_bfae_84fdd1e63b41level0_row5\" class=\"row_heading level0 row5\" >5</th>\n",
       "                        <td id=\"T_c680a438_d4aa_11ea_bfae_84fdd1e63b41row5_col0\" class=\"data row5 col0\" >Ada Boost Classifier</td>\n",
       "                        <td id=\"T_c680a438_d4aa_11ea_bfae_84fdd1e63b41row5_col1\" class=\"data row5 col1\" >0.5047</td>\n",
       "                        <td id=\"T_c680a438_d4aa_11ea_bfae_84fdd1e63b41row5_col2\" class=\"data row5 col2\" >0.0000</td>\n",
       "                        <td id=\"T_c680a438_d4aa_11ea_bfae_84fdd1e63b41row5_col3\" class=\"data row5 col3\" >0.4947</td>\n",
       "                        <td id=\"T_c680a438_d4aa_11ea_bfae_84fdd1e63b41row5_col4\" class=\"data row5 col4\" >0.4972</td>\n",
       "                        <td id=\"T_c680a438_d4aa_11ea_bfae_84fdd1e63b41row5_col5\" class=\"data row5 col5\" >0.4907</td>\n",
       "                        <td id=\"T_c680a438_d4aa_11ea_bfae_84fdd1e63b41row5_col6\" class=\"data row5 col6\" >0.3369</td>\n",
       "                        <td id=\"T_c680a438_d4aa_11ea_bfae_84fdd1e63b41row5_col7\" class=\"data row5 col7\" >0.3414</td>\n",
       "                        <td id=\"T_c680a438_d4aa_11ea_bfae_84fdd1e63b41row5_col8\" class=\"data row5 col8\" >0.7272</td>\n",
       "            </tr>\n",
       "            <tr>\n",
       "                        <th id=\"T_c680a438_d4aa_11ea_bfae_84fdd1e63b41level0_row6\" class=\"row_heading level0 row6\" >6</th>\n",
       "                        <td id=\"T_c680a438_d4aa_11ea_bfae_84fdd1e63b41row6_col0\" class=\"data row6 col0\" >Linear Discriminant Analysis</td>\n",
       "                        <td id=\"T_c680a438_d4aa_11ea_bfae_84fdd1e63b41row6_col1\" class=\"data row6 col1\" >0.5022</td>\n",
       "                        <td id=\"T_c680a438_d4aa_11ea_bfae_84fdd1e63b41row6_col2\" class=\"data row6 col2\" >0.0000</td>\n",
       "                        <td id=\"T_c680a438_d4aa_11ea_bfae_84fdd1e63b41row6_col3\" class=\"data row6 col3\" >0.4907</td>\n",
       "                        <td id=\"T_c680a438_d4aa_11ea_bfae_84fdd1e63b41row6_col4\" class=\"data row6 col4\" >0.4904</td>\n",
       "                        <td id=\"T_c680a438_d4aa_11ea_bfae_84fdd1e63b41row6_col5\" class=\"data row6 col5\" >0.4776</td>\n",
       "                        <td id=\"T_c680a438_d4aa_11ea_bfae_84fdd1e63b41row6_col6\" class=\"data row6 col6\" >0.3329</td>\n",
       "                        <td id=\"T_c680a438_d4aa_11ea_bfae_84fdd1e63b41row6_col7\" class=\"data row6 col7\" >0.3409</td>\n",
       "                        <td id=\"T_c680a438_d4aa_11ea_bfae_84fdd1e63b41row6_col8\" class=\"data row6 col8\" >0.0667</td>\n",
       "            </tr>\n",
       "            <tr>\n",
       "                        <th id=\"T_c680a438_d4aa_11ea_bfae_84fdd1e63b41level0_row7\" class=\"row_heading level0 row7\" >7</th>\n",
       "                        <td id=\"T_c680a438_d4aa_11ea_bfae_84fdd1e63b41row7_col0\" class=\"data row7 col0\" >Ridge Classifier</td>\n",
       "                        <td id=\"T_c680a438_d4aa_11ea_bfae_84fdd1e63b41row7_col1\" class=\"data row7 col1\" >0.4967</td>\n",
       "                        <td id=\"T_c680a438_d4aa_11ea_bfae_84fdd1e63b41row7_col2\" class=\"data row7 col2\" >0.0000</td>\n",
       "                        <td id=\"T_c680a438_d4aa_11ea_bfae_84fdd1e63b41row7_col3\" class=\"data row7 col3\" >0.4824</td>\n",
       "                        <td id=\"T_c680a438_d4aa_11ea_bfae_84fdd1e63b41row7_col4\" class=\"data row7 col4\" >0.4779</td>\n",
       "                        <td id=\"T_c680a438_d4aa_11ea_bfae_84fdd1e63b41row7_col5\" class=\"data row7 col5\" >0.4564</td>\n",
       "                        <td id=\"T_c680a438_d4aa_11ea_bfae_84fdd1e63b41row7_col6\" class=\"data row7 col6\" >0.3238</td>\n",
       "                        <td id=\"T_c680a438_d4aa_11ea_bfae_84fdd1e63b41row7_col7\" class=\"data row7 col7\" >0.3356</td>\n",
       "                        <td id=\"T_c680a438_d4aa_11ea_bfae_84fdd1e63b41row7_col8\" class=\"data row7 col8\" >0.0256</td>\n",
       "            </tr>\n",
       "            <tr>\n",
       "                        <th id=\"T_c680a438_d4aa_11ea_bfae_84fdd1e63b41level0_row8\" class=\"row_heading level0 row8\" >8</th>\n",
       "                        <td id=\"T_c680a438_d4aa_11ea_bfae_84fdd1e63b41row8_col0\" class=\"data row8 col0\" >K Neighbors Classifier</td>\n",
       "                        <td id=\"T_c680a438_d4aa_11ea_bfae_84fdd1e63b41row8_col1\" class=\"data row8 col1\" >0.4795</td>\n",
       "                        <td id=\"T_c680a438_d4aa_11ea_bfae_84fdd1e63b41row8_col2\" class=\"data row8 col2\" >0.0000</td>\n",
       "                        <td id=\"T_c680a438_d4aa_11ea_bfae_84fdd1e63b41row8_col3\" class=\"data row8 col3\" >0.4684</td>\n",
       "                        <td id=\"T_c680a438_d4aa_11ea_bfae_84fdd1e63b41row8_col4\" class=\"data row8 col4\" >0.4650</td>\n",
       "                        <td id=\"T_c680a438_d4aa_11ea_bfae_84fdd1e63b41row8_col5\" class=\"data row8 col5\" >0.4664</td>\n",
       "                        <td id=\"T_c680a438_d4aa_11ea_bfae_84fdd1e63b41row8_col6\" class=\"data row8 col6\" >0.3023</td>\n",
       "                        <td id=\"T_c680a438_d4aa_11ea_bfae_84fdd1e63b41row8_col7\" class=\"data row8 col7\" >0.3048</td>\n",
       "                        <td id=\"T_c680a438_d4aa_11ea_bfae_84fdd1e63b41row8_col8\" class=\"data row8 col8\" >0.1178</td>\n",
       "            </tr>\n",
       "            <tr>\n",
       "                        <th id=\"T_c680a438_d4aa_11ea_bfae_84fdd1e63b41level0_row9\" class=\"row_heading level0 row9\" >9</th>\n",
       "                        <td id=\"T_c680a438_d4aa_11ea_bfae_84fdd1e63b41row9_col0\" class=\"data row9 col0\" >Naive Bayes</td>\n",
       "                        <td id=\"T_c680a438_d4aa_11ea_bfae_84fdd1e63b41row9_col1\" class=\"data row9 col1\" >0.4726</td>\n",
       "                        <td id=\"T_c680a438_d4aa_11ea_bfae_84fdd1e63b41row9_col2\" class=\"data row9 col2\" >0.0000</td>\n",
       "                        <td id=\"T_c680a438_d4aa_11ea_bfae_84fdd1e63b41row9_col3\" class=\"data row9 col3\" >0.4605</td>\n",
       "                        <td id=\"T_c680a438_d4aa_11ea_bfae_84fdd1e63b41row9_col4\" class=\"data row9 col4\" >0.4541</td>\n",
       "                        <td id=\"T_c680a438_d4aa_11ea_bfae_84fdd1e63b41row9_col5\" class=\"data row9 col5\" >0.4453</td>\n",
       "                        <td id=\"T_c680a438_d4aa_11ea_bfae_84fdd1e63b41row9_col6\" class=\"data row9 col6\" >0.2931</td>\n",
       "                        <td id=\"T_c680a438_d4aa_11ea_bfae_84fdd1e63b41row9_col7\" class=\"data row9 col7\" >0.3019</td>\n",
       "                        <td id=\"T_c680a438_d4aa_11ea_bfae_84fdd1e63b41row9_col8\" class=\"data row9 col8\" >0.0215</td>\n",
       "            </tr>\n",
       "            <tr>\n",
       "                        <th id=\"T_c680a438_d4aa_11ea_bfae_84fdd1e63b41level0_row10\" class=\"row_heading level0 row10\" >10</th>\n",
       "                        <td id=\"T_c680a438_d4aa_11ea_bfae_84fdd1e63b41row10_col0\" class=\"data row10 col0\" >Random Forest Classifier</td>\n",
       "                        <td id=\"T_c680a438_d4aa_11ea_bfae_84fdd1e63b41row10_col1\" class=\"data row10 col1\" >0.4679</td>\n",
       "                        <td id=\"T_c680a438_d4aa_11ea_bfae_84fdd1e63b41row10_col2\" class=\"data row10 col2\" >0.0000</td>\n",
       "                        <td id=\"T_c680a438_d4aa_11ea_bfae_84fdd1e63b41row10_col3\" class=\"data row10 col3\" >0.4581</td>\n",
       "                        <td id=\"T_c680a438_d4aa_11ea_bfae_84fdd1e63b41row10_col4\" class=\"data row10 col4\" >0.4585</td>\n",
       "                        <td id=\"T_c680a438_d4aa_11ea_bfae_84fdd1e63b41row10_col5\" class=\"data row10 col5\" >0.4614</td>\n",
       "                        <td id=\"T_c680a438_d4aa_11ea_bfae_84fdd1e63b41row10_col6\" class=\"data row10 col6\" >0.2873</td>\n",
       "                        <td id=\"T_c680a438_d4aa_11ea_bfae_84fdd1e63b41row10_col7\" class=\"data row10 col7\" >0.2881</td>\n",
       "                        <td id=\"T_c680a438_d4aa_11ea_bfae_84fdd1e63b41row10_col8\" class=\"data row10 col8\" >0.1450</td>\n",
       "            </tr>\n",
       "            <tr>\n",
       "                        <th id=\"T_c680a438_d4aa_11ea_bfae_84fdd1e63b41level0_row11\" class=\"row_heading level0 row11\" >11</th>\n",
       "                        <td id=\"T_c680a438_d4aa_11ea_bfae_84fdd1e63b41row11_col0\" class=\"data row11 col0\" >SVM - Linear Kernel</td>\n",
       "                        <td id=\"T_c680a438_d4aa_11ea_bfae_84fdd1e63b41row11_col1\" class=\"data row11 col1\" >0.4654</td>\n",
       "                        <td id=\"T_c680a438_d4aa_11ea_bfae_84fdd1e63b41row11_col2\" class=\"data row11 col2\" >0.0000</td>\n",
       "                        <td id=\"T_c680a438_d4aa_11ea_bfae_84fdd1e63b41row11_col3\" class=\"data row11 col3\" >0.4525</td>\n",
       "                        <td id=\"T_c680a438_d4aa_11ea_bfae_84fdd1e63b41row11_col4\" class=\"data row11 col4\" >0.4500</td>\n",
       "                        <td id=\"T_c680a438_d4aa_11ea_bfae_84fdd1e63b41row11_col5\" class=\"data row11 col5\" >0.4403</td>\n",
       "                        <td id=\"T_c680a438_d4aa_11ea_bfae_84fdd1e63b41row11_col6\" class=\"data row11 col6\" >0.2830</td>\n",
       "                        <td id=\"T_c680a438_d4aa_11ea_bfae_84fdd1e63b41row11_col7\" class=\"data row11 col7\" >0.2900</td>\n",
       "                        <td id=\"T_c680a438_d4aa_11ea_bfae_84fdd1e63b41row11_col8\" class=\"data row11 col8\" >0.1513</td>\n",
       "            </tr>\n",
       "            <tr>\n",
       "                        <th id=\"T_c680a438_d4aa_11ea_bfae_84fdd1e63b41level0_row12\" class=\"row_heading level0 row12\" >12</th>\n",
       "                        <td id=\"T_c680a438_d4aa_11ea_bfae_84fdd1e63b41row12_col0\" class=\"data row12 col0\" >Extra Trees Classifier</td>\n",
       "                        <td id=\"T_c680a438_d4aa_11ea_bfae_84fdd1e63b41row12_col1\" class=\"data row12 col1\" >0.4562</td>\n",
       "                        <td id=\"T_c680a438_d4aa_11ea_bfae_84fdd1e63b41row12_col2\" class=\"data row12 col2\" >0.0000</td>\n",
       "                        <td id=\"T_c680a438_d4aa_11ea_bfae_84fdd1e63b41row12_col3\" class=\"data row12 col3\" >0.4472</td>\n",
       "                        <td id=\"T_c680a438_d4aa_11ea_bfae_84fdd1e63b41row12_col4\" class=\"data row12 col4\" >0.4515</td>\n",
       "                        <td id=\"T_c680a438_d4aa_11ea_bfae_84fdd1e63b41row12_col5\" class=\"data row12 col5\" >0.4531</td>\n",
       "                        <td id=\"T_c680a438_d4aa_11ea_bfae_84fdd1e63b41row12_col6\" class=\"data row12 col6\" >0.2726</td>\n",
       "                        <td id=\"T_c680a438_d4aa_11ea_bfae_84fdd1e63b41row12_col7\" class=\"data row12 col7\" >0.2729</td>\n",
       "                        <td id=\"T_c680a438_d4aa_11ea_bfae_84fdd1e63b41row12_col8\" class=\"data row12 col8\" >1.0764</td>\n",
       "            </tr>\n",
       "            <tr>\n",
       "                        <th id=\"T_c680a438_d4aa_11ea_bfae_84fdd1e63b41level0_row13\" class=\"row_heading level0 row13\" >13</th>\n",
       "                        <td id=\"T_c680a438_d4aa_11ea_bfae_84fdd1e63b41row13_col0\" class=\"data row13 col0\" >Decision Tree Classifier</td>\n",
       "                        <td id=\"T_c680a438_d4aa_11ea_bfae_84fdd1e63b41row13_col1\" class=\"data row13 col1\" >0.4123</td>\n",
       "                        <td id=\"T_c680a438_d4aa_11ea_bfae_84fdd1e63b41row13_col2\" class=\"data row13 col2\" >0.0000</td>\n",
       "                        <td id=\"T_c680a438_d4aa_11ea_bfae_84fdd1e63b41row13_col3\" class=\"data row13 col3\" >0.3981</td>\n",
       "                        <td id=\"T_c680a438_d4aa_11ea_bfae_84fdd1e63b41row13_col4\" class=\"data row13 col4\" >0.3955</td>\n",
       "                        <td id=\"T_c680a438_d4aa_11ea_bfae_84fdd1e63b41row13_col5\" class=\"data row13 col5\" >0.3883</td>\n",
       "                        <td id=\"T_c680a438_d4aa_11ea_bfae_84fdd1e63b41row13_col6\" class=\"data row13 col6\" >0.2074</td>\n",
       "                        <td id=\"T_c680a438_d4aa_11ea_bfae_84fdd1e63b41row13_col7\" class=\"data row13 col7\" >0.2139</td>\n",
       "                        <td id=\"T_c680a438_d4aa_11ea_bfae_84fdd1e63b41row13_col8\" class=\"data row13 col8\" >0.0772</td>\n",
       "            </tr>\n",
       "            <tr>\n",
       "                        <th id=\"T_c680a438_d4aa_11ea_bfae_84fdd1e63b41level0_row14\" class=\"row_heading level0 row14\" >14</th>\n",
       "                        <td id=\"T_c680a438_d4aa_11ea_bfae_84fdd1e63b41row14_col0\" class=\"data row14 col0\" >Quadratic Discriminant Analysis</td>\n",
       "                        <td id=\"T_c680a438_d4aa_11ea_bfae_84fdd1e63b41row14_col1\" class=\"data row14 col1\" >0.3232</td>\n",
       "                        <td id=\"T_c680a438_d4aa_11ea_bfae_84fdd1e63b41row14_col2\" class=\"data row14 col2\" >0.0000</td>\n",
       "                        <td id=\"T_c680a438_d4aa_11ea_bfae_84fdd1e63b41row14_col3\" class=\"data row14 col3\" >0.3198</td>\n",
       "                        <td id=\"T_c680a438_d4aa_11ea_bfae_84fdd1e63b41row14_col4\" class=\"data row14 col4\" >0.3647</td>\n",
       "                        <td id=\"T_c680a438_d4aa_11ea_bfae_84fdd1e63b41row14_col5\" class=\"data row14 col5\" >0.2767</td>\n",
       "                        <td id=\"T_c680a438_d4aa_11ea_bfae_84fdd1e63b41row14_col6\" class=\"data row14 col6\" >0.0966</td>\n",
       "                        <td id=\"T_c680a438_d4aa_11ea_bfae_84fdd1e63b41row14_col7\" class=\"data row14 col7\" >0.1086</td>\n",
       "                        <td id=\"T_c680a438_d4aa_11ea_bfae_84fdd1e63b41row14_col8\" class=\"data row14 col8\" >0.0420</td>\n",
       "            </tr>\n",
       "    </tbody></table>"
      ],
      "text/plain": [
       "<pandas.io.formats.style.Styler at 0x25939038cc0>"
      ]
     },
     "metadata": {},
     "output_type": "display_data"
    }
   ],
   "source": [
    "best_model = compare_models()"
   ]
  },
  {
   "cell_type": "markdown",
   "metadata": {},
   "source": [
    "### Lets tune the model"
   ]
  },
  {
   "cell_type": "code",
   "execution_count": 42,
   "metadata": {
    "ExecuteTime": {
     "end_time": "2020-08-02T10:28:00.032590Z",
     "start_time": "2020-08-02T10:28:00.028603Z"
    }
   },
   "outputs": [],
   "source": [
    "#Selected Model : {'Gradient Boosting Classifier','Extreme Gradient Boosting','CatBoost Classifier'}"
   ]
  },
  {
   "cell_type": "markdown",
   "metadata": {},
   "source": [
    "######  Gradient Boosting Classifier"
   ]
  },
  {
   "cell_type": "code",
   "execution_count": 44,
   "metadata": {
    "ExecuteTime": {
     "end_time": "2020-08-02T10:31:14.021282Z",
     "start_time": "2020-08-02T10:31:06.946480Z"
    }
   },
   "outputs": [
    {
     "data": {
      "text/html": [
       "<style  type=\"text/css\" >\n",
       "#T_4a59b77a_d4ab_11ea_9e51_84fdd1e63b41row10_col0,#T_4a59b77a_d4ab_11ea_9e51_84fdd1e63b41row10_col1,#T_4a59b77a_d4ab_11ea_9e51_84fdd1e63b41row10_col2,#T_4a59b77a_d4ab_11ea_9e51_84fdd1e63b41row10_col3,#T_4a59b77a_d4ab_11ea_9e51_84fdd1e63b41row10_col4,#T_4a59b77a_d4ab_11ea_9e51_84fdd1e63b41row10_col5,#T_4a59b77a_d4ab_11ea_9e51_84fdd1e63b41row10_col6{\n",
       "            background:  yellow;\n",
       "        }</style><table id=\"T_4a59b77a_d4ab_11ea_9e51_84fdd1e63b41\" ><thead>    <tr>        <th class=\"blank level0\" ></th>        <th class=\"col_heading level0 col0\" >Accuracy</th>        <th class=\"col_heading level0 col1\" >AUC</th>        <th class=\"col_heading level0 col2\" >Recall</th>        <th class=\"col_heading level0 col3\" >Prec.</th>        <th class=\"col_heading level0 col4\" >F1</th>        <th class=\"col_heading level0 col5\" >Kappa</th>        <th class=\"col_heading level0 col6\" >MCC</th>    </tr></thead><tbody>\n",
       "                <tr>\n",
       "                        <th id=\"T_4a59b77a_d4ab_11ea_9e51_84fdd1e63b41level0_row0\" class=\"row_heading level0 row0\" >0</th>\n",
       "                        <td id=\"T_4a59b77a_d4ab_11ea_9e51_84fdd1e63b41row0_col0\" class=\"data row0 col0\" >0.5575</td>\n",
       "                        <td id=\"T_4a59b77a_d4ab_11ea_9e51_84fdd1e63b41row0_col1\" class=\"data row0 col1\" >0.0000</td>\n",
       "                        <td id=\"T_4a59b77a_d4ab_11ea_9e51_84fdd1e63b41row0_col2\" class=\"data row0 col2\" >0.5464</td>\n",
       "                        <td id=\"T_4a59b77a_d4ab_11ea_9e51_84fdd1e63b41row0_col3\" class=\"data row0 col3\" >0.5455</td>\n",
       "                        <td id=\"T_4a59b77a_d4ab_11ea_9e51_84fdd1e63b41row0_col4\" class=\"data row0 col4\" >0.5489</td>\n",
       "                        <td id=\"T_4a59b77a_d4ab_11ea_9e51_84fdd1e63b41row0_col5\" class=\"data row0 col5\" >0.4072</td>\n",
       "                        <td id=\"T_4a59b77a_d4ab_11ea_9e51_84fdd1e63b41row0_col6\" class=\"data row0 col6\" >0.4086</td>\n",
       "            </tr>\n",
       "            <tr>\n",
       "                        <th id=\"T_4a59b77a_d4ab_11ea_9e51_84fdd1e63b41level0_row1\" class=\"row_heading level0 row1\" >1</th>\n",
       "                        <td id=\"T_4a59b77a_d4ab_11ea_9e51_84fdd1e63b41row1_col0\" class=\"data row1 col0\" >0.4920</td>\n",
       "                        <td id=\"T_4a59b77a_d4ab_11ea_9e51_84fdd1e63b41row1_col1\" class=\"data row1 col1\" >0.0000</td>\n",
       "                        <td id=\"T_4a59b77a_d4ab_11ea_9e51_84fdd1e63b41row1_col2\" class=\"data row1 col2\" >0.4816</td>\n",
       "                        <td id=\"T_4a59b77a_d4ab_11ea_9e51_84fdd1e63b41row1_col3\" class=\"data row1 col3\" >0.4807</td>\n",
       "                        <td id=\"T_4a59b77a_d4ab_11ea_9e51_84fdd1e63b41row1_col4\" class=\"data row1 col4\" >0.4816</td>\n",
       "                        <td id=\"T_4a59b77a_d4ab_11ea_9e51_84fdd1e63b41row1_col5\" class=\"data row1 col5\" >0.3186</td>\n",
       "                        <td id=\"T_4a59b77a_d4ab_11ea_9e51_84fdd1e63b41row1_col6\" class=\"data row1 col6\" >0.3207</td>\n",
       "            </tr>\n",
       "            <tr>\n",
       "                        <th id=\"T_4a59b77a_d4ab_11ea_9e51_84fdd1e63b41level0_row2\" class=\"row_heading level0 row2\" >2</th>\n",
       "                        <td id=\"T_4a59b77a_d4ab_11ea_9e51_84fdd1e63b41row2_col0\" class=\"data row2 col0\" >0.4973</td>\n",
       "                        <td id=\"T_4a59b77a_d4ab_11ea_9e51_84fdd1e63b41row2_col1\" class=\"data row2 col1\" >0.0000</td>\n",
       "                        <td id=\"T_4a59b77a_d4ab_11ea_9e51_84fdd1e63b41row2_col2\" class=\"data row2 col2\" >0.4875</td>\n",
       "                        <td id=\"T_4a59b77a_d4ab_11ea_9e51_84fdd1e63b41row2_col3\" class=\"data row2 col3\" >0.4931</td>\n",
       "                        <td id=\"T_4a59b77a_d4ab_11ea_9e51_84fdd1e63b41row2_col4\" class=\"data row2 col4\" >0.4906</td>\n",
       "                        <td id=\"T_4a59b77a_d4ab_11ea_9e51_84fdd1e63b41row2_col5\" class=\"data row2 col5\" >0.3259</td>\n",
       "                        <td id=\"T_4a59b77a_d4ab_11ea_9e51_84fdd1e63b41row2_col6\" class=\"data row2 col6\" >0.3280</td>\n",
       "            </tr>\n",
       "            <tr>\n",
       "                        <th id=\"T_4a59b77a_d4ab_11ea_9e51_84fdd1e63b41level0_row3\" class=\"row_heading level0 row3\" >3</th>\n",
       "                        <td id=\"T_4a59b77a_d4ab_11ea_9e51_84fdd1e63b41row3_col0\" class=\"data row3 col0\" >0.5451</td>\n",
       "                        <td id=\"T_4a59b77a_d4ab_11ea_9e51_84fdd1e63b41row3_col1\" class=\"data row3 col1\" >0.0000</td>\n",
       "                        <td id=\"T_4a59b77a_d4ab_11ea_9e51_84fdd1e63b41row3_col2\" class=\"data row3 col2\" >0.5343</td>\n",
       "                        <td id=\"T_4a59b77a_d4ab_11ea_9e51_84fdd1e63b41row3_col3\" class=\"data row3 col3\" >0.5337</td>\n",
       "                        <td id=\"T_4a59b77a_d4ab_11ea_9e51_84fdd1e63b41row3_col4\" class=\"data row3 col4\" >0.5359</td>\n",
       "                        <td id=\"T_4a59b77a_d4ab_11ea_9e51_84fdd1e63b41row3_col5\" class=\"data row3 col5\" >0.3907</td>\n",
       "                        <td id=\"T_4a59b77a_d4ab_11ea_9e51_84fdd1e63b41row3_col6\" class=\"data row3 col6\" >0.3924</td>\n",
       "            </tr>\n",
       "            <tr>\n",
       "                        <th id=\"T_4a59b77a_d4ab_11ea_9e51_84fdd1e63b41level0_row4\" class=\"row_heading level0 row4\" >4</th>\n",
       "                        <td id=\"T_4a59b77a_d4ab_11ea_9e51_84fdd1e63b41row4_col0\" class=\"data row4 col0\" >0.5345</td>\n",
       "                        <td id=\"T_4a59b77a_d4ab_11ea_9e51_84fdd1e63b41row4_col1\" class=\"data row4 col1\" >0.0000</td>\n",
       "                        <td id=\"T_4a59b77a_d4ab_11ea_9e51_84fdd1e63b41row4_col2\" class=\"data row4 col2\" >0.5230</td>\n",
       "                        <td id=\"T_4a59b77a_d4ab_11ea_9e51_84fdd1e63b41row4_col3\" class=\"data row4 col3\" >0.5248</td>\n",
       "                        <td id=\"T_4a59b77a_d4ab_11ea_9e51_84fdd1e63b41row4_col4\" class=\"data row4 col4\" >0.5236</td>\n",
       "                        <td id=\"T_4a59b77a_d4ab_11ea_9e51_84fdd1e63b41row4_col5\" class=\"data row4 col5\" >0.3755</td>\n",
       "                        <td id=\"T_4a59b77a_d4ab_11ea_9e51_84fdd1e63b41row4_col6\" class=\"data row4 col6\" >0.3781</td>\n",
       "            </tr>\n",
       "            <tr>\n",
       "                        <th id=\"T_4a59b77a_d4ab_11ea_9e51_84fdd1e63b41level0_row5\" class=\"row_heading level0 row5\" >5</th>\n",
       "                        <td id=\"T_4a59b77a_d4ab_11ea_9e51_84fdd1e63b41row5_col0\" class=\"data row5 col0\" >0.5398</td>\n",
       "                        <td id=\"T_4a59b77a_d4ab_11ea_9e51_84fdd1e63b41row5_col1\" class=\"data row5 col1\" >0.0000</td>\n",
       "                        <td id=\"T_4a59b77a_d4ab_11ea_9e51_84fdd1e63b41row5_col2\" class=\"data row5 col2\" >0.5287</td>\n",
       "                        <td id=\"T_4a59b77a_d4ab_11ea_9e51_84fdd1e63b41row5_col3\" class=\"data row5 col3\" >0.5285</td>\n",
       "                        <td id=\"T_4a59b77a_d4ab_11ea_9e51_84fdd1e63b41row5_col4\" class=\"data row5 col4\" >0.5322</td>\n",
       "                        <td id=\"T_4a59b77a_d4ab_11ea_9e51_84fdd1e63b41row5_col5\" class=\"data row5 col5\" >0.3835</td>\n",
       "                        <td id=\"T_4a59b77a_d4ab_11ea_9e51_84fdd1e63b41row5_col6\" class=\"data row5 col6\" >0.3845</td>\n",
       "            </tr>\n",
       "            <tr>\n",
       "                        <th id=\"T_4a59b77a_d4ab_11ea_9e51_84fdd1e63b41level0_row6\" class=\"row_heading level0 row6\" >6</th>\n",
       "                        <td id=\"T_4a59b77a_d4ab_11ea_9e51_84fdd1e63b41row6_col0\" class=\"data row6 col0\" >0.5310</td>\n",
       "                        <td id=\"T_4a59b77a_d4ab_11ea_9e51_84fdd1e63b41row6_col1\" class=\"data row6 col1\" >0.0000</td>\n",
       "                        <td id=\"T_4a59b77a_d4ab_11ea_9e51_84fdd1e63b41row6_col2\" class=\"data row6 col2\" >0.5203</td>\n",
       "                        <td id=\"T_4a59b77a_d4ab_11ea_9e51_84fdd1e63b41row6_col3\" class=\"data row6 col3\" >0.5153</td>\n",
       "                        <td id=\"T_4a59b77a_d4ab_11ea_9e51_84fdd1e63b41row6_col4\" class=\"data row6 col4\" >0.5165</td>\n",
       "                        <td id=\"T_4a59b77a_d4ab_11ea_9e51_84fdd1e63b41row6_col5\" class=\"data row6 col5\" >0.3704</td>\n",
       "                        <td id=\"T_4a59b77a_d4ab_11ea_9e51_84fdd1e63b41row6_col6\" class=\"data row6 col6\" >0.3739</td>\n",
       "            </tr>\n",
       "            <tr>\n",
       "                        <th id=\"T_4a59b77a_d4ab_11ea_9e51_84fdd1e63b41level0_row7\" class=\"row_heading level0 row7\" >7</th>\n",
       "                        <td id=\"T_4a59b77a_d4ab_11ea_9e51_84fdd1e63b41row7_col0\" class=\"data row7 col0\" >0.5000</td>\n",
       "                        <td id=\"T_4a59b77a_d4ab_11ea_9e51_84fdd1e63b41row7_col1\" class=\"data row7 col1\" >0.0000</td>\n",
       "                        <td id=\"T_4a59b77a_d4ab_11ea_9e51_84fdd1e63b41row7_col2\" class=\"data row7 col2\" >0.4899</td>\n",
       "                        <td id=\"T_4a59b77a_d4ab_11ea_9e51_84fdd1e63b41row7_col3\" class=\"data row7 col3\" >0.4922</td>\n",
       "                        <td id=\"T_4a59b77a_d4ab_11ea_9e51_84fdd1e63b41row7_col4\" class=\"data row7 col4\" >0.4924</td>\n",
       "                        <td id=\"T_4a59b77a_d4ab_11ea_9e51_84fdd1e63b41row7_col5\" class=\"data row7 col5\" >0.3301</td>\n",
       "                        <td id=\"T_4a59b77a_d4ab_11ea_9e51_84fdd1e63b41row7_col6\" class=\"data row7 col6\" >0.3317</td>\n",
       "            </tr>\n",
       "            <tr>\n",
       "                        <th id=\"T_4a59b77a_d4ab_11ea_9e51_84fdd1e63b41level0_row8\" class=\"row_heading level0 row8\" >8</th>\n",
       "                        <td id=\"T_4a59b77a_d4ab_11ea_9e51_84fdd1e63b41row8_col0\" class=\"data row8 col0\" >0.5248</td>\n",
       "                        <td id=\"T_4a59b77a_d4ab_11ea_9e51_84fdd1e63b41row8_col1\" class=\"data row8 col1\" >0.0000</td>\n",
       "                        <td id=\"T_4a59b77a_d4ab_11ea_9e51_84fdd1e63b41row8_col2\" class=\"data row8 col2\" >0.5137</td>\n",
       "                        <td id=\"T_4a59b77a_d4ab_11ea_9e51_84fdd1e63b41row8_col3\" class=\"data row8 col3\" >0.5084</td>\n",
       "                        <td id=\"T_4a59b77a_d4ab_11ea_9e51_84fdd1e63b41row8_col4\" class=\"data row8 col4\" >0.5134</td>\n",
       "                        <td id=\"T_4a59b77a_d4ab_11ea_9e51_84fdd1e63b41row8_col5\" class=\"data row8 col5\" >0.3632</td>\n",
       "                        <td id=\"T_4a59b77a_d4ab_11ea_9e51_84fdd1e63b41row8_col6\" class=\"data row8 col6\" >0.3648</td>\n",
       "            </tr>\n",
       "            <tr>\n",
       "                        <th id=\"T_4a59b77a_d4ab_11ea_9e51_84fdd1e63b41level0_row9\" class=\"row_heading level0 row9\" >9</th>\n",
       "                        <td id=\"T_4a59b77a_d4ab_11ea_9e51_84fdd1e63b41row9_col0\" class=\"data row9 col0\" >0.5000</td>\n",
       "                        <td id=\"T_4a59b77a_d4ab_11ea_9e51_84fdd1e63b41row9_col1\" class=\"data row9 col1\" >0.0000</td>\n",
       "                        <td id=\"T_4a59b77a_d4ab_11ea_9e51_84fdd1e63b41row9_col2\" class=\"data row9 col2\" >0.4888</td>\n",
       "                        <td id=\"T_4a59b77a_d4ab_11ea_9e51_84fdd1e63b41row9_col3\" class=\"data row9 col3\" >0.4896</td>\n",
       "                        <td id=\"T_4a59b77a_d4ab_11ea_9e51_84fdd1e63b41row9_col4\" class=\"data row9 col4\" >0.4928</td>\n",
       "                        <td id=\"T_4a59b77a_d4ab_11ea_9e51_84fdd1e63b41row9_col5\" class=\"data row9 col5\" >0.3303</td>\n",
       "                        <td id=\"T_4a59b77a_d4ab_11ea_9e51_84fdd1e63b41row9_col6\" class=\"data row9 col6\" >0.3312</td>\n",
       "            </tr>\n",
       "            <tr>\n",
       "                        <th id=\"T_4a59b77a_d4ab_11ea_9e51_84fdd1e63b41level0_row10\" class=\"row_heading level0 row10\" >Mean</th>\n",
       "                        <td id=\"T_4a59b77a_d4ab_11ea_9e51_84fdd1e63b41row10_col0\" class=\"data row10 col0\" >0.5222</td>\n",
       "                        <td id=\"T_4a59b77a_d4ab_11ea_9e51_84fdd1e63b41row10_col1\" class=\"data row10 col1\" >0.0000</td>\n",
       "                        <td id=\"T_4a59b77a_d4ab_11ea_9e51_84fdd1e63b41row10_col2\" class=\"data row10 col2\" >0.5114</td>\n",
       "                        <td id=\"T_4a59b77a_d4ab_11ea_9e51_84fdd1e63b41row10_col3\" class=\"data row10 col3\" >0.5112</td>\n",
       "                        <td id=\"T_4a59b77a_d4ab_11ea_9e51_84fdd1e63b41row10_col4\" class=\"data row10 col4\" >0.5128</td>\n",
       "                        <td id=\"T_4a59b77a_d4ab_11ea_9e51_84fdd1e63b41row10_col5\" class=\"data row10 col5\" >0.3595</td>\n",
       "                        <td id=\"T_4a59b77a_d4ab_11ea_9e51_84fdd1e63b41row10_col6\" class=\"data row10 col6\" >0.3614</td>\n",
       "            </tr>\n",
       "            <tr>\n",
       "                        <th id=\"T_4a59b77a_d4ab_11ea_9e51_84fdd1e63b41level0_row11\" class=\"row_heading level0 row11\" >SD</th>\n",
       "                        <td id=\"T_4a59b77a_d4ab_11ea_9e51_84fdd1e63b41row11_col0\" class=\"data row11 col0\" >0.0220</td>\n",
       "                        <td id=\"T_4a59b77a_d4ab_11ea_9e51_84fdd1e63b41row11_col1\" class=\"data row11 col1\" >0.0000</td>\n",
       "                        <td id=\"T_4a59b77a_d4ab_11ea_9e51_84fdd1e63b41row11_col2\" class=\"data row11 col2\" >0.0217</td>\n",
       "                        <td id=\"T_4a59b77a_d4ab_11ea_9e51_84fdd1e63b41row11_col3\" class=\"data row11 col3\" >0.0207</td>\n",
       "                        <td id=\"T_4a59b77a_d4ab_11ea_9e51_84fdd1e63b41row11_col4\" class=\"data row11 col4\" >0.0215</td>\n",
       "                        <td id=\"T_4a59b77a_d4ab_11ea_9e51_84fdd1e63b41row11_col5\" class=\"data row11 col5\" >0.0296</td>\n",
       "                        <td id=\"T_4a59b77a_d4ab_11ea_9e51_84fdd1e63b41row11_col6\" class=\"data row11 col6\" >0.0296</td>\n",
       "            </tr>\n",
       "    </tbody></table>"
      ],
      "text/plain": [
       "<pandas.io.formats.style.Styler at 0x25955083518>"
      ]
     },
     "metadata": {},
     "output_type": "display_data"
    }
   ],
   "source": [
    "gbc_model = create_model('gbc')"
   ]
  },
  {
   "cell_type": "code",
   "execution_count": 46,
   "metadata": {
    "ExecuteTime": {
     "end_time": "2020-08-02T10:36:06.761177Z",
     "start_time": "2020-08-02T10:33:59.091590Z"
    }
   },
   "outputs": [
    {
     "data": {
      "text/html": [
       "<style  type=\"text/css\" >\n",
       "#T_f8d63ca4_d4ab_11ea_b012_84fdd1e63b41row10_col0,#T_f8d63ca4_d4ab_11ea_b012_84fdd1e63b41row10_col1,#T_f8d63ca4_d4ab_11ea_b012_84fdd1e63b41row10_col2,#T_f8d63ca4_d4ab_11ea_b012_84fdd1e63b41row10_col3,#T_f8d63ca4_d4ab_11ea_b012_84fdd1e63b41row10_col4,#T_f8d63ca4_d4ab_11ea_b012_84fdd1e63b41row10_col5,#T_f8d63ca4_d4ab_11ea_b012_84fdd1e63b41row10_col6{\n",
       "            background:  yellow;\n",
       "        }</style><table id=\"T_f8d63ca4_d4ab_11ea_b012_84fdd1e63b41\" ><thead>    <tr>        <th class=\"blank level0\" ></th>        <th class=\"col_heading level0 col0\" >Accuracy</th>        <th class=\"col_heading level0 col1\" >AUC</th>        <th class=\"col_heading level0 col2\" >Recall</th>        <th class=\"col_heading level0 col3\" >Prec.</th>        <th class=\"col_heading level0 col4\" >F1</th>        <th class=\"col_heading level0 col5\" >Kappa</th>        <th class=\"col_heading level0 col6\" >MCC</th>    </tr></thead><tbody>\n",
       "                <tr>\n",
       "                        <th id=\"T_f8d63ca4_d4ab_11ea_b012_84fdd1e63b41level0_row0\" class=\"row_heading level0 row0\" >0</th>\n",
       "                        <td id=\"T_f8d63ca4_d4ab_11ea_b012_84fdd1e63b41row0_col0\" class=\"data row0 col0\" >0.4513</td>\n",
       "                        <td id=\"T_f8d63ca4_d4ab_11ea_b012_84fdd1e63b41row0_col1\" class=\"data row0 col1\" >0.0000</td>\n",
       "                        <td id=\"T_f8d63ca4_d4ab_11ea_b012_84fdd1e63b41row0_col2\" class=\"data row0 col2\" >0.4425</td>\n",
       "                        <td id=\"T_f8d63ca4_d4ab_11ea_b012_84fdd1e63b41row0_col3\" class=\"data row0 col3\" >0.4539</td>\n",
       "                        <td id=\"T_f8d63ca4_d4ab_11ea_b012_84fdd1e63b41row0_col4\" class=\"data row0 col4\" >0.4523</td>\n",
       "                        <td id=\"T_f8d63ca4_d4ab_11ea_b012_84fdd1e63b41row0_col5\" class=\"data row0 col5\" >0.2671</td>\n",
       "                        <td id=\"T_f8d63ca4_d4ab_11ea_b012_84fdd1e63b41row0_col6\" class=\"data row0 col6\" >0.2672</td>\n",
       "            </tr>\n",
       "            <tr>\n",
       "                        <th id=\"T_f8d63ca4_d4ab_11ea_b012_84fdd1e63b41level0_row1\" class=\"row_heading level0 row1\" >1</th>\n",
       "                        <td id=\"T_f8d63ca4_d4ab_11ea_b012_84fdd1e63b41row1_col0\" class=\"data row1 col0\" >0.4372</td>\n",
       "                        <td id=\"T_f8d63ca4_d4ab_11ea_b012_84fdd1e63b41row1_col1\" class=\"data row1 col1\" >0.0000</td>\n",
       "                        <td id=\"T_f8d63ca4_d4ab_11ea_b012_84fdd1e63b41row1_col2\" class=\"data row1 col2\" >0.4300</td>\n",
       "                        <td id=\"T_f8d63ca4_d4ab_11ea_b012_84fdd1e63b41row1_col3\" class=\"data row1 col3\" >0.4374</td>\n",
       "                        <td id=\"T_f8d63ca4_d4ab_11ea_b012_84fdd1e63b41row1_col4\" class=\"data row1 col4\" >0.4370</td>\n",
       "                        <td id=\"T_f8d63ca4_d4ab_11ea_b012_84fdd1e63b41row1_col5\" class=\"data row1 col5\" >0.2476</td>\n",
       "                        <td id=\"T_f8d63ca4_d4ab_11ea_b012_84fdd1e63b41row1_col6\" class=\"data row1 col6\" >0.2477</td>\n",
       "            </tr>\n",
       "            <tr>\n",
       "                        <th id=\"T_f8d63ca4_d4ab_11ea_b012_84fdd1e63b41level0_row2\" class=\"row_heading level0 row2\" >2</th>\n",
       "                        <td id=\"T_f8d63ca4_d4ab_11ea_b012_84fdd1e63b41row2_col0\" class=\"data row2 col0\" >0.4566</td>\n",
       "                        <td id=\"T_f8d63ca4_d4ab_11ea_b012_84fdd1e63b41row2_col1\" class=\"data row2 col1\" >0.0000</td>\n",
       "                        <td id=\"T_f8d63ca4_d4ab_11ea_b012_84fdd1e63b41row2_col2\" class=\"data row2 col2\" >0.4470</td>\n",
       "                        <td id=\"T_f8d63ca4_d4ab_11ea_b012_84fdd1e63b41row2_col3\" class=\"data row2 col3\" >0.4477</td>\n",
       "                        <td id=\"T_f8d63ca4_d4ab_11ea_b012_84fdd1e63b41row2_col4\" class=\"data row2 col4\" >0.4510</td>\n",
       "                        <td id=\"T_f8d63ca4_d4ab_11ea_b012_84fdd1e63b41row2_col5\" class=\"data row2 col5\" >0.2724</td>\n",
       "                        <td id=\"T_f8d63ca4_d4ab_11ea_b012_84fdd1e63b41row2_col6\" class=\"data row2 col6\" >0.2729</td>\n",
       "            </tr>\n",
       "            <tr>\n",
       "                        <th id=\"T_f8d63ca4_d4ab_11ea_b012_84fdd1e63b41level0_row3\" class=\"row_heading level0 row3\" >3</th>\n",
       "                        <td id=\"T_f8d63ca4_d4ab_11ea_b012_84fdd1e63b41row3_col0\" class=\"data row3 col0\" >0.5062</td>\n",
       "                        <td id=\"T_f8d63ca4_d4ab_11ea_b012_84fdd1e63b41row3_col1\" class=\"data row3 col1\" >0.0000</td>\n",
       "                        <td id=\"T_f8d63ca4_d4ab_11ea_b012_84fdd1e63b41row3_col2\" class=\"data row3 col2\" >0.4972</td>\n",
       "                        <td id=\"T_f8d63ca4_d4ab_11ea_b012_84fdd1e63b41row3_col3\" class=\"data row3 col3\" >0.4996</td>\n",
       "                        <td id=\"T_f8d63ca4_d4ab_11ea_b012_84fdd1e63b41row3_col4\" class=\"data row3 col4\" >0.5022</td>\n",
       "                        <td id=\"T_f8d63ca4_d4ab_11ea_b012_84fdd1e63b41row3_col5\" class=\"data row3 col5\" >0.3392</td>\n",
       "                        <td id=\"T_f8d63ca4_d4ab_11ea_b012_84fdd1e63b41row3_col6\" class=\"data row3 col6\" >0.3395</td>\n",
       "            </tr>\n",
       "            <tr>\n",
       "                        <th id=\"T_f8d63ca4_d4ab_11ea_b012_84fdd1e63b41level0_row4\" class=\"row_heading level0 row4\" >4</th>\n",
       "                        <td id=\"T_f8d63ca4_d4ab_11ea_b012_84fdd1e63b41row4_col0\" class=\"data row4 col0\" >0.4938</td>\n",
       "                        <td id=\"T_f8d63ca4_d4ab_11ea_b012_84fdd1e63b41row4_col1\" class=\"data row4 col1\" >0.0000</td>\n",
       "                        <td id=\"T_f8d63ca4_d4ab_11ea_b012_84fdd1e63b41row4_col2\" class=\"data row4 col2\" >0.4852</td>\n",
       "                        <td id=\"T_f8d63ca4_d4ab_11ea_b012_84fdd1e63b41row4_col3\" class=\"data row4 col3\" >0.4917</td>\n",
       "                        <td id=\"T_f8d63ca4_d4ab_11ea_b012_84fdd1e63b41row4_col4\" class=\"data row4 col4\" >0.4907</td>\n",
       "                        <td id=\"T_f8d63ca4_d4ab_11ea_b012_84fdd1e63b41row4_col5\" class=\"data row4 col5\" >0.3220</td>\n",
       "                        <td id=\"T_f8d63ca4_d4ab_11ea_b012_84fdd1e63b41row4_col6\" class=\"data row4 col6\" >0.3229</td>\n",
       "            </tr>\n",
       "            <tr>\n",
       "                        <th id=\"T_f8d63ca4_d4ab_11ea_b012_84fdd1e63b41level0_row5\" class=\"row_heading level0 row5\" >5</th>\n",
       "                        <td id=\"T_f8d63ca4_d4ab_11ea_b012_84fdd1e63b41row5_col0\" class=\"data row5 col0\" >0.4743</td>\n",
       "                        <td id=\"T_f8d63ca4_d4ab_11ea_b012_84fdd1e63b41row5_col1\" class=\"data row5 col1\" >0.0000</td>\n",
       "                        <td id=\"T_f8d63ca4_d4ab_11ea_b012_84fdd1e63b41row5_col2\" class=\"data row5 col2\" >0.4636</td>\n",
       "                        <td id=\"T_f8d63ca4_d4ab_11ea_b012_84fdd1e63b41row5_col3\" class=\"data row5 col3\" >0.4763</td>\n",
       "                        <td id=\"T_f8d63ca4_d4ab_11ea_b012_84fdd1e63b41row5_col4\" class=\"data row5 col4\" >0.4752</td>\n",
       "                        <td id=\"T_f8d63ca4_d4ab_11ea_b012_84fdd1e63b41row5_col5\" class=\"data row5 col5\" >0.2978</td>\n",
       "                        <td id=\"T_f8d63ca4_d4ab_11ea_b012_84fdd1e63b41row5_col6\" class=\"data row5 col6\" >0.2979</td>\n",
       "            </tr>\n",
       "            <tr>\n",
       "                        <th id=\"T_f8d63ca4_d4ab_11ea_b012_84fdd1e63b41level0_row6\" class=\"row_heading level0 row6\" >6</th>\n",
       "                        <td id=\"T_f8d63ca4_d4ab_11ea_b012_84fdd1e63b41row6_col0\" class=\"data row6 col0\" >0.4566</td>\n",
       "                        <td id=\"T_f8d63ca4_d4ab_11ea_b012_84fdd1e63b41row6_col1\" class=\"data row6 col1\" >0.0000</td>\n",
       "                        <td id=\"T_f8d63ca4_d4ab_11ea_b012_84fdd1e63b41row6_col2\" class=\"data row6 col2\" >0.4495</td>\n",
       "                        <td id=\"T_f8d63ca4_d4ab_11ea_b012_84fdd1e63b41row6_col3\" class=\"data row6 col3\" >0.4528</td>\n",
       "                        <td id=\"T_f8d63ca4_d4ab_11ea_b012_84fdd1e63b41row6_col4\" class=\"data row6 col4\" >0.4543</td>\n",
       "                        <td id=\"T_f8d63ca4_d4ab_11ea_b012_84fdd1e63b41row6_col5\" class=\"data row6 col5\" >0.2734</td>\n",
       "                        <td id=\"T_f8d63ca4_d4ab_11ea_b012_84fdd1e63b41row6_col6\" class=\"data row6 col6\" >0.2736</td>\n",
       "            </tr>\n",
       "            <tr>\n",
       "                        <th id=\"T_f8d63ca4_d4ab_11ea_b012_84fdd1e63b41level0_row7\" class=\"row_heading level0 row7\" >7</th>\n",
       "                        <td id=\"T_f8d63ca4_d4ab_11ea_b012_84fdd1e63b41row7_col0\" class=\"data row7 col0\" >0.4539</td>\n",
       "                        <td id=\"T_f8d63ca4_d4ab_11ea_b012_84fdd1e63b41row7_col1\" class=\"data row7 col1\" >0.0000</td>\n",
       "                        <td id=\"T_f8d63ca4_d4ab_11ea_b012_84fdd1e63b41row7_col2\" class=\"data row7 col2\" >0.4445</td>\n",
       "                        <td id=\"T_f8d63ca4_d4ab_11ea_b012_84fdd1e63b41row7_col3\" class=\"data row7 col3\" >0.4474</td>\n",
       "                        <td id=\"T_f8d63ca4_d4ab_11ea_b012_84fdd1e63b41row7_col4\" class=\"data row7 col4\" >0.4501</td>\n",
       "                        <td id=\"T_f8d63ca4_d4ab_11ea_b012_84fdd1e63b41row7_col5\" class=\"data row7 col5\" >0.2697</td>\n",
       "                        <td id=\"T_f8d63ca4_d4ab_11ea_b012_84fdd1e63b41row7_col6\" class=\"data row7 col6\" >0.2699</td>\n",
       "            </tr>\n",
       "            <tr>\n",
       "                        <th id=\"T_f8d63ca4_d4ab_11ea_b012_84fdd1e63b41level0_row8\" class=\"row_heading level0 row8\" >8</th>\n",
       "                        <td id=\"T_f8d63ca4_d4ab_11ea_b012_84fdd1e63b41row8_col0\" class=\"data row8 col0\" >0.4610</td>\n",
       "                        <td id=\"T_f8d63ca4_d4ab_11ea_b012_84fdd1e63b41row8_col1\" class=\"data row8 col1\" >0.0000</td>\n",
       "                        <td id=\"T_f8d63ca4_d4ab_11ea_b012_84fdd1e63b41row8_col2\" class=\"data row8 col2\" >0.4521</td>\n",
       "                        <td id=\"T_f8d63ca4_d4ab_11ea_b012_84fdd1e63b41row8_col3\" class=\"data row8 col3\" >0.4591</td>\n",
       "                        <td id=\"T_f8d63ca4_d4ab_11ea_b012_84fdd1e63b41row8_col4\" class=\"data row8 col4\" >0.4595</td>\n",
       "                        <td id=\"T_f8d63ca4_d4ab_11ea_b012_84fdd1e63b41row8_col5\" class=\"data row8 col5\" >0.2794</td>\n",
       "                        <td id=\"T_f8d63ca4_d4ab_11ea_b012_84fdd1e63b41row8_col6\" class=\"data row8 col6\" >0.2795</td>\n",
       "            </tr>\n",
       "            <tr>\n",
       "                        <th id=\"T_f8d63ca4_d4ab_11ea_b012_84fdd1e63b41level0_row9\" class=\"row_heading level0 row9\" >9</th>\n",
       "                        <td id=\"T_f8d63ca4_d4ab_11ea_b012_84fdd1e63b41row9_col0\" class=\"data row9 col0\" >0.4734</td>\n",
       "                        <td id=\"T_f8d63ca4_d4ab_11ea_b012_84fdd1e63b41row9_col1\" class=\"data row9 col1\" >0.0000</td>\n",
       "                        <td id=\"T_f8d63ca4_d4ab_11ea_b012_84fdd1e63b41row9_col2\" class=\"data row9 col2\" >0.4637</td>\n",
       "                        <td id=\"T_f8d63ca4_d4ab_11ea_b012_84fdd1e63b41row9_col3\" class=\"data row9 col3\" >0.4723</td>\n",
       "                        <td id=\"T_f8d63ca4_d4ab_11ea_b012_84fdd1e63b41row9_col4\" class=\"data row9 col4\" >0.4724</td>\n",
       "                        <td id=\"T_f8d63ca4_d4ab_11ea_b012_84fdd1e63b41row9_col5\" class=\"data row9 col5\" >0.2961</td>\n",
       "                        <td id=\"T_f8d63ca4_d4ab_11ea_b012_84fdd1e63b41row9_col6\" class=\"data row9 col6\" >0.2963</td>\n",
       "            </tr>\n",
       "            <tr>\n",
       "                        <th id=\"T_f8d63ca4_d4ab_11ea_b012_84fdd1e63b41level0_row10\" class=\"row_heading level0 row10\" >Mean</th>\n",
       "                        <td id=\"T_f8d63ca4_d4ab_11ea_b012_84fdd1e63b41row10_col0\" class=\"data row10 col0\" >0.4664</td>\n",
       "                        <td id=\"T_f8d63ca4_d4ab_11ea_b012_84fdd1e63b41row10_col1\" class=\"data row10 col1\" >0.0000</td>\n",
       "                        <td id=\"T_f8d63ca4_d4ab_11ea_b012_84fdd1e63b41row10_col2\" class=\"data row10 col2\" >0.4575</td>\n",
       "                        <td id=\"T_f8d63ca4_d4ab_11ea_b012_84fdd1e63b41row10_col3\" class=\"data row10 col3\" >0.4638</td>\n",
       "                        <td id=\"T_f8d63ca4_d4ab_11ea_b012_84fdd1e63b41row10_col4\" class=\"data row10 col4\" >0.4645</td>\n",
       "                        <td id=\"T_f8d63ca4_d4ab_11ea_b012_84fdd1e63b41row10_col5\" class=\"data row10 col5\" >0.2865</td>\n",
       "                        <td id=\"T_f8d63ca4_d4ab_11ea_b012_84fdd1e63b41row10_col6\" class=\"data row10 col6\" >0.2867</td>\n",
       "            </tr>\n",
       "            <tr>\n",
       "                        <th id=\"T_f8d63ca4_d4ab_11ea_b012_84fdd1e63b41level0_row11\" class=\"row_heading level0 row11\" >SD</th>\n",
       "                        <td id=\"T_f8d63ca4_d4ab_11ea_b012_84fdd1e63b41row11_col0\" class=\"data row11 col0\" >0.0198</td>\n",
       "                        <td id=\"T_f8d63ca4_d4ab_11ea_b012_84fdd1e63b41row11_col1\" class=\"data row11 col1\" >0.0000</td>\n",
       "                        <td id=\"T_f8d63ca4_d4ab_11ea_b012_84fdd1e63b41row11_col2\" class=\"data row11 col2\" >0.0194</td>\n",
       "                        <td id=\"T_f8d63ca4_d4ab_11ea_b012_84fdd1e63b41row11_col3\" class=\"data row11 col3\" >0.0194</td>\n",
       "                        <td id=\"T_f8d63ca4_d4ab_11ea_b012_84fdd1e63b41row11_col4\" class=\"data row11 col4\" >0.0193</td>\n",
       "                        <td id=\"T_f8d63ca4_d4ab_11ea_b012_84fdd1e63b41row11_col5\" class=\"data row11 col5\" >0.0262</td>\n",
       "                        <td id=\"T_f8d63ca4_d4ab_11ea_b012_84fdd1e63b41row11_col6\" class=\"data row11 col6\" >0.0263</td>\n",
       "            </tr>\n",
       "    </tbody></table>"
      ],
      "text/plain": [
       "<pandas.io.formats.style.Styler at 0x25955128358>"
      ]
     },
     "metadata": {},
     "output_type": "display_data"
    }
   ],
   "source": [
    "tuned_gbc = tune_model(gbc_model, optimize = 'Accuracy')"
   ]
  },
  {
   "cell_type": "markdown",
   "metadata": {},
   "source": [
    "###### Extreme Gradient Boosting"
   ]
  },
  {
   "cell_type": "code",
   "execution_count": 47,
   "metadata": {
    "ExecuteTime": {
     "end_time": "2020-08-02T10:37:09.500875Z",
     "start_time": "2020-08-02T10:37:01.639223Z"
    }
   },
   "outputs": [
    {
     "data": {
      "text/html": [
       "<style  type=\"text/css\" >\n",
       "#T_1e3b7aac_d4ac_11ea_b7f7_84fdd1e63b41row10_col0,#T_1e3b7aac_d4ac_11ea_b7f7_84fdd1e63b41row10_col1,#T_1e3b7aac_d4ac_11ea_b7f7_84fdd1e63b41row10_col2,#T_1e3b7aac_d4ac_11ea_b7f7_84fdd1e63b41row10_col3,#T_1e3b7aac_d4ac_11ea_b7f7_84fdd1e63b41row10_col4,#T_1e3b7aac_d4ac_11ea_b7f7_84fdd1e63b41row10_col5,#T_1e3b7aac_d4ac_11ea_b7f7_84fdd1e63b41row10_col6{\n",
       "            background:  yellow;\n",
       "        }</style><table id=\"T_1e3b7aac_d4ac_11ea_b7f7_84fdd1e63b41\" ><thead>    <tr>        <th class=\"blank level0\" ></th>        <th class=\"col_heading level0 col0\" >Accuracy</th>        <th class=\"col_heading level0 col1\" >AUC</th>        <th class=\"col_heading level0 col2\" >Recall</th>        <th class=\"col_heading level0 col3\" >Prec.</th>        <th class=\"col_heading level0 col4\" >F1</th>        <th class=\"col_heading level0 col5\" >Kappa</th>        <th class=\"col_heading level0 col6\" >MCC</th>    </tr></thead><tbody>\n",
       "                <tr>\n",
       "                        <th id=\"T_1e3b7aac_d4ac_11ea_b7f7_84fdd1e63b41level0_row0\" class=\"row_heading level0 row0\" >0</th>\n",
       "                        <td id=\"T_1e3b7aac_d4ac_11ea_b7f7_84fdd1e63b41row0_col0\" class=\"data row0 col0\" >0.5540</td>\n",
       "                        <td id=\"T_1e3b7aac_d4ac_11ea_b7f7_84fdd1e63b41row0_col1\" class=\"data row0 col1\" >0.0000</td>\n",
       "                        <td id=\"T_1e3b7aac_d4ac_11ea_b7f7_84fdd1e63b41row0_col2\" class=\"data row0 col2\" >0.5429</td>\n",
       "                        <td id=\"T_1e3b7aac_d4ac_11ea_b7f7_84fdd1e63b41row0_col3\" class=\"data row0 col3\" >0.5450</td>\n",
       "                        <td id=\"T_1e3b7aac_d4ac_11ea_b7f7_84fdd1e63b41row0_col4\" class=\"data row0 col4\" >0.5475</td>\n",
       "                        <td id=\"T_1e3b7aac_d4ac_11ea_b7f7_84fdd1e63b41row0_col5\" class=\"data row0 col5\" >0.4027</td>\n",
       "                        <td id=\"T_1e3b7aac_d4ac_11ea_b7f7_84fdd1e63b41row0_col6\" class=\"data row0 col6\" >0.4038</td>\n",
       "            </tr>\n",
       "            <tr>\n",
       "                        <th id=\"T_1e3b7aac_d4ac_11ea_b7f7_84fdd1e63b41level0_row1\" class=\"row_heading level0 row1\" >1</th>\n",
       "                        <td id=\"T_1e3b7aac_d4ac_11ea_b7f7_84fdd1e63b41row1_col0\" class=\"data row1 col0\" >0.5027</td>\n",
       "                        <td id=\"T_1e3b7aac_d4ac_11ea_b7f7_84fdd1e63b41row1_col1\" class=\"data row1 col1\" >0.0000</td>\n",
       "                        <td id=\"T_1e3b7aac_d4ac_11ea_b7f7_84fdd1e63b41row1_col2\" class=\"data row1 col2\" >0.4922</td>\n",
       "                        <td id=\"T_1e3b7aac_d4ac_11ea_b7f7_84fdd1e63b41row1_col3\" class=\"data row1 col3\" >0.4912</td>\n",
       "                        <td id=\"T_1e3b7aac_d4ac_11ea_b7f7_84fdd1e63b41row1_col4\" class=\"data row1 col4\" >0.4921</td>\n",
       "                        <td id=\"T_1e3b7aac_d4ac_11ea_b7f7_84fdd1e63b41row1_col5\" class=\"data row1 col5\" >0.3328</td>\n",
       "                        <td id=\"T_1e3b7aac_d4ac_11ea_b7f7_84fdd1e63b41row1_col6\" class=\"data row1 col6\" >0.3350</td>\n",
       "            </tr>\n",
       "            <tr>\n",
       "                        <th id=\"T_1e3b7aac_d4ac_11ea_b7f7_84fdd1e63b41level0_row2\" class=\"row_heading level0 row2\" >2</th>\n",
       "                        <td id=\"T_1e3b7aac_d4ac_11ea_b7f7_84fdd1e63b41row2_col0\" class=\"data row2 col0\" >0.5062</td>\n",
       "                        <td id=\"T_1e3b7aac_d4ac_11ea_b7f7_84fdd1e63b41row2_col1\" class=\"data row2 col1\" >0.0000</td>\n",
       "                        <td id=\"T_1e3b7aac_d4ac_11ea_b7f7_84fdd1e63b41row2_col2\" class=\"data row2 col2\" >0.4957</td>\n",
       "                        <td id=\"T_1e3b7aac_d4ac_11ea_b7f7_84fdd1e63b41row2_col3\" class=\"data row2 col3\" >0.5013</td>\n",
       "                        <td id=\"T_1e3b7aac_d4ac_11ea_b7f7_84fdd1e63b41row2_col4\" class=\"data row2 col4\" >0.4952</td>\n",
       "                        <td id=\"T_1e3b7aac_d4ac_11ea_b7f7_84fdd1e63b41row2_col5\" class=\"data row2 col5\" >0.3375</td>\n",
       "                        <td id=\"T_1e3b7aac_d4ac_11ea_b7f7_84fdd1e63b41row2_col6\" class=\"data row2 col6\" >0.3410</td>\n",
       "            </tr>\n",
       "            <tr>\n",
       "                        <th id=\"T_1e3b7aac_d4ac_11ea_b7f7_84fdd1e63b41level0_row3\" class=\"row_heading level0 row3\" >3</th>\n",
       "                        <td id=\"T_1e3b7aac_d4ac_11ea_b7f7_84fdd1e63b41row3_col0\" class=\"data row3 col0\" >0.5381</td>\n",
       "                        <td id=\"T_1e3b7aac_d4ac_11ea_b7f7_84fdd1e63b41row3_col1\" class=\"data row3 col1\" >0.0000</td>\n",
       "                        <td id=\"T_1e3b7aac_d4ac_11ea_b7f7_84fdd1e63b41row3_col2\" class=\"data row3 col2\" >0.5256</td>\n",
       "                        <td id=\"T_1e3b7aac_d4ac_11ea_b7f7_84fdd1e63b41row3_col3\" class=\"data row3 col3\" >0.5225</td>\n",
       "                        <td id=\"T_1e3b7aac_d4ac_11ea_b7f7_84fdd1e63b41row3_col4\" class=\"data row3 col4\" >0.5258</td>\n",
       "                        <td id=\"T_1e3b7aac_d4ac_11ea_b7f7_84fdd1e63b41row3_col5\" class=\"data row3 col5\" >0.3808</td>\n",
       "                        <td id=\"T_1e3b7aac_d4ac_11ea_b7f7_84fdd1e63b41row3_col6\" class=\"data row3 col6\" >0.3830</td>\n",
       "            </tr>\n",
       "            <tr>\n",
       "                        <th id=\"T_1e3b7aac_d4ac_11ea_b7f7_84fdd1e63b41level0_row4\" class=\"row_heading level0 row4\" >4</th>\n",
       "                        <td id=\"T_1e3b7aac_d4ac_11ea_b7f7_84fdd1e63b41row4_col0\" class=\"data row4 col0\" >0.5310</td>\n",
       "                        <td id=\"T_1e3b7aac_d4ac_11ea_b7f7_84fdd1e63b41row4_col1\" class=\"data row4 col1\" >0.0000</td>\n",
       "                        <td id=\"T_1e3b7aac_d4ac_11ea_b7f7_84fdd1e63b41row4_col2\" class=\"data row4 col2\" >0.5196</td>\n",
       "                        <td id=\"T_1e3b7aac_d4ac_11ea_b7f7_84fdd1e63b41row4_col3\" class=\"data row4 col3\" >0.5210</td>\n",
       "                        <td id=\"T_1e3b7aac_d4ac_11ea_b7f7_84fdd1e63b41row4_col4\" class=\"data row4 col4\" >0.5189</td>\n",
       "                        <td id=\"T_1e3b7aac_d4ac_11ea_b7f7_84fdd1e63b41row4_col5\" class=\"data row4 col5\" >0.3706</td>\n",
       "                        <td id=\"T_1e3b7aac_d4ac_11ea_b7f7_84fdd1e63b41row4_col6\" class=\"data row4 col6\" >0.3736</td>\n",
       "            </tr>\n",
       "            <tr>\n",
       "                        <th id=\"T_1e3b7aac_d4ac_11ea_b7f7_84fdd1e63b41level0_row5\" class=\"row_heading level0 row5\" >5</th>\n",
       "                        <td id=\"T_1e3b7aac_d4ac_11ea_b7f7_84fdd1e63b41row5_col0\" class=\"data row5 col0\" >0.5416</td>\n",
       "                        <td id=\"T_1e3b7aac_d4ac_11ea_b7f7_84fdd1e63b41row5_col1\" class=\"data row5 col1\" >0.0000</td>\n",
       "                        <td id=\"T_1e3b7aac_d4ac_11ea_b7f7_84fdd1e63b41row5_col2\" class=\"data row5 col2\" >0.5309</td>\n",
       "                        <td id=\"T_1e3b7aac_d4ac_11ea_b7f7_84fdd1e63b41row5_col3\" class=\"data row5 col3\" >0.5319</td>\n",
       "                        <td id=\"T_1e3b7aac_d4ac_11ea_b7f7_84fdd1e63b41row5_col4\" class=\"data row5 col4\" >0.5350</td>\n",
       "                        <td id=\"T_1e3b7aac_d4ac_11ea_b7f7_84fdd1e63b41row5_col5\" class=\"data row5 col5\" >0.3859</td>\n",
       "                        <td id=\"T_1e3b7aac_d4ac_11ea_b7f7_84fdd1e63b41row5_col6\" class=\"data row5 col6\" >0.3868</td>\n",
       "            </tr>\n",
       "            <tr>\n",
       "                        <th id=\"T_1e3b7aac_d4ac_11ea_b7f7_84fdd1e63b41level0_row6\" class=\"row_heading level0 row6\" >6</th>\n",
       "                        <td id=\"T_1e3b7aac_d4ac_11ea_b7f7_84fdd1e63b41row6_col0\" class=\"data row6 col0\" >0.5062</td>\n",
       "                        <td id=\"T_1e3b7aac_d4ac_11ea_b7f7_84fdd1e63b41row6_col1\" class=\"data row6 col1\" >0.0000</td>\n",
       "                        <td id=\"T_1e3b7aac_d4ac_11ea_b7f7_84fdd1e63b41row6_col2\" class=\"data row6 col2\" >0.4949</td>\n",
       "                        <td id=\"T_1e3b7aac_d4ac_11ea_b7f7_84fdd1e63b41row6_col3\" class=\"data row6 col3\" >0.4854</td>\n",
       "                        <td id=\"T_1e3b7aac_d4ac_11ea_b7f7_84fdd1e63b41row6_col4\" class=\"data row6 col4\" >0.4905</td>\n",
       "                        <td id=\"T_1e3b7aac_d4ac_11ea_b7f7_84fdd1e63b41row6_col5\" class=\"data row6 col5\" >0.3373</td>\n",
       "                        <td id=\"T_1e3b7aac_d4ac_11ea_b7f7_84fdd1e63b41row6_col6\" class=\"data row6 col6\" >0.3402</td>\n",
       "            </tr>\n",
       "            <tr>\n",
       "                        <th id=\"T_1e3b7aac_d4ac_11ea_b7f7_84fdd1e63b41level0_row7\" class=\"row_heading level0 row7\" >7</th>\n",
       "                        <td id=\"T_1e3b7aac_d4ac_11ea_b7f7_84fdd1e63b41row7_col0\" class=\"data row7 col0\" >0.5035</td>\n",
       "                        <td id=\"T_1e3b7aac_d4ac_11ea_b7f7_84fdd1e63b41row7_col1\" class=\"data row7 col1\" >0.0000</td>\n",
       "                        <td id=\"T_1e3b7aac_d4ac_11ea_b7f7_84fdd1e63b41row7_col2\" class=\"data row7 col2\" >0.4935</td>\n",
       "                        <td id=\"T_1e3b7aac_d4ac_11ea_b7f7_84fdd1e63b41row7_col3\" class=\"data row7 col3\" >0.5005</td>\n",
       "                        <td id=\"T_1e3b7aac_d4ac_11ea_b7f7_84fdd1e63b41row7_col4\" class=\"data row7 col4\" >0.4971</td>\n",
       "                        <td id=\"T_1e3b7aac_d4ac_11ea_b7f7_84fdd1e63b41row7_col5\" class=\"data row7 col5\" >0.3351</td>\n",
       "                        <td id=\"T_1e3b7aac_d4ac_11ea_b7f7_84fdd1e63b41row7_col6\" class=\"data row7 col6\" >0.3372</td>\n",
       "            </tr>\n",
       "            <tr>\n",
       "                        <th id=\"T_1e3b7aac_d4ac_11ea_b7f7_84fdd1e63b41level0_row8\" class=\"row_heading level0 row8\" >8</th>\n",
       "                        <td id=\"T_1e3b7aac_d4ac_11ea_b7f7_84fdd1e63b41row8_col0\" class=\"data row8 col0\" >0.5195</td>\n",
       "                        <td id=\"T_1e3b7aac_d4ac_11ea_b7f7_84fdd1e63b41row8_col1\" class=\"data row8 col1\" >0.0000</td>\n",
       "                        <td id=\"T_1e3b7aac_d4ac_11ea_b7f7_84fdd1e63b41row8_col2\" class=\"data row8 col2\" >0.5090</td>\n",
       "                        <td id=\"T_1e3b7aac_d4ac_11ea_b7f7_84fdd1e63b41row8_col3\" class=\"data row8 col3\" >0.5029</td>\n",
       "                        <td id=\"T_1e3b7aac_d4ac_11ea_b7f7_84fdd1e63b41row8_col4\" class=\"data row8 col4\" >0.5050</td>\n",
       "                        <td id=\"T_1e3b7aac_d4ac_11ea_b7f7_84fdd1e63b41row8_col5\" class=\"data row8 col5\" >0.3559</td>\n",
       "                        <td id=\"T_1e3b7aac_d4ac_11ea_b7f7_84fdd1e63b41row8_col6\" class=\"data row8 col6\" >0.3589</td>\n",
       "            </tr>\n",
       "            <tr>\n",
       "                        <th id=\"T_1e3b7aac_d4ac_11ea_b7f7_84fdd1e63b41level0_row9\" class=\"row_heading level0 row9\" >9</th>\n",
       "                        <td id=\"T_1e3b7aac_d4ac_11ea_b7f7_84fdd1e63b41row9_col0\" class=\"data row9 col0\" >0.5089</td>\n",
       "                        <td id=\"T_1e3b7aac_d4ac_11ea_b7f7_84fdd1e63b41row9_col1\" class=\"data row9 col1\" >0.0000</td>\n",
       "                        <td id=\"T_1e3b7aac_d4ac_11ea_b7f7_84fdd1e63b41row9_col2\" class=\"data row9 col2\" >0.4973</td>\n",
       "                        <td id=\"T_1e3b7aac_d4ac_11ea_b7f7_84fdd1e63b41row9_col3\" class=\"data row9 col3\" >0.4979</td>\n",
       "                        <td id=\"T_1e3b7aac_d4ac_11ea_b7f7_84fdd1e63b41row9_col4\" class=\"data row9 col4\" >0.4987</td>\n",
       "                        <td id=\"T_1e3b7aac_d4ac_11ea_b7f7_84fdd1e63b41row9_col5\" class=\"data row9 col5\" >0.3417</td>\n",
       "                        <td id=\"T_1e3b7aac_d4ac_11ea_b7f7_84fdd1e63b41row9_col6\" class=\"data row9 col6\" >0.3437</td>\n",
       "            </tr>\n",
       "            <tr>\n",
       "                        <th id=\"T_1e3b7aac_d4ac_11ea_b7f7_84fdd1e63b41level0_row10\" class=\"row_heading level0 row10\" >Mean</th>\n",
       "                        <td id=\"T_1e3b7aac_d4ac_11ea_b7f7_84fdd1e63b41row10_col0\" class=\"data row10 col0\" >0.5212</td>\n",
       "                        <td id=\"T_1e3b7aac_d4ac_11ea_b7f7_84fdd1e63b41row10_col1\" class=\"data row10 col1\" >0.0000</td>\n",
       "                        <td id=\"T_1e3b7aac_d4ac_11ea_b7f7_84fdd1e63b41row10_col2\" class=\"data row10 col2\" >0.5102</td>\n",
       "                        <td id=\"T_1e3b7aac_d4ac_11ea_b7f7_84fdd1e63b41row10_col3\" class=\"data row10 col3\" >0.5100</td>\n",
       "                        <td id=\"T_1e3b7aac_d4ac_11ea_b7f7_84fdd1e63b41row10_col4\" class=\"data row10 col4\" >0.5106</td>\n",
       "                        <td id=\"T_1e3b7aac_d4ac_11ea_b7f7_84fdd1e63b41row10_col5\" class=\"data row10 col5\" >0.3580</td>\n",
       "                        <td id=\"T_1e3b7aac_d4ac_11ea_b7f7_84fdd1e63b41row10_col6\" class=\"data row10 col6\" >0.3603</td>\n",
       "            </tr>\n",
       "            <tr>\n",
       "                        <th id=\"T_1e3b7aac_d4ac_11ea_b7f7_84fdd1e63b41level0_row11\" class=\"row_heading level0 row11\" >SD</th>\n",
       "                        <td id=\"T_1e3b7aac_d4ac_11ea_b7f7_84fdd1e63b41row11_col0\" class=\"data row11 col0\" >0.0177</td>\n",
       "                        <td id=\"T_1e3b7aac_d4ac_11ea_b7f7_84fdd1e63b41row11_col1\" class=\"data row11 col1\" >0.0000</td>\n",
       "                        <td id=\"T_1e3b7aac_d4ac_11ea_b7f7_84fdd1e63b41row11_col2\" class=\"data row11 col2\" >0.0174</td>\n",
       "                        <td id=\"T_1e3b7aac_d4ac_11ea_b7f7_84fdd1e63b41row11_col3\" class=\"data row11 col3\" >0.0182</td>\n",
       "                        <td id=\"T_1e3b7aac_d4ac_11ea_b7f7_84fdd1e63b41row11_col4\" class=\"data row11 col4\" >0.0190</td>\n",
       "                        <td id=\"T_1e3b7aac_d4ac_11ea_b7f7_84fdd1e63b41row11_col5\" class=\"data row11 col5\" >0.0239</td>\n",
       "                        <td id=\"T_1e3b7aac_d4ac_11ea_b7f7_84fdd1e63b41row11_col6\" class=\"data row11 col6\" >0.0235</td>\n",
       "            </tr>\n",
       "    </tbody></table>"
      ],
      "text/plain": [
       "<pandas.io.formats.style.Styler at 0x25938b60ef0>"
      ]
     },
     "metadata": {},
     "output_type": "display_data"
    }
   ],
   "source": [
    "xgb_model = create_model('xgboost')"
   ]
  },
  {
   "cell_type": "code",
   "execution_count": 48,
   "metadata": {
    "ExecuteTime": {
     "end_time": "2020-08-02T10:42:38.908853Z",
     "start_time": "2020-08-02T10:37:30.853275Z"
    }
   },
   "outputs": [
    {
     "data": {
      "text/html": [
       "<style  type=\"text/css\" >\n",
       "#T_e28e7a78_d4ac_11ea_9fd0_84fdd1e63b41row10_col0,#T_e28e7a78_d4ac_11ea_9fd0_84fdd1e63b41row10_col1,#T_e28e7a78_d4ac_11ea_9fd0_84fdd1e63b41row10_col2,#T_e28e7a78_d4ac_11ea_9fd0_84fdd1e63b41row10_col3,#T_e28e7a78_d4ac_11ea_9fd0_84fdd1e63b41row10_col4,#T_e28e7a78_d4ac_11ea_9fd0_84fdd1e63b41row10_col5,#T_e28e7a78_d4ac_11ea_9fd0_84fdd1e63b41row10_col6{\n",
       "            background:  yellow;\n",
       "        }</style><table id=\"T_e28e7a78_d4ac_11ea_9fd0_84fdd1e63b41\" ><thead>    <tr>        <th class=\"blank level0\" ></th>        <th class=\"col_heading level0 col0\" >Accuracy</th>        <th class=\"col_heading level0 col1\" >AUC</th>        <th class=\"col_heading level0 col2\" >Recall</th>        <th class=\"col_heading level0 col3\" >Prec.</th>        <th class=\"col_heading level0 col4\" >F1</th>        <th class=\"col_heading level0 col5\" >Kappa</th>        <th class=\"col_heading level0 col6\" >MCC</th>    </tr></thead><tbody>\n",
       "                <tr>\n",
       "                        <th id=\"T_e28e7a78_d4ac_11ea_9fd0_84fdd1e63b41level0_row0\" class=\"row_heading level0 row0\" >0</th>\n",
       "                        <td id=\"T_e28e7a78_d4ac_11ea_9fd0_84fdd1e63b41row0_col0\" class=\"data row0 col0\" >0.4867</td>\n",
       "                        <td id=\"T_e28e7a78_d4ac_11ea_9fd0_84fdd1e63b41row0_col1\" class=\"data row0 col1\" >0.0000</td>\n",
       "                        <td id=\"T_e28e7a78_d4ac_11ea_9fd0_84fdd1e63b41row0_col2\" class=\"data row0 col2\" >0.4777</td>\n",
       "                        <td id=\"T_e28e7a78_d4ac_11ea_9fd0_84fdd1e63b41row0_col3\" class=\"data row0 col3\" >0.4879</td>\n",
       "                        <td id=\"T_e28e7a78_d4ac_11ea_9fd0_84fdd1e63b41row0_col4\" class=\"data row0 col4\" >0.4872</td>\n",
       "                        <td id=\"T_e28e7a78_d4ac_11ea_9fd0_84fdd1e63b41row0_col5\" class=\"data row0 col5\" >0.3144</td>\n",
       "                        <td id=\"T_e28e7a78_d4ac_11ea_9fd0_84fdd1e63b41row0_col6\" class=\"data row0 col6\" >0.3144</td>\n",
       "            </tr>\n",
       "            <tr>\n",
       "                        <th id=\"T_e28e7a78_d4ac_11ea_9fd0_84fdd1e63b41level0_row1\" class=\"row_heading level0 row1\" >1</th>\n",
       "                        <td id=\"T_e28e7a78_d4ac_11ea_9fd0_84fdd1e63b41row1_col0\" class=\"data row1 col0\" >0.4637</td>\n",
       "                        <td id=\"T_e28e7a78_d4ac_11ea_9fd0_84fdd1e63b41row1_col1\" class=\"data row1 col1\" >0.0000</td>\n",
       "                        <td id=\"T_e28e7a78_d4ac_11ea_9fd0_84fdd1e63b41row1_col2\" class=\"data row1 col2\" >0.4570</td>\n",
       "                        <td id=\"T_e28e7a78_d4ac_11ea_9fd0_84fdd1e63b41row1_col3\" class=\"data row1 col3\" >0.4602</td>\n",
       "                        <td id=\"T_e28e7a78_d4ac_11ea_9fd0_84fdd1e63b41row1_col4\" class=\"data row1 col4\" >0.4612</td>\n",
       "                        <td id=\"T_e28e7a78_d4ac_11ea_9fd0_84fdd1e63b41row1_col5\" class=\"data row1 col5\" >0.2822</td>\n",
       "                        <td id=\"T_e28e7a78_d4ac_11ea_9fd0_84fdd1e63b41row1_col6\" class=\"data row1 col6\" >0.2825</td>\n",
       "            </tr>\n",
       "            <tr>\n",
       "                        <th id=\"T_e28e7a78_d4ac_11ea_9fd0_84fdd1e63b41level0_row2\" class=\"row_heading level0 row2\" >2</th>\n",
       "                        <td id=\"T_e28e7a78_d4ac_11ea_9fd0_84fdd1e63b41row2_col0\" class=\"data row2 col0\" >0.4496</td>\n",
       "                        <td id=\"T_e28e7a78_d4ac_11ea_9fd0_84fdd1e63b41row2_col1\" class=\"data row2 col1\" >0.0000</td>\n",
       "                        <td id=\"T_e28e7a78_d4ac_11ea_9fd0_84fdd1e63b41row2_col2\" class=\"data row2 col2\" >0.4389</td>\n",
       "                        <td id=\"T_e28e7a78_d4ac_11ea_9fd0_84fdd1e63b41row2_col3\" class=\"data row2 col3\" >0.4407</td>\n",
       "                        <td id=\"T_e28e7a78_d4ac_11ea_9fd0_84fdd1e63b41row2_col4\" class=\"data row2 col4\" >0.4444</td>\n",
       "                        <td id=\"T_e28e7a78_d4ac_11ea_9fd0_84fdd1e63b41row2_col5\" class=\"data row2 col5\" >0.2631</td>\n",
       "                        <td id=\"T_e28e7a78_d4ac_11ea_9fd0_84fdd1e63b41row2_col6\" class=\"data row2 col6\" >0.2635</td>\n",
       "            </tr>\n",
       "            <tr>\n",
       "                        <th id=\"T_e28e7a78_d4ac_11ea_9fd0_84fdd1e63b41level0_row3\" class=\"row_heading level0 row3\" >3</th>\n",
       "                        <td id=\"T_e28e7a78_d4ac_11ea_9fd0_84fdd1e63b41row3_col0\" class=\"data row3 col0\" >0.4991</td>\n",
       "                        <td id=\"T_e28e7a78_d4ac_11ea_9fd0_84fdd1e63b41row3_col1\" class=\"data row3 col1\" >0.0000</td>\n",
       "                        <td id=\"T_e28e7a78_d4ac_11ea_9fd0_84fdd1e63b41row3_col2\" class=\"data row3 col2\" >0.4902</td>\n",
       "                        <td id=\"T_e28e7a78_d4ac_11ea_9fd0_84fdd1e63b41row3_col3\" class=\"data row3 col3\" >0.4944</td>\n",
       "                        <td id=\"T_e28e7a78_d4ac_11ea_9fd0_84fdd1e63b41row3_col4\" class=\"data row3 col4\" >0.4964</td>\n",
       "                        <td id=\"T_e28e7a78_d4ac_11ea_9fd0_84fdd1e63b41row3_col5\" class=\"data row3 col5\" >0.3300</td>\n",
       "                        <td id=\"T_e28e7a78_d4ac_11ea_9fd0_84fdd1e63b41row3_col6\" class=\"data row3 col6\" >0.3301</td>\n",
       "            </tr>\n",
       "            <tr>\n",
       "                        <th id=\"T_e28e7a78_d4ac_11ea_9fd0_84fdd1e63b41level0_row4\" class=\"row_heading level0 row4\" >4</th>\n",
       "                        <td id=\"T_e28e7a78_d4ac_11ea_9fd0_84fdd1e63b41row4_col0\" class=\"data row4 col0\" >0.4832</td>\n",
       "                        <td id=\"T_e28e7a78_d4ac_11ea_9fd0_84fdd1e63b41row4_col1\" class=\"data row4 col1\" >0.0000</td>\n",
       "                        <td id=\"T_e28e7a78_d4ac_11ea_9fd0_84fdd1e63b41row4_col2\" class=\"data row4 col2\" >0.4747</td>\n",
       "                        <td id=\"T_e28e7a78_d4ac_11ea_9fd0_84fdd1e63b41row4_col3\" class=\"data row4 col3\" >0.4776</td>\n",
       "                        <td id=\"T_e28e7a78_d4ac_11ea_9fd0_84fdd1e63b41row4_col4\" class=\"data row4 col4\" >0.4780</td>\n",
       "                        <td id=\"T_e28e7a78_d4ac_11ea_9fd0_84fdd1e63b41row4_col5\" class=\"data row4 col5\" >0.3075</td>\n",
       "                        <td id=\"T_e28e7a78_d4ac_11ea_9fd0_84fdd1e63b41row4_col6\" class=\"data row4 col6\" >0.3085</td>\n",
       "            </tr>\n",
       "            <tr>\n",
       "                        <th id=\"T_e28e7a78_d4ac_11ea_9fd0_84fdd1e63b41level0_row5\" class=\"row_heading level0 row5\" >5</th>\n",
       "                        <td id=\"T_e28e7a78_d4ac_11ea_9fd0_84fdd1e63b41row5_col0\" class=\"data row5 col0\" >0.5150</td>\n",
       "                        <td id=\"T_e28e7a78_d4ac_11ea_9fd0_84fdd1e63b41row5_col1\" class=\"data row5 col1\" >0.0000</td>\n",
       "                        <td id=\"T_e28e7a78_d4ac_11ea_9fd0_84fdd1e63b41row5_col2\" class=\"data row5 col2\" >0.5055</td>\n",
       "                        <td id=\"T_e28e7a78_d4ac_11ea_9fd0_84fdd1e63b41row5_col3\" class=\"data row5 col3\" >0.5138</td>\n",
       "                        <td id=\"T_e28e7a78_d4ac_11ea_9fd0_84fdd1e63b41row5_col4\" class=\"data row5 col4\" >0.5144</td>\n",
       "                        <td id=\"T_e28e7a78_d4ac_11ea_9fd0_84fdd1e63b41row5_col5\" class=\"data row5 col5\" >0.3519</td>\n",
       "                        <td id=\"T_e28e7a78_d4ac_11ea_9fd0_84fdd1e63b41row5_col6\" class=\"data row5 col6\" >0.3520</td>\n",
       "            </tr>\n",
       "            <tr>\n",
       "                        <th id=\"T_e28e7a78_d4ac_11ea_9fd0_84fdd1e63b41level0_row6\" class=\"row_heading level0 row6\" >6</th>\n",
       "                        <td id=\"T_e28e7a78_d4ac_11ea_9fd0_84fdd1e63b41row6_col0\" class=\"data row6 col0\" >0.4885</td>\n",
       "                        <td id=\"T_e28e7a78_d4ac_11ea_9fd0_84fdd1e63b41row6_col1\" class=\"data row6 col1\" >0.0000</td>\n",
       "                        <td id=\"T_e28e7a78_d4ac_11ea_9fd0_84fdd1e63b41row6_col2\" class=\"data row6 col2\" >0.4827</td>\n",
       "                        <td id=\"T_e28e7a78_d4ac_11ea_9fd0_84fdd1e63b41row6_col3\" class=\"data row6 col3\" >0.4848</td>\n",
       "                        <td id=\"T_e28e7a78_d4ac_11ea_9fd0_84fdd1e63b41row6_col4\" class=\"data row6 col4\" >0.4862</td>\n",
       "                        <td id=\"T_e28e7a78_d4ac_11ea_9fd0_84fdd1e63b41row6_col5\" class=\"data row6 col5\" >0.3164</td>\n",
       "                        <td id=\"T_e28e7a78_d4ac_11ea_9fd0_84fdd1e63b41row6_col6\" class=\"data row6 col6\" >0.3166</td>\n",
       "            </tr>\n",
       "            <tr>\n",
       "                        <th id=\"T_e28e7a78_d4ac_11ea_9fd0_84fdd1e63b41level0_row7\" class=\"row_heading level0 row7\" >7</th>\n",
       "                        <td id=\"T_e28e7a78_d4ac_11ea_9fd0_84fdd1e63b41row7_col0\" class=\"data row7 col0\" >0.4574</td>\n",
       "                        <td id=\"T_e28e7a78_d4ac_11ea_9fd0_84fdd1e63b41row7_col1\" class=\"data row7 col1\" >0.0000</td>\n",
       "                        <td id=\"T_e28e7a78_d4ac_11ea_9fd0_84fdd1e63b41row7_col2\" class=\"data row7 col2\" >0.4486</td>\n",
       "                        <td id=\"T_e28e7a78_d4ac_11ea_9fd0_84fdd1e63b41row7_col3\" class=\"data row7 col3\" >0.4552</td>\n",
       "                        <td id=\"T_e28e7a78_d4ac_11ea_9fd0_84fdd1e63b41row7_col4\" class=\"data row7 col4\" >0.4561</td>\n",
       "                        <td id=\"T_e28e7a78_d4ac_11ea_9fd0_84fdd1e63b41row7_col5\" class=\"data row7 col5\" >0.2750</td>\n",
       "                        <td id=\"T_e28e7a78_d4ac_11ea_9fd0_84fdd1e63b41row7_col6\" class=\"data row7 col6\" >0.2751</td>\n",
       "            </tr>\n",
       "            <tr>\n",
       "                        <th id=\"T_e28e7a78_d4ac_11ea_9fd0_84fdd1e63b41level0_row8\" class=\"row_heading level0 row8\" >8</th>\n",
       "                        <td id=\"T_e28e7a78_d4ac_11ea_9fd0_84fdd1e63b41row8_col0\" class=\"data row8 col0\" >0.4894</td>\n",
       "                        <td id=\"T_e28e7a78_d4ac_11ea_9fd0_84fdd1e63b41row8_col1\" class=\"data row8 col1\" >0.0000</td>\n",
       "                        <td id=\"T_e28e7a78_d4ac_11ea_9fd0_84fdd1e63b41row8_col2\" class=\"data row8 col2\" >0.4800</td>\n",
       "                        <td id=\"T_e28e7a78_d4ac_11ea_9fd0_84fdd1e63b41row8_col3\" class=\"data row8 col3\" >0.4827</td>\n",
       "                        <td id=\"T_e28e7a78_d4ac_11ea_9fd0_84fdd1e63b41row8_col4\" class=\"data row8 col4\" >0.4855</td>\n",
       "                        <td id=\"T_e28e7a78_d4ac_11ea_9fd0_84fdd1e63b41row8_col5\" class=\"data row8 col5\" >0.3172</td>\n",
       "                        <td id=\"T_e28e7a78_d4ac_11ea_9fd0_84fdd1e63b41row8_col6\" class=\"data row8 col6\" >0.3174</td>\n",
       "            </tr>\n",
       "            <tr>\n",
       "                        <th id=\"T_e28e7a78_d4ac_11ea_9fd0_84fdd1e63b41level0_row9\" class=\"row_heading level0 row9\" >9</th>\n",
       "                        <td id=\"T_e28e7a78_d4ac_11ea_9fd0_84fdd1e63b41row9_col0\" class=\"data row9 col0\" >0.4752</td>\n",
       "                        <td id=\"T_e28e7a78_d4ac_11ea_9fd0_84fdd1e63b41row9_col1\" class=\"data row9 col1\" >0.0000</td>\n",
       "                        <td id=\"T_e28e7a78_d4ac_11ea_9fd0_84fdd1e63b41row9_col2\" class=\"data row9 col2\" >0.4653</td>\n",
       "                        <td id=\"T_e28e7a78_d4ac_11ea_9fd0_84fdd1e63b41row9_col3\" class=\"data row9 col3\" >0.4704</td>\n",
       "                        <td id=\"T_e28e7a78_d4ac_11ea_9fd0_84fdd1e63b41row9_col4\" class=\"data row9 col4\" >0.4722</td>\n",
       "                        <td id=\"T_e28e7a78_d4ac_11ea_9fd0_84fdd1e63b41row9_col5\" class=\"data row9 col5\" >0.2980</td>\n",
       "                        <td id=\"T_e28e7a78_d4ac_11ea_9fd0_84fdd1e63b41row9_col6\" class=\"data row9 col6\" >0.2982</td>\n",
       "            </tr>\n",
       "            <tr>\n",
       "                        <th id=\"T_e28e7a78_d4ac_11ea_9fd0_84fdd1e63b41level0_row10\" class=\"row_heading level0 row10\" >Mean</th>\n",
       "                        <td id=\"T_e28e7a78_d4ac_11ea_9fd0_84fdd1e63b41row10_col0\" class=\"data row10 col0\" >0.4808</td>\n",
       "                        <td id=\"T_e28e7a78_d4ac_11ea_9fd0_84fdd1e63b41row10_col1\" class=\"data row10 col1\" >0.0000</td>\n",
       "                        <td id=\"T_e28e7a78_d4ac_11ea_9fd0_84fdd1e63b41row10_col2\" class=\"data row10 col2\" >0.4721</td>\n",
       "                        <td id=\"T_e28e7a78_d4ac_11ea_9fd0_84fdd1e63b41row10_col3\" class=\"data row10 col3\" >0.4768</td>\n",
       "                        <td id=\"T_e28e7a78_d4ac_11ea_9fd0_84fdd1e63b41row10_col4\" class=\"data row10 col4\" >0.4782</td>\n",
       "                        <td id=\"T_e28e7a78_d4ac_11ea_9fd0_84fdd1e63b41row10_col5\" class=\"data row10 col5\" >0.3056</td>\n",
       "                        <td id=\"T_e28e7a78_d4ac_11ea_9fd0_84fdd1e63b41row10_col6\" class=\"data row10 col6\" >0.3058</td>\n",
       "            </tr>\n",
       "            <tr>\n",
       "                        <th id=\"T_e28e7a78_d4ac_11ea_9fd0_84fdd1e63b41level0_row11\" class=\"row_heading level0 row11\" >SD</th>\n",
       "                        <td id=\"T_e28e7a78_d4ac_11ea_9fd0_84fdd1e63b41row11_col0\" class=\"data row11 col0\" >0.0188</td>\n",
       "                        <td id=\"T_e28e7a78_d4ac_11ea_9fd0_84fdd1e63b41row11_col1\" class=\"data row11 col1\" >0.0000</td>\n",
       "                        <td id=\"T_e28e7a78_d4ac_11ea_9fd0_84fdd1e63b41row11_col2\" class=\"data row11 col2\" >0.0189</td>\n",
       "                        <td id=\"T_e28e7a78_d4ac_11ea_9fd0_84fdd1e63b41row11_col3\" class=\"data row11 col3\" >0.0200</td>\n",
       "                        <td id=\"T_e28e7a78_d4ac_11ea_9fd0_84fdd1e63b41row11_col4\" class=\"data row11 col4\" >0.0195</td>\n",
       "                        <td id=\"T_e28e7a78_d4ac_11ea_9fd0_84fdd1e63b41row11_col5\" class=\"data row11 col5\" >0.0253</td>\n",
       "                        <td id=\"T_e28e7a78_d4ac_11ea_9fd0_84fdd1e63b41row11_col6\" class=\"data row11 col6\" >0.0253</td>\n",
       "            </tr>\n",
       "    </tbody></table>"
      ],
      "text/plain": [
       "<pandas.io.formats.style.Styler at 0x25955193128>"
      ]
     },
     "metadata": {},
     "output_type": "display_data"
    }
   ],
   "source": [
    "tuned_xgb = tune_model(xgb_model, optimize = 'Accuracy')"
   ]
  },
  {
   "cell_type": "markdown",
   "metadata": {},
   "source": [
    "###### CatBoost Classifier"
   ]
  },
  {
   "cell_type": "code",
   "execution_count": 49,
   "metadata": {
    "ExecuteTime": {
     "end_time": "2020-08-02T10:45:55.506338Z",
     "start_time": "2020-08-02T10:43:05.864547Z"
    }
   },
   "outputs": [
    {
     "data": {
      "text/html": [
       "<style  type=\"text/css\" >\n",
       "#T_57c189e4_d4ad_11ea_b509_84fdd1e63b41row10_col0,#T_57c189e4_d4ad_11ea_b509_84fdd1e63b41row10_col1,#T_57c189e4_d4ad_11ea_b509_84fdd1e63b41row10_col2,#T_57c189e4_d4ad_11ea_b509_84fdd1e63b41row10_col3,#T_57c189e4_d4ad_11ea_b509_84fdd1e63b41row10_col4,#T_57c189e4_d4ad_11ea_b509_84fdd1e63b41row10_col5,#T_57c189e4_d4ad_11ea_b509_84fdd1e63b41row10_col6{\n",
       "            background:  yellow;\n",
       "        }</style><table id=\"T_57c189e4_d4ad_11ea_b509_84fdd1e63b41\" ><thead>    <tr>        <th class=\"blank level0\" ></th>        <th class=\"col_heading level0 col0\" >Accuracy</th>        <th class=\"col_heading level0 col1\" >AUC</th>        <th class=\"col_heading level0 col2\" >Recall</th>        <th class=\"col_heading level0 col3\" >Prec.</th>        <th class=\"col_heading level0 col4\" >F1</th>        <th class=\"col_heading level0 col5\" >Kappa</th>        <th class=\"col_heading level0 col6\" >MCC</th>    </tr></thead><tbody>\n",
       "                <tr>\n",
       "                        <th id=\"T_57c189e4_d4ad_11ea_b509_84fdd1e63b41level0_row0\" class=\"row_heading level0 row0\" >0</th>\n",
       "                        <td id=\"T_57c189e4_d4ad_11ea_b509_84fdd1e63b41row0_col0\" class=\"data row0 col0\" >0.5239</td>\n",
       "                        <td id=\"T_57c189e4_d4ad_11ea_b509_84fdd1e63b41row0_col1\" class=\"data row0 col1\" >0.0000</td>\n",
       "                        <td id=\"T_57c189e4_d4ad_11ea_b509_84fdd1e63b41row0_col2\" class=\"data row0 col2\" >0.5136</td>\n",
       "                        <td id=\"T_57c189e4_d4ad_11ea_b509_84fdd1e63b41row0_col3\" class=\"data row0 col3\" >0.5155</td>\n",
       "                        <td id=\"T_57c189e4_d4ad_11ea_b509_84fdd1e63b41row0_col4\" class=\"data row0 col4\" >0.5183</td>\n",
       "                        <td id=\"T_57c189e4_d4ad_11ea_b509_84fdd1e63b41row0_col5\" class=\"data row0 col5\" >0.3625</td>\n",
       "                        <td id=\"T_57c189e4_d4ad_11ea_b509_84fdd1e63b41row0_col6\" class=\"data row0 col6\" >0.3631</td>\n",
       "            </tr>\n",
       "            <tr>\n",
       "                        <th id=\"T_57c189e4_d4ad_11ea_b509_84fdd1e63b41level0_row1\" class=\"row_heading level0 row1\" >1</th>\n",
       "                        <td id=\"T_57c189e4_d4ad_11ea_b509_84fdd1e63b41row1_col0\" class=\"data row1 col0\" >0.5115</td>\n",
       "                        <td id=\"T_57c189e4_d4ad_11ea_b509_84fdd1e63b41row1_col1\" class=\"data row1 col1\" >0.0000</td>\n",
       "                        <td id=\"T_57c189e4_d4ad_11ea_b509_84fdd1e63b41row1_col2\" class=\"data row1 col2\" >0.5041</td>\n",
       "                        <td id=\"T_57c189e4_d4ad_11ea_b509_84fdd1e63b41row1_col3\" class=\"data row1 col3\" >0.5075</td>\n",
       "                        <td id=\"T_57c189e4_d4ad_11ea_b509_84fdd1e63b41row1_col4\" class=\"data row1 col4\" >0.5082</td>\n",
       "                        <td id=\"T_57c189e4_d4ad_11ea_b509_84fdd1e63b41row1_col5\" class=\"data row1 col5\" >0.3459</td>\n",
       "                        <td id=\"T_57c189e4_d4ad_11ea_b509_84fdd1e63b41row1_col6\" class=\"data row1 col6\" >0.3465</td>\n",
       "            </tr>\n",
       "            <tr>\n",
       "                        <th id=\"T_57c189e4_d4ad_11ea_b509_84fdd1e63b41level0_row2\" class=\"row_heading level0 row2\" >2</th>\n",
       "                        <td id=\"T_57c189e4_d4ad_11ea_b509_84fdd1e63b41row2_col0\" class=\"data row2 col0\" >0.4726</td>\n",
       "                        <td id=\"T_57c189e4_d4ad_11ea_b509_84fdd1e63b41row2_col1\" class=\"data row2 col1\" >0.0000</td>\n",
       "                        <td id=\"T_57c189e4_d4ad_11ea_b509_84fdd1e63b41row2_col2\" class=\"data row2 col2\" >0.4625</td>\n",
       "                        <td id=\"T_57c189e4_d4ad_11ea_b509_84fdd1e63b41row2_col3\" class=\"data row2 col3\" >0.4669</td>\n",
       "                        <td id=\"T_57c189e4_d4ad_11ea_b509_84fdd1e63b41row2_col4\" class=\"data row2 col4\" >0.4664</td>\n",
       "                        <td id=\"T_57c189e4_d4ad_11ea_b509_84fdd1e63b41row2_col5\" class=\"data row2 col5\" >0.2932</td>\n",
       "                        <td id=\"T_57c189e4_d4ad_11ea_b509_84fdd1e63b41row2_col6\" class=\"data row2 col6\" >0.2947</td>\n",
       "            </tr>\n",
       "            <tr>\n",
       "                        <th id=\"T_57c189e4_d4ad_11ea_b509_84fdd1e63b41level0_row3\" class=\"row_heading level0 row3\" >3</th>\n",
       "                        <td id=\"T_57c189e4_d4ad_11ea_b509_84fdd1e63b41row3_col0\" class=\"data row3 col0\" >0.5611</td>\n",
       "                        <td id=\"T_57c189e4_d4ad_11ea_b509_84fdd1e63b41row3_col1\" class=\"data row3 col1\" >0.0000</td>\n",
       "                        <td id=\"T_57c189e4_d4ad_11ea_b509_84fdd1e63b41row3_col2\" class=\"data row3 col2\" >0.5516</td>\n",
       "                        <td id=\"T_57c189e4_d4ad_11ea_b509_84fdd1e63b41row3_col3\" class=\"data row3 col3\" >0.5539</td>\n",
       "                        <td id=\"T_57c189e4_d4ad_11ea_b509_84fdd1e63b41row3_col4\" class=\"data row3 col4\" >0.5554</td>\n",
       "                        <td id=\"T_57c189e4_d4ad_11ea_b509_84fdd1e63b41row3_col5\" class=\"data row3 col5\" >0.4122</td>\n",
       "                        <td id=\"T_57c189e4_d4ad_11ea_b509_84fdd1e63b41row3_col6\" class=\"data row3 col6\" >0.4132</td>\n",
       "            </tr>\n",
       "            <tr>\n",
       "                        <th id=\"T_57c189e4_d4ad_11ea_b509_84fdd1e63b41level0_row4\" class=\"row_heading level0 row4\" >4</th>\n",
       "                        <td id=\"T_57c189e4_d4ad_11ea_b509_84fdd1e63b41row4_col0\" class=\"data row4 col0\" >0.5133</td>\n",
       "                        <td id=\"T_57c189e4_d4ad_11ea_b509_84fdd1e63b41row4_col1\" class=\"data row4 col1\" >0.0000</td>\n",
       "                        <td id=\"T_57c189e4_d4ad_11ea_b509_84fdd1e63b41row4_col2\" class=\"data row4 col2\" >0.5043</td>\n",
       "                        <td id=\"T_57c189e4_d4ad_11ea_b509_84fdd1e63b41row4_col3\" class=\"data row4 col3\" >0.5080</td>\n",
       "                        <td id=\"T_57c189e4_d4ad_11ea_b509_84fdd1e63b41row4_col4\" class=\"data row4 col4\" >0.5075</td>\n",
       "                        <td id=\"T_57c189e4_d4ad_11ea_b509_84fdd1e63b41row4_col5\" class=\"data row4 col5\" >0.3480</td>\n",
       "                        <td id=\"T_57c189e4_d4ad_11ea_b509_84fdd1e63b41row4_col6\" class=\"data row4 col6\" >0.3494</td>\n",
       "            </tr>\n",
       "            <tr>\n",
       "                        <th id=\"T_57c189e4_d4ad_11ea_b509_84fdd1e63b41level0_row5\" class=\"row_heading level0 row5\" >5</th>\n",
       "                        <td id=\"T_57c189e4_d4ad_11ea_b509_84fdd1e63b41row5_col0\" class=\"data row5 col0\" >0.5416</td>\n",
       "                        <td id=\"T_57c189e4_d4ad_11ea_b509_84fdd1e63b41row5_col1\" class=\"data row5 col1\" >0.0000</td>\n",
       "                        <td id=\"T_57c189e4_d4ad_11ea_b509_84fdd1e63b41row5_col2\" class=\"data row5 col2\" >0.5309</td>\n",
       "                        <td id=\"T_57c189e4_d4ad_11ea_b509_84fdd1e63b41row5_col3\" class=\"data row5 col3\" >0.5346</td>\n",
       "                        <td id=\"T_57c189e4_d4ad_11ea_b509_84fdd1e63b41row5_col4\" class=\"data row5 col4\" >0.5376</td>\n",
       "                        <td id=\"T_57c189e4_d4ad_11ea_b509_84fdd1e63b41row5_col5\" class=\"data row5 col5\" >0.3867</td>\n",
       "                        <td id=\"T_57c189e4_d4ad_11ea_b509_84fdd1e63b41row5_col6\" class=\"data row5 col6\" >0.3870</td>\n",
       "            </tr>\n",
       "            <tr>\n",
       "                        <th id=\"T_57c189e4_d4ad_11ea_b509_84fdd1e63b41level0_row6\" class=\"row_heading level0 row6\" >6</th>\n",
       "                        <td id=\"T_57c189e4_d4ad_11ea_b509_84fdd1e63b41row6_col0\" class=\"data row6 col0\" >0.5133</td>\n",
       "                        <td id=\"T_57c189e4_d4ad_11ea_b509_84fdd1e63b41row6_col1\" class=\"data row6 col1\" >0.0000</td>\n",
       "                        <td id=\"T_57c189e4_d4ad_11ea_b509_84fdd1e63b41row6_col2\" class=\"data row6 col2\" >0.5045</td>\n",
       "                        <td id=\"T_57c189e4_d4ad_11ea_b509_84fdd1e63b41row6_col3\" class=\"data row6 col3\" >0.5029</td>\n",
       "                        <td id=\"T_57c189e4_d4ad_11ea_b509_84fdd1e63b41row6_col4\" class=\"data row6 col4\" >0.5050</td>\n",
       "                        <td id=\"T_57c189e4_d4ad_11ea_b509_84fdd1e63b41row6_col5\" class=\"data row6 col5\" >0.3477</td>\n",
       "                        <td id=\"T_57c189e4_d4ad_11ea_b509_84fdd1e63b41row6_col6\" class=\"data row6 col6\" >0.3492</td>\n",
       "            </tr>\n",
       "            <tr>\n",
       "                        <th id=\"T_57c189e4_d4ad_11ea_b509_84fdd1e63b41level0_row7\" class=\"row_heading level0 row7\" >7</th>\n",
       "                        <td id=\"T_57c189e4_d4ad_11ea_b509_84fdd1e63b41row7_col0\" class=\"data row7 col0\" >0.4823</td>\n",
       "                        <td id=\"T_57c189e4_d4ad_11ea_b509_84fdd1e63b41row7_col1\" class=\"data row7 col1\" >0.0000</td>\n",
       "                        <td id=\"T_57c189e4_d4ad_11ea_b509_84fdd1e63b41row7_col2\" class=\"data row7 col2\" >0.4723</td>\n",
       "                        <td id=\"T_57c189e4_d4ad_11ea_b509_84fdd1e63b41row7_col3\" class=\"data row7 col3\" >0.4740</td>\n",
       "                        <td id=\"T_57c189e4_d4ad_11ea_b509_84fdd1e63b41row7_col4\" class=\"data row7 col4\" >0.4769</td>\n",
       "                        <td id=\"T_57c189e4_d4ad_11ea_b509_84fdd1e63b41row7_col5\" class=\"data row7 col5\" >0.3073</td>\n",
       "                        <td id=\"T_57c189e4_d4ad_11ea_b509_84fdd1e63b41row7_col6\" class=\"data row7 col6\" >0.3079</td>\n",
       "            </tr>\n",
       "            <tr>\n",
       "                        <th id=\"T_57c189e4_d4ad_11ea_b509_84fdd1e63b41level0_row8\" class=\"row_heading level0 row8\" >8</th>\n",
       "                        <td id=\"T_57c189e4_d4ad_11ea_b509_84fdd1e63b41row8_col0\" class=\"data row8 col0\" >0.5018</td>\n",
       "                        <td id=\"T_57c189e4_d4ad_11ea_b509_84fdd1e63b41row8_col1\" class=\"data row8 col1\" >0.0000</td>\n",
       "                        <td id=\"T_57c189e4_d4ad_11ea_b509_84fdd1e63b41row8_col2\" class=\"data row8 col2\" >0.4916</td>\n",
       "                        <td id=\"T_57c189e4_d4ad_11ea_b509_84fdd1e63b41row8_col3\" class=\"data row8 col3\" >0.4921</td>\n",
       "                        <td id=\"T_57c189e4_d4ad_11ea_b509_84fdd1e63b41row8_col4\" class=\"data row8 col4\" >0.4961</td>\n",
       "                        <td id=\"T_57c189e4_d4ad_11ea_b509_84fdd1e63b41row8_col5\" class=\"data row8 col5\" >0.3331</td>\n",
       "                        <td id=\"T_57c189e4_d4ad_11ea_b509_84fdd1e63b41row8_col6\" class=\"data row8 col6\" >0.3336</td>\n",
       "            </tr>\n",
       "            <tr>\n",
       "                        <th id=\"T_57c189e4_d4ad_11ea_b509_84fdd1e63b41level0_row9\" class=\"row_heading level0 row9\" >9</th>\n",
       "                        <td id=\"T_57c189e4_d4ad_11ea_b509_84fdd1e63b41row9_col0\" class=\"data row9 col0\" >0.5337</td>\n",
       "                        <td id=\"T_57c189e4_d4ad_11ea_b509_84fdd1e63b41row9_col1\" class=\"data row9 col1\" >0.0000</td>\n",
       "                        <td id=\"T_57c189e4_d4ad_11ea_b509_84fdd1e63b41row9_col2\" class=\"data row9 col2\" >0.5245</td>\n",
       "                        <td id=\"T_57c189e4_d4ad_11ea_b509_84fdd1e63b41row9_col3\" class=\"data row9 col3\" >0.5278</td>\n",
       "                        <td id=\"T_57c189e4_d4ad_11ea_b509_84fdd1e63b41row9_col4\" class=\"data row9 col4\" >0.5300</td>\n",
       "                        <td id=\"T_57c189e4_d4ad_11ea_b509_84fdd1e63b41row9_col5\" class=\"data row9 col5\" >0.3758</td>\n",
       "                        <td id=\"T_57c189e4_d4ad_11ea_b509_84fdd1e63b41row9_col6\" class=\"data row9 col6\" >0.3762</td>\n",
       "            </tr>\n",
       "            <tr>\n",
       "                        <th id=\"T_57c189e4_d4ad_11ea_b509_84fdd1e63b41level0_row10\" class=\"row_heading level0 row10\" >Mean</th>\n",
       "                        <td id=\"T_57c189e4_d4ad_11ea_b509_84fdd1e63b41row10_col0\" class=\"data row10 col0\" >0.5155</td>\n",
       "                        <td id=\"T_57c189e4_d4ad_11ea_b509_84fdd1e63b41row10_col1\" class=\"data row10 col1\" >0.0000</td>\n",
       "                        <td id=\"T_57c189e4_d4ad_11ea_b509_84fdd1e63b41row10_col2\" class=\"data row10 col2\" >0.5060</td>\n",
       "                        <td id=\"T_57c189e4_d4ad_11ea_b509_84fdd1e63b41row10_col3\" class=\"data row10 col3\" >0.5083</td>\n",
       "                        <td id=\"T_57c189e4_d4ad_11ea_b509_84fdd1e63b41row10_col4\" class=\"data row10 col4\" >0.5101</td>\n",
       "                        <td id=\"T_57c189e4_d4ad_11ea_b509_84fdd1e63b41row10_col5\" class=\"data row10 col5\" >0.3512</td>\n",
       "                        <td id=\"T_57c189e4_d4ad_11ea_b509_84fdd1e63b41row10_col6\" class=\"data row10 col6\" >0.3521</td>\n",
       "            </tr>\n",
       "            <tr>\n",
       "                        <th id=\"T_57c189e4_d4ad_11ea_b509_84fdd1e63b41level0_row11\" class=\"row_heading level0 row11\" >SD</th>\n",
       "                        <td id=\"T_57c189e4_d4ad_11ea_b509_84fdd1e63b41row11_col0\" class=\"data row11 col0\" >0.0251</td>\n",
       "                        <td id=\"T_57c189e4_d4ad_11ea_b509_84fdd1e63b41row11_col1\" class=\"data row11 col1\" >0.0000</td>\n",
       "                        <td id=\"T_57c189e4_d4ad_11ea_b509_84fdd1e63b41row11_col2\" class=\"data row11 col2\" >0.0252</td>\n",
       "                        <td id=\"T_57c189e4_d4ad_11ea_b509_84fdd1e63b41row11_col3\" class=\"data row11 col3\" >0.0253</td>\n",
       "                        <td id=\"T_57c189e4_d4ad_11ea_b509_84fdd1e63b41row11_col4\" class=\"data row11 col4\" >0.0255</td>\n",
       "                        <td id=\"T_57c189e4_d4ad_11ea_b509_84fdd1e63b41row11_col5\" class=\"data row11 col5\" >0.0337</td>\n",
       "                        <td id=\"T_57c189e4_d4ad_11ea_b509_84fdd1e63b41row11_col6\" class=\"data row11 col6\" >0.0336</td>\n",
       "            </tr>\n",
       "    </tbody></table>"
      ],
      "text/plain": [
       "<pandas.io.formats.style.Styler at 0x25954cf50f0>"
      ]
     },
     "metadata": {},
     "output_type": "display_data"
    }
   ],
   "source": [
    "cbc_model = create_model('catboost')"
   ]
  },
  {
   "cell_type": "code",
   "execution_count": 50,
   "metadata": {
    "ExecuteTime": {
     "end_time": "2020-08-02T10:48:12.604310Z",
     "start_time": "2020-08-02T10:46:08.047543Z"
    }
   },
   "outputs": [
    {
     "data": {
      "text/html": [
       "<style  type=\"text/css\" >\n",
       "#T_a978e05a_d4ad_11ea_b68d_84fdd1e63b41row10_col0,#T_a978e05a_d4ad_11ea_b68d_84fdd1e63b41row10_col1,#T_a978e05a_d4ad_11ea_b68d_84fdd1e63b41row10_col2,#T_a978e05a_d4ad_11ea_b68d_84fdd1e63b41row10_col3,#T_a978e05a_d4ad_11ea_b68d_84fdd1e63b41row10_col4,#T_a978e05a_d4ad_11ea_b68d_84fdd1e63b41row10_col5,#T_a978e05a_d4ad_11ea_b68d_84fdd1e63b41row10_col6{\n",
       "            background:  yellow;\n",
       "        }</style><table id=\"T_a978e05a_d4ad_11ea_b68d_84fdd1e63b41\" ><thead>    <tr>        <th class=\"blank level0\" ></th>        <th class=\"col_heading level0 col0\" >Accuracy</th>        <th class=\"col_heading level0 col1\" >AUC</th>        <th class=\"col_heading level0 col2\" >Recall</th>        <th class=\"col_heading level0 col3\" >Prec.</th>        <th class=\"col_heading level0 col4\" >F1</th>        <th class=\"col_heading level0 col5\" >Kappa</th>        <th class=\"col_heading level0 col6\" >MCC</th>    </tr></thead><tbody>\n",
       "                <tr>\n",
       "                        <th id=\"T_a978e05a_d4ad_11ea_b68d_84fdd1e63b41level0_row0\" class=\"row_heading level0 row0\" >0</th>\n",
       "                        <td id=\"T_a978e05a_d4ad_11ea_b68d_84fdd1e63b41row0_col0\" class=\"data row0 col0\" >0.5434</td>\n",
       "                        <td id=\"T_a978e05a_d4ad_11ea_b68d_84fdd1e63b41row0_col1\" class=\"data row0 col1\" >0.0000</td>\n",
       "                        <td id=\"T_a978e05a_d4ad_11ea_b68d_84fdd1e63b41row0_col2\" class=\"data row0 col2\" >0.5333</td>\n",
       "                        <td id=\"T_a978e05a_d4ad_11ea_b68d_84fdd1e63b41row0_col3\" class=\"data row0 col3\" >0.5362</td>\n",
       "                        <td id=\"T_a978e05a_d4ad_11ea_b68d_84fdd1e63b41row0_col4\" class=\"data row0 col4\" >0.5376</td>\n",
       "                        <td id=\"T_a978e05a_d4ad_11ea_b68d_84fdd1e63b41row0_col5\" class=\"data row0 col5\" >0.3885</td>\n",
       "                        <td id=\"T_a978e05a_d4ad_11ea_b68d_84fdd1e63b41row0_col6\" class=\"data row0 col6\" >0.3897</td>\n",
       "            </tr>\n",
       "            <tr>\n",
       "                        <th id=\"T_a978e05a_d4ad_11ea_b68d_84fdd1e63b41level0_row1\" class=\"row_heading level0 row1\" >1</th>\n",
       "                        <td id=\"T_a978e05a_d4ad_11ea_b68d_84fdd1e63b41row1_col0\" class=\"data row1 col0\" >0.5221</td>\n",
       "                        <td id=\"T_a978e05a_d4ad_11ea_b68d_84fdd1e63b41row1_col1\" class=\"data row1 col1\" >0.0000</td>\n",
       "                        <td id=\"T_a978e05a_d4ad_11ea_b68d_84fdd1e63b41row1_col2\" class=\"data row1 col2\" >0.5115</td>\n",
       "                        <td id=\"T_a978e05a_d4ad_11ea_b68d_84fdd1e63b41row1_col3\" class=\"data row1 col3\" >0.5135</td>\n",
       "                        <td id=\"T_a978e05a_d4ad_11ea_b68d_84fdd1e63b41row1_col4\" class=\"data row1 col4\" >0.5107</td>\n",
       "                        <td id=\"T_a978e05a_d4ad_11ea_b68d_84fdd1e63b41row1_col5\" class=\"data row1 col5\" >0.3588</td>\n",
       "                        <td id=\"T_a978e05a_d4ad_11ea_b68d_84fdd1e63b41row1_col6\" class=\"data row1 col6\" >0.3619</td>\n",
       "            </tr>\n",
       "            <tr>\n",
       "                        <th id=\"T_a978e05a_d4ad_11ea_b68d_84fdd1e63b41level0_row2\" class=\"row_heading level0 row2\" >2</th>\n",
       "                        <td id=\"T_a978e05a_d4ad_11ea_b68d_84fdd1e63b41row2_col0\" class=\"data row2 col0\" >0.4956</td>\n",
       "                        <td id=\"T_a978e05a_d4ad_11ea_b68d_84fdd1e63b41row2_col1\" class=\"data row2 col1\" >0.0000</td>\n",
       "                        <td id=\"T_a978e05a_d4ad_11ea_b68d_84fdd1e63b41row2_col2\" class=\"data row2 col2\" >0.4848</td>\n",
       "                        <td id=\"T_a978e05a_d4ad_11ea_b68d_84fdd1e63b41row2_col3\" class=\"data row2 col3\" >0.4880</td>\n",
       "                        <td id=\"T_a978e05a_d4ad_11ea_b68d_84fdd1e63b41row2_col4\" class=\"data row2 col4\" >0.4874</td>\n",
       "                        <td id=\"T_a978e05a_d4ad_11ea_b68d_84fdd1e63b41row2_col5\" class=\"data row2 col5\" >0.3233</td>\n",
       "                        <td id=\"T_a978e05a_d4ad_11ea_b68d_84fdd1e63b41row2_col6\" class=\"data row2 col6\" >0.3253</td>\n",
       "            </tr>\n",
       "            <tr>\n",
       "                        <th id=\"T_a978e05a_d4ad_11ea_b68d_84fdd1e63b41level0_row3\" class=\"row_heading level0 row3\" >3</th>\n",
       "                        <td id=\"T_a978e05a_d4ad_11ea_b68d_84fdd1e63b41row3_col0\" class=\"data row3 col0\" >0.5628</td>\n",
       "                        <td id=\"T_a978e05a_d4ad_11ea_b68d_84fdd1e63b41row3_col1\" class=\"data row3 col1\" >0.0000</td>\n",
       "                        <td id=\"T_a978e05a_d4ad_11ea_b68d_84fdd1e63b41row3_col2\" class=\"data row3 col2\" >0.5517</td>\n",
       "                        <td id=\"T_a978e05a_d4ad_11ea_b68d_84fdd1e63b41row3_col3\" class=\"data row3 col3\" >0.5508</td>\n",
       "                        <td id=\"T_a978e05a_d4ad_11ea_b68d_84fdd1e63b41row3_col4\" class=\"data row3 col4\" >0.5517</td>\n",
       "                        <td id=\"T_a978e05a_d4ad_11ea_b68d_84fdd1e63b41row3_col5\" class=\"data row3 col5\" >0.4141</td>\n",
       "                        <td id=\"T_a978e05a_d4ad_11ea_b68d_84fdd1e63b41row3_col6\" class=\"data row3 col6\" >0.4166</td>\n",
       "            </tr>\n",
       "            <tr>\n",
       "                        <th id=\"T_a978e05a_d4ad_11ea_b68d_84fdd1e63b41level0_row4\" class=\"row_heading level0 row4\" >4</th>\n",
       "                        <td id=\"T_a978e05a_d4ad_11ea_b68d_84fdd1e63b41row4_col0\" class=\"data row4 col0\" >0.5327</td>\n",
       "                        <td id=\"T_a978e05a_d4ad_11ea_b68d_84fdd1e63b41row4_col1\" class=\"data row4 col1\" >0.0000</td>\n",
       "                        <td id=\"T_a978e05a_d4ad_11ea_b68d_84fdd1e63b41row4_col2\" class=\"data row4 col2\" >0.5217</td>\n",
       "                        <td id=\"T_a978e05a_d4ad_11ea_b68d_84fdd1e63b41row4_col3\" class=\"data row4 col3\" >0.5257</td>\n",
       "                        <td id=\"T_a978e05a_d4ad_11ea_b68d_84fdd1e63b41row4_col4\" class=\"data row4 col4\" >0.5222</td>\n",
       "                        <td id=\"T_a978e05a_d4ad_11ea_b68d_84fdd1e63b41row4_col5\" class=\"data row4 col5\" >0.3731</td>\n",
       "                        <td id=\"T_a978e05a_d4ad_11ea_b68d_84fdd1e63b41row4_col6\" class=\"data row4 col6\" >0.3761</td>\n",
       "            </tr>\n",
       "            <tr>\n",
       "                        <th id=\"T_a978e05a_d4ad_11ea_b68d_84fdd1e63b41level0_row5\" class=\"row_heading level0 row5\" >5</th>\n",
       "                        <td id=\"T_a978e05a_d4ad_11ea_b68d_84fdd1e63b41row5_col0\" class=\"data row5 col0\" >0.5398</td>\n",
       "                        <td id=\"T_a978e05a_d4ad_11ea_b68d_84fdd1e63b41row5_col1\" class=\"data row5 col1\" >0.0000</td>\n",
       "                        <td id=\"T_a978e05a_d4ad_11ea_b68d_84fdd1e63b41row5_col2\" class=\"data row5 col2\" >0.5283</td>\n",
       "                        <td id=\"T_a978e05a_d4ad_11ea_b68d_84fdd1e63b41row5_col3\" class=\"data row5 col3\" >0.5298</td>\n",
       "                        <td id=\"T_a978e05a_d4ad_11ea_b68d_84fdd1e63b41row5_col4\" class=\"data row5 col4\" >0.5332</td>\n",
       "                        <td id=\"T_a978e05a_d4ad_11ea_b68d_84fdd1e63b41row5_col5\" class=\"data row5 col5\" >0.3837</td>\n",
       "                        <td id=\"T_a978e05a_d4ad_11ea_b68d_84fdd1e63b41row5_col6\" class=\"data row5 col6\" >0.3845</td>\n",
       "            </tr>\n",
       "            <tr>\n",
       "                        <th id=\"T_a978e05a_d4ad_11ea_b68d_84fdd1e63b41level0_row6\" class=\"row_heading level0 row6\" >6</th>\n",
       "                        <td id=\"T_a978e05a_d4ad_11ea_b68d_84fdd1e63b41row6_col0\" class=\"data row6 col0\" >0.5327</td>\n",
       "                        <td id=\"T_a978e05a_d4ad_11ea_b68d_84fdd1e63b41row6_col1\" class=\"data row6 col1\" >0.0000</td>\n",
       "                        <td id=\"T_a978e05a_d4ad_11ea_b68d_84fdd1e63b41row6_col2\" class=\"data row6 col2\" >0.5221</td>\n",
       "                        <td id=\"T_a978e05a_d4ad_11ea_b68d_84fdd1e63b41row6_col3\" class=\"data row6 col3\" >0.5207</td>\n",
       "                        <td id=\"T_a978e05a_d4ad_11ea_b68d_84fdd1e63b41row6_col4\" class=\"data row6 col4\" >0.5226</td>\n",
       "                        <td id=\"T_a978e05a_d4ad_11ea_b68d_84fdd1e63b41row6_col5\" class=\"data row6 col5\" >0.3735</td>\n",
       "                        <td id=\"T_a978e05a_d4ad_11ea_b68d_84fdd1e63b41row6_col6\" class=\"data row6 col6\" >0.3756</td>\n",
       "            </tr>\n",
       "            <tr>\n",
       "                        <th id=\"T_a978e05a_d4ad_11ea_b68d_84fdd1e63b41level0_row7\" class=\"row_heading level0 row7\" >7</th>\n",
       "                        <td id=\"T_a978e05a_d4ad_11ea_b68d_84fdd1e63b41row7_col0\" class=\"data row7 col0\" >0.5018</td>\n",
       "                        <td id=\"T_a978e05a_d4ad_11ea_b68d_84fdd1e63b41row7_col1\" class=\"data row7 col1\" >0.0000</td>\n",
       "                        <td id=\"T_a978e05a_d4ad_11ea_b68d_84fdd1e63b41row7_col2\" class=\"data row7 col2\" >0.4918</td>\n",
       "                        <td id=\"T_a978e05a_d4ad_11ea_b68d_84fdd1e63b41row7_col3\" class=\"data row7 col3\" >0.4951</td>\n",
       "                        <td id=\"T_a978e05a_d4ad_11ea_b68d_84fdd1e63b41row7_col4\" class=\"data row7 col4\" >0.4940</td>\n",
       "                        <td id=\"T_a978e05a_d4ad_11ea_b68d_84fdd1e63b41row7_col5\" class=\"data row7 col5\" >0.3327</td>\n",
       "                        <td id=\"T_a978e05a_d4ad_11ea_b68d_84fdd1e63b41row7_col6\" class=\"data row7 col6\" >0.3345</td>\n",
       "            </tr>\n",
       "            <tr>\n",
       "                        <th id=\"T_a978e05a_d4ad_11ea_b68d_84fdd1e63b41level0_row8\" class=\"row_heading level0 row8\" >8</th>\n",
       "                        <td id=\"T_a978e05a_d4ad_11ea_b68d_84fdd1e63b41row8_col0\" class=\"data row8 col0\" >0.5319</td>\n",
       "                        <td id=\"T_a978e05a_d4ad_11ea_b68d_84fdd1e63b41row8_col1\" class=\"data row8 col1\" >0.0000</td>\n",
       "                        <td id=\"T_a978e05a_d4ad_11ea_b68d_84fdd1e63b41row8_col2\" class=\"data row8 col2\" >0.5217</td>\n",
       "                        <td id=\"T_a978e05a_d4ad_11ea_b68d_84fdd1e63b41row8_col3\" class=\"data row8 col3\" >0.5184</td>\n",
       "                        <td id=\"T_a978e05a_d4ad_11ea_b68d_84fdd1e63b41row8_col4\" class=\"data row8 col4\" >0.5229</td>\n",
       "                        <td id=\"T_a978e05a_d4ad_11ea_b68d_84fdd1e63b41row8_col5\" class=\"data row8 col5\" >0.3732</td>\n",
       "                        <td id=\"T_a978e05a_d4ad_11ea_b68d_84fdd1e63b41row8_col6\" class=\"data row8 col6\" >0.3744</td>\n",
       "            </tr>\n",
       "            <tr>\n",
       "                        <th id=\"T_a978e05a_d4ad_11ea_b68d_84fdd1e63b41level0_row9\" class=\"row_heading level0 row9\" >9</th>\n",
       "                        <td id=\"T_a978e05a_d4ad_11ea_b68d_84fdd1e63b41row9_col0\" class=\"data row9 col0\" >0.5230</td>\n",
       "                        <td id=\"T_a978e05a_d4ad_11ea_b68d_84fdd1e63b41row9_col1\" class=\"data row9 col1\" >0.0000</td>\n",
       "                        <td id=\"T_a978e05a_d4ad_11ea_b68d_84fdd1e63b41row9_col2\" class=\"data row9 col2\" >0.5131</td>\n",
       "                        <td id=\"T_a978e05a_d4ad_11ea_b68d_84fdd1e63b41row9_col3\" class=\"data row9 col3\" >0.5173</td>\n",
       "                        <td id=\"T_a978e05a_d4ad_11ea_b68d_84fdd1e63b41row9_col4\" class=\"data row9 col4\" >0.5175</td>\n",
       "                        <td id=\"T_a978e05a_d4ad_11ea_b68d_84fdd1e63b41row9_col5\" class=\"data row9 col5\" >0.3609</td>\n",
       "                        <td id=\"T_a978e05a_d4ad_11ea_b68d_84fdd1e63b41row9_col6\" class=\"data row9 col6\" >0.3621</td>\n",
       "            </tr>\n",
       "            <tr>\n",
       "                        <th id=\"T_a978e05a_d4ad_11ea_b68d_84fdd1e63b41level0_row10\" class=\"row_heading level0 row10\" >Mean</th>\n",
       "                        <td id=\"T_a978e05a_d4ad_11ea_b68d_84fdd1e63b41row10_col0\" class=\"data row10 col0\" >0.5286</td>\n",
       "                        <td id=\"T_a978e05a_d4ad_11ea_b68d_84fdd1e63b41row10_col1\" class=\"data row10 col1\" >0.0000</td>\n",
       "                        <td id=\"T_a978e05a_d4ad_11ea_b68d_84fdd1e63b41row10_col2\" class=\"data row10 col2\" >0.5180</td>\n",
       "                        <td id=\"T_a978e05a_d4ad_11ea_b68d_84fdd1e63b41row10_col3\" class=\"data row10 col3\" >0.5196</td>\n",
       "                        <td id=\"T_a978e05a_d4ad_11ea_b68d_84fdd1e63b41row10_col4\" class=\"data row10 col4\" >0.5200</td>\n",
       "                        <td id=\"T_a978e05a_d4ad_11ea_b68d_84fdd1e63b41row10_col5\" class=\"data row10 col5\" >0.3682</td>\n",
       "                        <td id=\"T_a978e05a_d4ad_11ea_b68d_84fdd1e63b41row10_col6\" class=\"data row10 col6\" >0.3701</td>\n",
       "            </tr>\n",
       "            <tr>\n",
       "                        <th id=\"T_a978e05a_d4ad_11ea_b68d_84fdd1e63b41level0_row11\" class=\"row_heading level0 row11\" >SD</th>\n",
       "                        <td id=\"T_a978e05a_d4ad_11ea_b68d_84fdd1e63b41row11_col0\" class=\"data row11 col0\" >0.0186</td>\n",
       "                        <td id=\"T_a978e05a_d4ad_11ea_b68d_84fdd1e63b41row11_col1\" class=\"data row11 col1\" >0.0000</td>\n",
       "                        <td id=\"T_a978e05a_d4ad_11ea_b68d_84fdd1e63b41row11_col2\" class=\"data row11 col2\" >0.0184</td>\n",
       "                        <td id=\"T_a978e05a_d4ad_11ea_b68d_84fdd1e63b41row11_col3\" class=\"data row11 col3\" >0.0174</td>\n",
       "                        <td id=\"T_a978e05a_d4ad_11ea_b68d_84fdd1e63b41row11_col4\" class=\"data row11 col4\" >0.0183</td>\n",
       "                        <td id=\"T_a978e05a_d4ad_11ea_b68d_84fdd1e63b41row11_col5\" class=\"data row11 col5\" >0.0250</td>\n",
       "                        <td id=\"T_a978e05a_d4ad_11ea_b68d_84fdd1e63b41row11_col6\" class=\"data row11 col6\" >0.0250</td>\n",
       "            </tr>\n",
       "    </tbody></table>"
      ],
      "text/plain": [
       "<pandas.io.formats.style.Styler at 0x25939e6bd68>"
      ]
     },
     "metadata": {},
     "output_type": "display_data"
    }
   ],
   "source": [
    "tuned_cbc = tune_model(cbc_model, optimize = 'Accuracy')"
   ]
  },
  {
   "cell_type": "code",
   "execution_count": 54,
   "metadata": {
    "ExecuteTime": {
     "end_time": "2020-08-02T10:55:47.744255Z",
     "start_time": "2020-08-02T10:49:03.064369Z"
    }
   },
   "outputs": [
    {
     "data": {
      "text/html": [
       "<style  type=\"text/css\" >\n",
       "#T_b8c05808_d4ae_11ea_ada2_84fdd1e63b41row10_col0,#T_b8c05808_d4ae_11ea_ada2_84fdd1e63b41row10_col1,#T_b8c05808_d4ae_11ea_ada2_84fdd1e63b41row10_col2,#T_b8c05808_d4ae_11ea_ada2_84fdd1e63b41row10_col3,#T_b8c05808_d4ae_11ea_ada2_84fdd1e63b41row10_col4,#T_b8c05808_d4ae_11ea_ada2_84fdd1e63b41row10_col5,#T_b8c05808_d4ae_11ea_ada2_84fdd1e63b41row10_col6{\n",
       "            background:  yellow;\n",
       "        }</style><table id=\"T_b8c05808_d4ae_11ea_ada2_84fdd1e63b41\" ><thead>    <tr>        <th class=\"blank level0\" ></th>        <th class=\"col_heading level0 col0\" >Accuracy</th>        <th class=\"col_heading level0 col1\" >AUC</th>        <th class=\"col_heading level0 col2\" >Recall</th>        <th class=\"col_heading level0 col3\" >Prec.</th>        <th class=\"col_heading level0 col4\" >F1</th>        <th class=\"col_heading level0 col5\" >Kappa</th>        <th class=\"col_heading level0 col6\" >MCC</th>    </tr></thead><tbody>\n",
       "                <tr>\n",
       "                        <th id=\"T_b8c05808_d4ae_11ea_ada2_84fdd1e63b41level0_row0\" class=\"row_heading level0 row0\" >0</th>\n",
       "                        <td id=\"T_b8c05808_d4ae_11ea_ada2_84fdd1e63b41row0_col0\" class=\"data row0 col0\" >0.4726</td>\n",
       "                        <td id=\"T_b8c05808_d4ae_11ea_ada2_84fdd1e63b41row0_col1\" class=\"data row0 col1\" >0.0000</td>\n",
       "                        <td id=\"T_b8c05808_d4ae_11ea_ada2_84fdd1e63b41row0_col2\" class=\"data row0 col2\" >0.4653</td>\n",
       "                        <td id=\"T_b8c05808_d4ae_11ea_ada2_84fdd1e63b41row0_col3\" class=\"data row0 col3\" >0.4884</td>\n",
       "                        <td id=\"T_b8c05808_d4ae_11ea_ada2_84fdd1e63b41row0_col4\" class=\"data row0 col4\" >0.4769</td>\n",
       "                        <td id=\"T_b8c05808_d4ae_11ea_ada2_84fdd1e63b41row0_col5\" class=\"data row0 col5\" >0.2966</td>\n",
       "                        <td id=\"T_b8c05808_d4ae_11ea_ada2_84fdd1e63b41row0_col6\" class=\"data row0 col6\" >0.2983</td>\n",
       "            </tr>\n",
       "            <tr>\n",
       "                        <th id=\"T_b8c05808_d4ae_11ea_ada2_84fdd1e63b41level0_row1\" class=\"row_heading level0 row1\" >1</th>\n",
       "                        <td id=\"T_b8c05808_d4ae_11ea_ada2_84fdd1e63b41row1_col0\" class=\"data row1 col0\" >0.4442</td>\n",
       "                        <td id=\"T_b8c05808_d4ae_11ea_ada2_84fdd1e63b41row1_col1\" class=\"data row1 col1\" >0.0000</td>\n",
       "                        <td id=\"T_b8c05808_d4ae_11ea_ada2_84fdd1e63b41row1_col2\" class=\"data row1 col2\" >0.4387</td>\n",
       "                        <td id=\"T_b8c05808_d4ae_11ea_ada2_84fdd1e63b41row1_col3\" class=\"data row1 col3\" >0.4586</td>\n",
       "                        <td id=\"T_b8c05808_d4ae_11ea_ada2_84fdd1e63b41row1_col4\" class=\"data row1 col4\" >0.4487</td>\n",
       "                        <td id=\"T_b8c05808_d4ae_11ea_ada2_84fdd1e63b41row1_col5\" class=\"data row1 col5\" >0.2583</td>\n",
       "                        <td id=\"T_b8c05808_d4ae_11ea_ada2_84fdd1e63b41row1_col6\" class=\"data row1 col6\" >0.2595</td>\n",
       "            </tr>\n",
       "            <tr>\n",
       "                        <th id=\"T_b8c05808_d4ae_11ea_ada2_84fdd1e63b41level0_row2\" class=\"row_heading level0 row2\" >2</th>\n",
       "                        <td id=\"T_b8c05808_d4ae_11ea_ada2_84fdd1e63b41row2_col0\" class=\"data row2 col0\" >0.4513</td>\n",
       "                        <td id=\"T_b8c05808_d4ae_11ea_ada2_84fdd1e63b41row2_col1\" class=\"data row2 col1\" >0.0000</td>\n",
       "                        <td id=\"T_b8c05808_d4ae_11ea_ada2_84fdd1e63b41row2_col2\" class=\"data row2 col2\" >0.4436</td>\n",
       "                        <td id=\"T_b8c05808_d4ae_11ea_ada2_84fdd1e63b41row2_col3\" class=\"data row2 col3\" >0.4555</td>\n",
       "                        <td id=\"T_b8c05808_d4ae_11ea_ada2_84fdd1e63b41row2_col4\" class=\"data row2 col4\" >0.4510</td>\n",
       "                        <td id=\"T_b8c05808_d4ae_11ea_ada2_84fdd1e63b41row2_col5\" class=\"data row2 col5\" >0.2672</td>\n",
       "                        <td id=\"T_b8c05808_d4ae_11ea_ada2_84fdd1e63b41row2_col6\" class=\"data row2 col6\" >0.2684</td>\n",
       "            </tr>\n",
       "            <tr>\n",
       "                        <th id=\"T_b8c05808_d4ae_11ea_ada2_84fdd1e63b41level0_row3\" class=\"row_heading level0 row3\" >3</th>\n",
       "                        <td id=\"T_b8c05808_d4ae_11ea_ada2_84fdd1e63b41row3_col0\" class=\"data row3 col0\" >0.5080</td>\n",
       "                        <td id=\"T_b8c05808_d4ae_11ea_ada2_84fdd1e63b41row3_col1\" class=\"data row3 col1\" >0.0000</td>\n",
       "                        <td id=\"T_b8c05808_d4ae_11ea_ada2_84fdd1e63b41row3_col2\" class=\"data row3 col2\" >0.5013</td>\n",
       "                        <td id=\"T_b8c05808_d4ae_11ea_ada2_84fdd1e63b41row3_col3\" class=\"data row3 col3\" >0.5159</td>\n",
       "                        <td id=\"T_b8c05808_d4ae_11ea_ada2_84fdd1e63b41row3_col4\" class=\"data row3 col4\" >0.5101</td>\n",
       "                        <td id=\"T_b8c05808_d4ae_11ea_ada2_84fdd1e63b41row3_col5\" class=\"data row3 col5\" >0.3432</td>\n",
       "                        <td id=\"T_b8c05808_d4ae_11ea_ada2_84fdd1e63b41row3_col6\" class=\"data row3 col6\" >0.3441</td>\n",
       "            </tr>\n",
       "            <tr>\n",
       "                        <th id=\"T_b8c05808_d4ae_11ea_ada2_84fdd1e63b41level0_row4\" class=\"row_heading level0 row4\" >4</th>\n",
       "                        <td id=\"T_b8c05808_d4ae_11ea_ada2_84fdd1e63b41row4_col0\" class=\"data row4 col0\" >0.4920</td>\n",
       "                        <td id=\"T_b8c05808_d4ae_11ea_ada2_84fdd1e63b41row4_col1\" class=\"data row4 col1\" >0.0000</td>\n",
       "                        <td id=\"T_b8c05808_d4ae_11ea_ada2_84fdd1e63b41row4_col2\" class=\"data row4 col2\" >0.4857</td>\n",
       "                        <td id=\"T_b8c05808_d4ae_11ea_ada2_84fdd1e63b41row4_col3\" class=\"data row4 col3\" >0.5028</td>\n",
       "                        <td id=\"T_b8c05808_d4ae_11ea_ada2_84fdd1e63b41row4_col4\" class=\"data row4 col4\" >0.4936</td>\n",
       "                        <td id=\"T_b8c05808_d4ae_11ea_ada2_84fdd1e63b41row4_col5\" class=\"data row4 col5\" >0.3210</td>\n",
       "                        <td id=\"T_b8c05808_d4ae_11ea_ada2_84fdd1e63b41row4_col6\" class=\"data row4 col6\" >0.3231</td>\n",
       "            </tr>\n",
       "            <tr>\n",
       "                        <th id=\"T_b8c05808_d4ae_11ea_ada2_84fdd1e63b41level0_row5\" class=\"row_heading level0 row5\" >5</th>\n",
       "                        <td id=\"T_b8c05808_d4ae_11ea_ada2_84fdd1e63b41row5_col0\" class=\"data row5 col0\" >0.4920</td>\n",
       "                        <td id=\"T_b8c05808_d4ae_11ea_ada2_84fdd1e63b41row5_col1\" class=\"data row5 col1\" >0.0000</td>\n",
       "                        <td id=\"T_b8c05808_d4ae_11ea_ada2_84fdd1e63b41row5_col2\" class=\"data row5 col2\" >0.4849</td>\n",
       "                        <td id=\"T_b8c05808_d4ae_11ea_ada2_84fdd1e63b41row5_col3\" class=\"data row5 col3\" >0.5127</td>\n",
       "                        <td id=\"T_b8c05808_d4ae_11ea_ada2_84fdd1e63b41row5_col4\" class=\"data row5 col4\" >0.4991</td>\n",
       "                        <td id=\"T_b8c05808_d4ae_11ea_ada2_84fdd1e63b41row5_col5\" class=\"data row5 col5\" >0.3229</td>\n",
       "                        <td id=\"T_b8c05808_d4ae_11ea_ada2_84fdd1e63b41row5_col6\" class=\"data row5 col6\" >0.3243</td>\n",
       "            </tr>\n",
       "            <tr>\n",
       "                        <th id=\"T_b8c05808_d4ae_11ea_ada2_84fdd1e63b41level0_row6\" class=\"row_heading level0 row6\" >6</th>\n",
       "                        <td id=\"T_b8c05808_d4ae_11ea_ada2_84fdd1e63b41row6_col0\" class=\"data row6 col0\" >0.4637</td>\n",
       "                        <td id=\"T_b8c05808_d4ae_11ea_ada2_84fdd1e63b41row6_col1\" class=\"data row6 col1\" >0.0000</td>\n",
       "                        <td id=\"T_b8c05808_d4ae_11ea_ada2_84fdd1e63b41row6_col2\" class=\"data row6 col2\" >0.4591</td>\n",
       "                        <td id=\"T_b8c05808_d4ae_11ea_ada2_84fdd1e63b41row6_col3\" class=\"data row6 col3\" >0.4698</td>\n",
       "                        <td id=\"T_b8c05808_d4ae_11ea_ada2_84fdd1e63b41row6_col4\" class=\"data row6 col4\" >0.4633</td>\n",
       "                        <td id=\"T_b8c05808_d4ae_11ea_ada2_84fdd1e63b41row6_col5\" class=\"data row6 col5\" >0.2846</td>\n",
       "                        <td id=\"T_b8c05808_d4ae_11ea_ada2_84fdd1e63b41row6_col6\" class=\"data row6 col6\" >0.2861</td>\n",
       "            </tr>\n",
       "            <tr>\n",
       "                        <th id=\"T_b8c05808_d4ae_11ea_ada2_84fdd1e63b41level0_row7\" class=\"row_heading level0 row7\" >7</th>\n",
       "                        <td id=\"T_b8c05808_d4ae_11ea_ada2_84fdd1e63b41row7_col0\" class=\"data row7 col0\" >0.4681</td>\n",
       "                        <td id=\"T_b8c05808_d4ae_11ea_ada2_84fdd1e63b41row7_col1\" class=\"data row7 col1\" >0.0000</td>\n",
       "                        <td id=\"T_b8c05808_d4ae_11ea_ada2_84fdd1e63b41row7_col2\" class=\"data row7 col2\" >0.4612</td>\n",
       "                        <td id=\"T_b8c05808_d4ae_11ea_ada2_84fdd1e63b41row7_col3\" class=\"data row7 col3\" >0.4750</td>\n",
       "                        <td id=\"T_b8c05808_d4ae_11ea_ada2_84fdd1e63b41row7_col4\" class=\"data row7 col4\" >0.4704</td>\n",
       "                        <td id=\"T_b8c05808_d4ae_11ea_ada2_84fdd1e63b41row7_col5\" class=\"data row7 col5\" >0.2903</td>\n",
       "                        <td id=\"T_b8c05808_d4ae_11ea_ada2_84fdd1e63b41row7_col6\" class=\"data row7 col6\" >0.2907</td>\n",
       "            </tr>\n",
       "            <tr>\n",
       "                        <th id=\"T_b8c05808_d4ae_11ea_ada2_84fdd1e63b41level0_row8\" class=\"row_heading level0 row8\" >8</th>\n",
       "                        <td id=\"T_b8c05808_d4ae_11ea_ada2_84fdd1e63b41row8_col0\" class=\"data row8 col0\" >0.4734</td>\n",
       "                        <td id=\"T_b8c05808_d4ae_11ea_ada2_84fdd1e63b41row8_col1\" class=\"data row8 col1\" >0.0000</td>\n",
       "                        <td id=\"T_b8c05808_d4ae_11ea_ada2_84fdd1e63b41row8_col2\" class=\"data row8 col2\" >0.4667</td>\n",
       "                        <td id=\"T_b8c05808_d4ae_11ea_ada2_84fdd1e63b41row8_col3\" class=\"data row8 col3\" >0.4885</td>\n",
       "                        <td id=\"T_b8c05808_d4ae_11ea_ada2_84fdd1e63b41row8_col4\" class=\"data row8 col4\" >0.4787</td>\n",
       "                        <td id=\"T_b8c05808_d4ae_11ea_ada2_84fdd1e63b41row8_col5\" class=\"data row8 col5\" >0.2977</td>\n",
       "                        <td id=\"T_b8c05808_d4ae_11ea_ada2_84fdd1e63b41row8_col6\" class=\"data row8 col6\" >0.2987</td>\n",
       "            </tr>\n",
       "            <tr>\n",
       "                        <th id=\"T_b8c05808_d4ae_11ea_ada2_84fdd1e63b41level0_row9\" class=\"row_heading level0 row9\" >9</th>\n",
       "                        <td id=\"T_b8c05808_d4ae_11ea_ada2_84fdd1e63b41row9_col0\" class=\"data row9 col0\" >0.4840</td>\n",
       "                        <td id=\"T_b8c05808_d4ae_11ea_ada2_84fdd1e63b41row9_col1\" class=\"data row9 col1\" >0.0000</td>\n",
       "                        <td id=\"T_b8c05808_d4ae_11ea_ada2_84fdd1e63b41row9_col2\" class=\"data row9 col2\" >0.4766</td>\n",
       "                        <td id=\"T_b8c05808_d4ae_11ea_ada2_84fdd1e63b41row9_col3\" class=\"data row9 col3\" >0.4975</td>\n",
       "                        <td id=\"T_b8c05808_d4ae_11ea_ada2_84fdd1e63b41row9_col4\" class=\"data row9 col4\" >0.4859</td>\n",
       "                        <td id=\"T_b8c05808_d4ae_11ea_ada2_84fdd1e63b41row9_col5\" class=\"data row9 col5\" >0.3119</td>\n",
       "                        <td id=\"T_b8c05808_d4ae_11ea_ada2_84fdd1e63b41row9_col6\" class=\"data row9 col6\" >0.3142</td>\n",
       "            </tr>\n",
       "            <tr>\n",
       "                        <th id=\"T_b8c05808_d4ae_11ea_ada2_84fdd1e63b41level0_row10\" class=\"row_heading level0 row10\" >Mean</th>\n",
       "                        <td id=\"T_b8c05808_d4ae_11ea_ada2_84fdd1e63b41row10_col0\" class=\"data row10 col0\" >0.4749</td>\n",
       "                        <td id=\"T_b8c05808_d4ae_11ea_ada2_84fdd1e63b41row10_col1\" class=\"data row10 col1\" >0.0000</td>\n",
       "                        <td id=\"T_b8c05808_d4ae_11ea_ada2_84fdd1e63b41row10_col2\" class=\"data row10 col2\" >0.4683</td>\n",
       "                        <td id=\"T_b8c05808_d4ae_11ea_ada2_84fdd1e63b41row10_col3\" class=\"data row10 col3\" >0.4865</td>\n",
       "                        <td id=\"T_b8c05808_d4ae_11ea_ada2_84fdd1e63b41row10_col4\" class=\"data row10 col4\" >0.4778</td>\n",
       "                        <td id=\"T_b8c05808_d4ae_11ea_ada2_84fdd1e63b41row10_col5\" class=\"data row10 col5\" >0.2994</td>\n",
       "                        <td id=\"T_b8c05808_d4ae_11ea_ada2_84fdd1e63b41row10_col6\" class=\"data row10 col6\" >0.3007</td>\n",
       "            </tr>\n",
       "            <tr>\n",
       "                        <th id=\"T_b8c05808_d4ae_11ea_ada2_84fdd1e63b41level0_row11\" class=\"row_heading level0 row11\" >SD</th>\n",
       "                        <td id=\"T_b8c05808_d4ae_11ea_ada2_84fdd1e63b41row11_col0\" class=\"data row11 col0\" >0.0185</td>\n",
       "                        <td id=\"T_b8c05808_d4ae_11ea_ada2_84fdd1e63b41row11_col1\" class=\"data row11 col1\" >0.0000</td>\n",
       "                        <td id=\"T_b8c05808_d4ae_11ea_ada2_84fdd1e63b41row11_col2\" class=\"data row11 col2\" >0.0184</td>\n",
       "                        <td id=\"T_b8c05808_d4ae_11ea_ada2_84fdd1e63b41row11_col3\" class=\"data row11 col3\" >0.0203</td>\n",
       "                        <td id=\"T_b8c05808_d4ae_11ea_ada2_84fdd1e63b41row11_col4\" class=\"data row11 col4\" >0.0191</td>\n",
       "                        <td id=\"T_b8c05808_d4ae_11ea_ada2_84fdd1e63b41row11_col5\" class=\"data row11 col5\" >0.0248</td>\n",
       "                        <td id=\"T_b8c05808_d4ae_11ea_ada2_84fdd1e63b41row11_col6\" class=\"data row11 col6\" >0.0249</td>\n",
       "            </tr>\n",
       "    </tbody></table>"
      ],
      "text/plain": [
       "<pandas.io.formats.style.Styler at 0x2595523b828>"
      ]
     },
     "metadata": {},
     "output_type": "display_data"
    }
   ],
   "source": [
    "blend_specific_soft = blend_models(estimator_list = [tuned_gbc,tuned_xgb], method = 'soft')"
   ]
  },
  {
   "cell_type": "code",
   "execution_count": 55,
   "metadata": {
    "ExecuteTime": {
     "end_time": "2020-08-02T11:06:04.564341Z",
     "start_time": "2020-08-02T10:59:18.349419Z"
    }
   },
   "outputs": [
    {
     "data": {
      "text/html": [
       "<style  type=\"text/css\" >\n",
       "#T_28683f94_d4b0_11ea_90f5_84fdd1e63b41row10_col0,#T_28683f94_d4b0_11ea_90f5_84fdd1e63b41row10_col1,#T_28683f94_d4b0_11ea_90f5_84fdd1e63b41row10_col2,#T_28683f94_d4b0_11ea_90f5_84fdd1e63b41row10_col3,#T_28683f94_d4b0_11ea_90f5_84fdd1e63b41row10_col4,#T_28683f94_d4b0_11ea_90f5_84fdd1e63b41row10_col5,#T_28683f94_d4b0_11ea_90f5_84fdd1e63b41row10_col6{\n",
       "            background:  yellow;\n",
       "        }</style><table id=\"T_28683f94_d4b0_11ea_90f5_84fdd1e63b41\" ><thead>    <tr>        <th class=\"blank level0\" ></th>        <th class=\"col_heading level0 col0\" >Accuracy</th>        <th class=\"col_heading level0 col1\" >AUC</th>        <th class=\"col_heading level0 col2\" >Recall</th>        <th class=\"col_heading level0 col3\" >Prec.</th>        <th class=\"col_heading level0 col4\" >F1</th>        <th class=\"col_heading level0 col5\" >Kappa</th>        <th class=\"col_heading level0 col6\" >MCC</th>    </tr></thead><tbody>\n",
       "                <tr>\n",
       "                        <th id=\"T_28683f94_d4b0_11ea_90f5_84fdd1e63b41level0_row0\" class=\"row_heading level0 row0\" >0</th>\n",
       "                        <td id=\"T_28683f94_d4b0_11ea_90f5_84fdd1e63b41row0_col0\" class=\"data row0 col0\" >0.4726</td>\n",
       "                        <td id=\"T_28683f94_d4b0_11ea_90f5_84fdd1e63b41row0_col1\" class=\"data row0 col1\" >0.0000</td>\n",
       "                        <td id=\"T_28683f94_d4b0_11ea_90f5_84fdd1e63b41row0_col2\" class=\"data row0 col2\" >0.4653</td>\n",
       "                        <td id=\"T_28683f94_d4b0_11ea_90f5_84fdd1e63b41row0_col3\" class=\"data row0 col3\" >0.4884</td>\n",
       "                        <td id=\"T_28683f94_d4b0_11ea_90f5_84fdd1e63b41row0_col4\" class=\"data row0 col4\" >0.4769</td>\n",
       "                        <td id=\"T_28683f94_d4b0_11ea_90f5_84fdd1e63b41row0_col5\" class=\"data row0 col5\" >0.2966</td>\n",
       "                        <td id=\"T_28683f94_d4b0_11ea_90f5_84fdd1e63b41row0_col6\" class=\"data row0 col6\" >0.2983</td>\n",
       "            </tr>\n",
       "            <tr>\n",
       "                        <th id=\"T_28683f94_d4b0_11ea_90f5_84fdd1e63b41level0_row1\" class=\"row_heading level0 row1\" >1</th>\n",
       "                        <td id=\"T_28683f94_d4b0_11ea_90f5_84fdd1e63b41row1_col0\" class=\"data row1 col0\" >0.4442</td>\n",
       "                        <td id=\"T_28683f94_d4b0_11ea_90f5_84fdd1e63b41row1_col1\" class=\"data row1 col1\" >0.0000</td>\n",
       "                        <td id=\"T_28683f94_d4b0_11ea_90f5_84fdd1e63b41row1_col2\" class=\"data row1 col2\" >0.4387</td>\n",
       "                        <td id=\"T_28683f94_d4b0_11ea_90f5_84fdd1e63b41row1_col3\" class=\"data row1 col3\" >0.4586</td>\n",
       "                        <td id=\"T_28683f94_d4b0_11ea_90f5_84fdd1e63b41row1_col4\" class=\"data row1 col4\" >0.4487</td>\n",
       "                        <td id=\"T_28683f94_d4b0_11ea_90f5_84fdd1e63b41row1_col5\" class=\"data row1 col5\" >0.2583</td>\n",
       "                        <td id=\"T_28683f94_d4b0_11ea_90f5_84fdd1e63b41row1_col6\" class=\"data row1 col6\" >0.2595</td>\n",
       "            </tr>\n",
       "            <tr>\n",
       "                        <th id=\"T_28683f94_d4b0_11ea_90f5_84fdd1e63b41level0_row2\" class=\"row_heading level0 row2\" >2</th>\n",
       "                        <td id=\"T_28683f94_d4b0_11ea_90f5_84fdd1e63b41row2_col0\" class=\"data row2 col0\" >0.4513</td>\n",
       "                        <td id=\"T_28683f94_d4b0_11ea_90f5_84fdd1e63b41row2_col1\" class=\"data row2 col1\" >0.0000</td>\n",
       "                        <td id=\"T_28683f94_d4b0_11ea_90f5_84fdd1e63b41row2_col2\" class=\"data row2 col2\" >0.4436</td>\n",
       "                        <td id=\"T_28683f94_d4b0_11ea_90f5_84fdd1e63b41row2_col3\" class=\"data row2 col3\" >0.4555</td>\n",
       "                        <td id=\"T_28683f94_d4b0_11ea_90f5_84fdd1e63b41row2_col4\" class=\"data row2 col4\" >0.4510</td>\n",
       "                        <td id=\"T_28683f94_d4b0_11ea_90f5_84fdd1e63b41row2_col5\" class=\"data row2 col5\" >0.2672</td>\n",
       "                        <td id=\"T_28683f94_d4b0_11ea_90f5_84fdd1e63b41row2_col6\" class=\"data row2 col6\" >0.2684</td>\n",
       "            </tr>\n",
       "            <tr>\n",
       "                        <th id=\"T_28683f94_d4b0_11ea_90f5_84fdd1e63b41level0_row3\" class=\"row_heading level0 row3\" >3</th>\n",
       "                        <td id=\"T_28683f94_d4b0_11ea_90f5_84fdd1e63b41row3_col0\" class=\"data row3 col0\" >0.5080</td>\n",
       "                        <td id=\"T_28683f94_d4b0_11ea_90f5_84fdd1e63b41row3_col1\" class=\"data row3 col1\" >0.0000</td>\n",
       "                        <td id=\"T_28683f94_d4b0_11ea_90f5_84fdd1e63b41row3_col2\" class=\"data row3 col2\" >0.5013</td>\n",
       "                        <td id=\"T_28683f94_d4b0_11ea_90f5_84fdd1e63b41row3_col3\" class=\"data row3 col3\" >0.5159</td>\n",
       "                        <td id=\"T_28683f94_d4b0_11ea_90f5_84fdd1e63b41row3_col4\" class=\"data row3 col4\" >0.5101</td>\n",
       "                        <td id=\"T_28683f94_d4b0_11ea_90f5_84fdd1e63b41row3_col5\" class=\"data row3 col5\" >0.3432</td>\n",
       "                        <td id=\"T_28683f94_d4b0_11ea_90f5_84fdd1e63b41row3_col6\" class=\"data row3 col6\" >0.3441</td>\n",
       "            </tr>\n",
       "            <tr>\n",
       "                        <th id=\"T_28683f94_d4b0_11ea_90f5_84fdd1e63b41level0_row4\" class=\"row_heading level0 row4\" >4</th>\n",
       "                        <td id=\"T_28683f94_d4b0_11ea_90f5_84fdd1e63b41row4_col0\" class=\"data row4 col0\" >0.4920</td>\n",
       "                        <td id=\"T_28683f94_d4b0_11ea_90f5_84fdd1e63b41row4_col1\" class=\"data row4 col1\" >0.0000</td>\n",
       "                        <td id=\"T_28683f94_d4b0_11ea_90f5_84fdd1e63b41row4_col2\" class=\"data row4 col2\" >0.4857</td>\n",
       "                        <td id=\"T_28683f94_d4b0_11ea_90f5_84fdd1e63b41row4_col3\" class=\"data row4 col3\" >0.5028</td>\n",
       "                        <td id=\"T_28683f94_d4b0_11ea_90f5_84fdd1e63b41row4_col4\" class=\"data row4 col4\" >0.4936</td>\n",
       "                        <td id=\"T_28683f94_d4b0_11ea_90f5_84fdd1e63b41row4_col5\" class=\"data row4 col5\" >0.3210</td>\n",
       "                        <td id=\"T_28683f94_d4b0_11ea_90f5_84fdd1e63b41row4_col6\" class=\"data row4 col6\" >0.3231</td>\n",
       "            </tr>\n",
       "            <tr>\n",
       "                        <th id=\"T_28683f94_d4b0_11ea_90f5_84fdd1e63b41level0_row5\" class=\"row_heading level0 row5\" >5</th>\n",
       "                        <td id=\"T_28683f94_d4b0_11ea_90f5_84fdd1e63b41row5_col0\" class=\"data row5 col0\" >0.4920</td>\n",
       "                        <td id=\"T_28683f94_d4b0_11ea_90f5_84fdd1e63b41row5_col1\" class=\"data row5 col1\" >0.0000</td>\n",
       "                        <td id=\"T_28683f94_d4b0_11ea_90f5_84fdd1e63b41row5_col2\" class=\"data row5 col2\" >0.4849</td>\n",
       "                        <td id=\"T_28683f94_d4b0_11ea_90f5_84fdd1e63b41row5_col3\" class=\"data row5 col3\" >0.5127</td>\n",
       "                        <td id=\"T_28683f94_d4b0_11ea_90f5_84fdd1e63b41row5_col4\" class=\"data row5 col4\" >0.4991</td>\n",
       "                        <td id=\"T_28683f94_d4b0_11ea_90f5_84fdd1e63b41row5_col5\" class=\"data row5 col5\" >0.3229</td>\n",
       "                        <td id=\"T_28683f94_d4b0_11ea_90f5_84fdd1e63b41row5_col6\" class=\"data row5 col6\" >0.3243</td>\n",
       "            </tr>\n",
       "            <tr>\n",
       "                        <th id=\"T_28683f94_d4b0_11ea_90f5_84fdd1e63b41level0_row6\" class=\"row_heading level0 row6\" >6</th>\n",
       "                        <td id=\"T_28683f94_d4b0_11ea_90f5_84fdd1e63b41row6_col0\" class=\"data row6 col0\" >0.4637</td>\n",
       "                        <td id=\"T_28683f94_d4b0_11ea_90f5_84fdd1e63b41row6_col1\" class=\"data row6 col1\" >0.0000</td>\n",
       "                        <td id=\"T_28683f94_d4b0_11ea_90f5_84fdd1e63b41row6_col2\" class=\"data row6 col2\" >0.4591</td>\n",
       "                        <td id=\"T_28683f94_d4b0_11ea_90f5_84fdd1e63b41row6_col3\" class=\"data row6 col3\" >0.4698</td>\n",
       "                        <td id=\"T_28683f94_d4b0_11ea_90f5_84fdd1e63b41row6_col4\" class=\"data row6 col4\" >0.4633</td>\n",
       "                        <td id=\"T_28683f94_d4b0_11ea_90f5_84fdd1e63b41row6_col5\" class=\"data row6 col5\" >0.2846</td>\n",
       "                        <td id=\"T_28683f94_d4b0_11ea_90f5_84fdd1e63b41row6_col6\" class=\"data row6 col6\" >0.2861</td>\n",
       "            </tr>\n",
       "            <tr>\n",
       "                        <th id=\"T_28683f94_d4b0_11ea_90f5_84fdd1e63b41level0_row7\" class=\"row_heading level0 row7\" >7</th>\n",
       "                        <td id=\"T_28683f94_d4b0_11ea_90f5_84fdd1e63b41row7_col0\" class=\"data row7 col0\" >0.4681</td>\n",
       "                        <td id=\"T_28683f94_d4b0_11ea_90f5_84fdd1e63b41row7_col1\" class=\"data row7 col1\" >0.0000</td>\n",
       "                        <td id=\"T_28683f94_d4b0_11ea_90f5_84fdd1e63b41row7_col2\" class=\"data row7 col2\" >0.4612</td>\n",
       "                        <td id=\"T_28683f94_d4b0_11ea_90f5_84fdd1e63b41row7_col3\" class=\"data row7 col3\" >0.4750</td>\n",
       "                        <td id=\"T_28683f94_d4b0_11ea_90f5_84fdd1e63b41row7_col4\" class=\"data row7 col4\" >0.4704</td>\n",
       "                        <td id=\"T_28683f94_d4b0_11ea_90f5_84fdd1e63b41row7_col5\" class=\"data row7 col5\" >0.2903</td>\n",
       "                        <td id=\"T_28683f94_d4b0_11ea_90f5_84fdd1e63b41row7_col6\" class=\"data row7 col6\" >0.2907</td>\n",
       "            </tr>\n",
       "            <tr>\n",
       "                        <th id=\"T_28683f94_d4b0_11ea_90f5_84fdd1e63b41level0_row8\" class=\"row_heading level0 row8\" >8</th>\n",
       "                        <td id=\"T_28683f94_d4b0_11ea_90f5_84fdd1e63b41row8_col0\" class=\"data row8 col0\" >0.4734</td>\n",
       "                        <td id=\"T_28683f94_d4b0_11ea_90f5_84fdd1e63b41row8_col1\" class=\"data row8 col1\" >0.0000</td>\n",
       "                        <td id=\"T_28683f94_d4b0_11ea_90f5_84fdd1e63b41row8_col2\" class=\"data row8 col2\" >0.4667</td>\n",
       "                        <td id=\"T_28683f94_d4b0_11ea_90f5_84fdd1e63b41row8_col3\" class=\"data row8 col3\" >0.4885</td>\n",
       "                        <td id=\"T_28683f94_d4b0_11ea_90f5_84fdd1e63b41row8_col4\" class=\"data row8 col4\" >0.4787</td>\n",
       "                        <td id=\"T_28683f94_d4b0_11ea_90f5_84fdd1e63b41row8_col5\" class=\"data row8 col5\" >0.2977</td>\n",
       "                        <td id=\"T_28683f94_d4b0_11ea_90f5_84fdd1e63b41row8_col6\" class=\"data row8 col6\" >0.2987</td>\n",
       "            </tr>\n",
       "            <tr>\n",
       "                        <th id=\"T_28683f94_d4b0_11ea_90f5_84fdd1e63b41level0_row9\" class=\"row_heading level0 row9\" >9</th>\n",
       "                        <td id=\"T_28683f94_d4b0_11ea_90f5_84fdd1e63b41row9_col0\" class=\"data row9 col0\" >0.4840</td>\n",
       "                        <td id=\"T_28683f94_d4b0_11ea_90f5_84fdd1e63b41row9_col1\" class=\"data row9 col1\" >0.0000</td>\n",
       "                        <td id=\"T_28683f94_d4b0_11ea_90f5_84fdd1e63b41row9_col2\" class=\"data row9 col2\" >0.4766</td>\n",
       "                        <td id=\"T_28683f94_d4b0_11ea_90f5_84fdd1e63b41row9_col3\" class=\"data row9 col3\" >0.4975</td>\n",
       "                        <td id=\"T_28683f94_d4b0_11ea_90f5_84fdd1e63b41row9_col4\" class=\"data row9 col4\" >0.4859</td>\n",
       "                        <td id=\"T_28683f94_d4b0_11ea_90f5_84fdd1e63b41row9_col5\" class=\"data row9 col5\" >0.3119</td>\n",
       "                        <td id=\"T_28683f94_d4b0_11ea_90f5_84fdd1e63b41row9_col6\" class=\"data row9 col6\" >0.3142</td>\n",
       "            </tr>\n",
       "            <tr>\n",
       "                        <th id=\"T_28683f94_d4b0_11ea_90f5_84fdd1e63b41level0_row10\" class=\"row_heading level0 row10\" >Mean</th>\n",
       "                        <td id=\"T_28683f94_d4b0_11ea_90f5_84fdd1e63b41row10_col0\" class=\"data row10 col0\" >0.4749</td>\n",
       "                        <td id=\"T_28683f94_d4b0_11ea_90f5_84fdd1e63b41row10_col1\" class=\"data row10 col1\" >0.0000</td>\n",
       "                        <td id=\"T_28683f94_d4b0_11ea_90f5_84fdd1e63b41row10_col2\" class=\"data row10 col2\" >0.4683</td>\n",
       "                        <td id=\"T_28683f94_d4b0_11ea_90f5_84fdd1e63b41row10_col3\" class=\"data row10 col3\" >0.4865</td>\n",
       "                        <td id=\"T_28683f94_d4b0_11ea_90f5_84fdd1e63b41row10_col4\" class=\"data row10 col4\" >0.4778</td>\n",
       "                        <td id=\"T_28683f94_d4b0_11ea_90f5_84fdd1e63b41row10_col5\" class=\"data row10 col5\" >0.2994</td>\n",
       "                        <td id=\"T_28683f94_d4b0_11ea_90f5_84fdd1e63b41row10_col6\" class=\"data row10 col6\" >0.3007</td>\n",
       "            </tr>\n",
       "            <tr>\n",
       "                        <th id=\"T_28683f94_d4b0_11ea_90f5_84fdd1e63b41level0_row11\" class=\"row_heading level0 row11\" >SD</th>\n",
       "                        <td id=\"T_28683f94_d4b0_11ea_90f5_84fdd1e63b41row11_col0\" class=\"data row11 col0\" >0.0185</td>\n",
       "                        <td id=\"T_28683f94_d4b0_11ea_90f5_84fdd1e63b41row11_col1\" class=\"data row11 col1\" >0.0000</td>\n",
       "                        <td id=\"T_28683f94_d4b0_11ea_90f5_84fdd1e63b41row11_col2\" class=\"data row11 col2\" >0.0184</td>\n",
       "                        <td id=\"T_28683f94_d4b0_11ea_90f5_84fdd1e63b41row11_col3\" class=\"data row11 col3\" >0.0203</td>\n",
       "                        <td id=\"T_28683f94_d4b0_11ea_90f5_84fdd1e63b41row11_col4\" class=\"data row11 col4\" >0.0191</td>\n",
       "                        <td id=\"T_28683f94_d4b0_11ea_90f5_84fdd1e63b41row11_col5\" class=\"data row11 col5\" >0.0248</td>\n",
       "                        <td id=\"T_28683f94_d4b0_11ea_90f5_84fdd1e63b41row11_col6\" class=\"data row11 col6\" >0.0249</td>\n",
       "            </tr>\n",
       "    </tbody></table>"
      ],
      "text/plain": [
       "<pandas.io.formats.style.Styler at 0x2595528e9b0>"
      ]
     },
     "metadata": {},
     "output_type": "display_data"
    }
   ],
   "source": [
    "blend_specific_soft = blend_models(estimator_list = [tuned_gbc,tuned_xgb], method = 'hard')"
   ]
  },
  {
   "cell_type": "code",
   "execution_count": 56,
   "metadata": {
    "ExecuteTime": {
     "end_time": "2020-08-02T11:10:07.285790Z",
     "start_time": "2020-08-02T11:06:15.387673Z"
    }
   },
   "outputs": [
    {
     "data": {
      "text/html": [
       "<style  type=\"text/css\" >\n",
       "#T_b914985e_d4b0_11ea_820d_84fdd1e63b41row10_col0,#T_b914985e_d4b0_11ea_820d_84fdd1e63b41row10_col1,#T_b914985e_d4b0_11ea_820d_84fdd1e63b41row10_col2,#T_b914985e_d4b0_11ea_820d_84fdd1e63b41row10_col3,#T_b914985e_d4b0_11ea_820d_84fdd1e63b41row10_col4,#T_b914985e_d4b0_11ea_820d_84fdd1e63b41row10_col5,#T_b914985e_d4b0_11ea_820d_84fdd1e63b41row10_col6{\n",
       "            background:  yellow;\n",
       "        }</style><table id=\"T_b914985e_d4b0_11ea_820d_84fdd1e63b41\" ><thead>    <tr>        <th class=\"blank level0\" ></th>        <th class=\"col_heading level0 col0\" >Accuracy</th>        <th class=\"col_heading level0 col1\" >AUC</th>        <th class=\"col_heading level0 col2\" >Recall</th>        <th class=\"col_heading level0 col3\" >Prec.</th>        <th class=\"col_heading level0 col4\" >F1</th>        <th class=\"col_heading level0 col5\" >Kappa</th>        <th class=\"col_heading level0 col6\" >MCC</th>    </tr></thead><tbody>\n",
       "                <tr>\n",
       "                        <th id=\"T_b914985e_d4b0_11ea_820d_84fdd1e63b41level0_row0\" class=\"row_heading level0 row0\" >0</th>\n",
       "                        <td id=\"T_b914985e_d4b0_11ea_820d_84fdd1e63b41row0_col0\" class=\"data row0 col0\" >0.5381</td>\n",
       "                        <td id=\"T_b914985e_d4b0_11ea_820d_84fdd1e63b41row0_col1\" class=\"data row0 col1\" >0.0000</td>\n",
       "                        <td id=\"T_b914985e_d4b0_11ea_820d_84fdd1e63b41row0_col2\" class=\"data row0 col2\" >0.5269</td>\n",
       "                        <td id=\"T_b914985e_d4b0_11ea_820d_84fdd1e63b41row0_col3\" class=\"data row0 col3\" >0.5274</td>\n",
       "                        <td id=\"T_b914985e_d4b0_11ea_820d_84fdd1e63b41row0_col4\" class=\"data row0 col4\" >0.5257</td>\n",
       "                        <td id=\"T_b914985e_d4b0_11ea_820d_84fdd1e63b41row0_col5\" class=\"data row0 col5\" >0.3812</td>\n",
       "                        <td id=\"T_b914985e_d4b0_11ea_820d_84fdd1e63b41row0_col6\" class=\"data row0 col6\" >0.3846</td>\n",
       "            </tr>\n",
       "            <tr>\n",
       "                        <th id=\"T_b914985e_d4b0_11ea_820d_84fdd1e63b41level0_row1\" class=\"row_heading level0 row1\" >1</th>\n",
       "                        <td id=\"T_b914985e_d4b0_11ea_820d_84fdd1e63b41row1_col0\" class=\"data row1 col0\" >0.4779</td>\n",
       "                        <td id=\"T_b914985e_d4b0_11ea_820d_84fdd1e63b41row1_col1\" class=\"data row1 col1\" >0.0000</td>\n",
       "                        <td id=\"T_b914985e_d4b0_11ea_820d_84fdd1e63b41row1_col2\" class=\"data row1 col2\" >0.4666</td>\n",
       "                        <td id=\"T_b914985e_d4b0_11ea_820d_84fdd1e63b41row1_col3\" class=\"data row1 col3\" >0.4589</td>\n",
       "                        <td id=\"T_b914985e_d4b0_11ea_820d_84fdd1e63b41row1_col4\" class=\"data row1 col4\" >0.4606</td>\n",
       "                        <td id=\"T_b914985e_d4b0_11ea_820d_84fdd1e63b41row1_col5\" class=\"data row1 col5\" >0.2999</td>\n",
       "                        <td id=\"T_b914985e_d4b0_11ea_820d_84fdd1e63b41row1_col6\" class=\"data row1 col6\" >0.3035</td>\n",
       "            </tr>\n",
       "            <tr>\n",
       "                        <th id=\"T_b914985e_d4b0_11ea_820d_84fdd1e63b41level0_row2\" class=\"row_heading level0 row2\" >2</th>\n",
       "                        <td id=\"T_b914985e_d4b0_11ea_820d_84fdd1e63b41row2_col0\" class=\"data row2 col0\" >0.4956</td>\n",
       "                        <td id=\"T_b914985e_d4b0_11ea_820d_84fdd1e63b41row2_col1\" class=\"data row2 col1\" >0.0000</td>\n",
       "                        <td id=\"T_b914985e_d4b0_11ea_820d_84fdd1e63b41row2_col2\" class=\"data row2 col2\" >0.4832</td>\n",
       "                        <td id=\"T_b914985e_d4b0_11ea_820d_84fdd1e63b41row2_col3\" class=\"data row2 col3\" >0.4795</td>\n",
       "                        <td id=\"T_b914985e_d4b0_11ea_820d_84fdd1e63b41row2_col4\" class=\"data row2 col4\" >0.4810</td>\n",
       "                        <td id=\"T_b914985e_d4b0_11ea_820d_84fdd1e63b41row2_col5\" class=\"data row2 col5\" >0.3228</td>\n",
       "                        <td id=\"T_b914985e_d4b0_11ea_820d_84fdd1e63b41row2_col6\" class=\"data row2 col6\" >0.3258</td>\n",
       "            </tr>\n",
       "            <tr>\n",
       "                        <th id=\"T_b914985e_d4b0_11ea_820d_84fdd1e63b41level0_row3\" class=\"row_heading level0 row3\" >3</th>\n",
       "                        <td id=\"T_b914985e_d4b0_11ea_820d_84fdd1e63b41row3_col0\" class=\"data row3 col0\" >0.5186</td>\n",
       "                        <td id=\"T_b914985e_d4b0_11ea_820d_84fdd1e63b41row3_col1\" class=\"data row3 col1\" >0.0000</td>\n",
       "                        <td id=\"T_b914985e_d4b0_11ea_820d_84fdd1e63b41row3_col2\" class=\"data row3 col2\" >0.5073</td>\n",
       "                        <td id=\"T_b914985e_d4b0_11ea_820d_84fdd1e63b41row3_col3\" class=\"data row3 col3\" >0.5096</td>\n",
       "                        <td id=\"T_b914985e_d4b0_11ea_820d_84fdd1e63b41row3_col4\" class=\"data row3 col4\" >0.5038</td>\n",
       "                        <td id=\"T_b914985e_d4b0_11ea_820d_84fdd1e63b41row3_col5\" class=\"data row3 col5\" >0.3546</td>\n",
       "                        <td id=\"T_b914985e_d4b0_11ea_820d_84fdd1e63b41row3_col6\" class=\"data row3 col6\" >0.3589</td>\n",
       "            </tr>\n",
       "            <tr>\n",
       "                        <th id=\"T_b914985e_d4b0_11ea_820d_84fdd1e63b41level0_row4\" class=\"row_heading level0 row4\" >4</th>\n",
       "                        <td id=\"T_b914985e_d4b0_11ea_820d_84fdd1e63b41row4_col0\" class=\"data row4 col0\" >0.4973</td>\n",
       "                        <td id=\"T_b914985e_d4b0_11ea_820d_84fdd1e63b41row4_col1\" class=\"data row4 col1\" >0.0000</td>\n",
       "                        <td id=\"T_b914985e_d4b0_11ea_820d_84fdd1e63b41row4_col2\" class=\"data row4 col2\" >0.4849</td>\n",
       "                        <td id=\"T_b914985e_d4b0_11ea_820d_84fdd1e63b41row4_col3\" class=\"data row4 col3\" >0.4807</td>\n",
       "                        <td id=\"T_b914985e_d4b0_11ea_820d_84fdd1e63b41row4_col4\" class=\"data row4 col4\" >0.4812</td>\n",
       "                        <td id=\"T_b914985e_d4b0_11ea_820d_84fdd1e63b41row4_col5\" class=\"data row4 col5\" >0.3255</td>\n",
       "                        <td id=\"T_b914985e_d4b0_11ea_820d_84fdd1e63b41row4_col6\" class=\"data row4 col6\" >0.3289</td>\n",
       "            </tr>\n",
       "            <tr>\n",
       "                        <th id=\"T_b914985e_d4b0_11ea_820d_84fdd1e63b41level0_row5\" class=\"row_heading level0 row5\" >5</th>\n",
       "                        <td id=\"T_b914985e_d4b0_11ea_820d_84fdd1e63b41row5_col0\" class=\"data row5 col0\" >0.5292</td>\n",
       "                        <td id=\"T_b914985e_d4b0_11ea_820d_84fdd1e63b41row5_col1\" class=\"data row5 col1\" >0.0000</td>\n",
       "                        <td id=\"T_b914985e_d4b0_11ea_820d_84fdd1e63b41row5_col2\" class=\"data row5 col2\" >0.5168</td>\n",
       "                        <td id=\"T_b914985e_d4b0_11ea_820d_84fdd1e63b41row5_col3\" class=\"data row5 col3\" >0.5168</td>\n",
       "                        <td id=\"T_b914985e_d4b0_11ea_820d_84fdd1e63b41row5_col4\" class=\"data row5 col4\" >0.5160</td>\n",
       "                        <td id=\"T_b914985e_d4b0_11ea_820d_84fdd1e63b41row5_col5\" class=\"data row5 col5\" >0.3693</td>\n",
       "                        <td id=\"T_b914985e_d4b0_11ea_820d_84fdd1e63b41row5_col6\" class=\"data row5 col6\" >0.3726</td>\n",
       "            </tr>\n",
       "            <tr>\n",
       "                        <th id=\"T_b914985e_d4b0_11ea_820d_84fdd1e63b41level0_row6\" class=\"row_heading level0 row6\" >6</th>\n",
       "                        <td id=\"T_b914985e_d4b0_11ea_820d_84fdd1e63b41row6_col0\" class=\"data row6 col0\" >0.4938</td>\n",
       "                        <td id=\"T_b914985e_d4b0_11ea_820d_84fdd1e63b41row6_col1\" class=\"data row6 col1\" >0.0000</td>\n",
       "                        <td id=\"T_b914985e_d4b0_11ea_820d_84fdd1e63b41row6_col2\" class=\"data row6 col2\" >0.4833</td>\n",
       "                        <td id=\"T_b914985e_d4b0_11ea_820d_84fdd1e63b41row6_col3\" class=\"data row6 col3\" >0.4733</td>\n",
       "                        <td id=\"T_b914985e_d4b0_11ea_820d_84fdd1e63b41row6_col4\" class=\"data row6 col4\" >0.4783</td>\n",
       "                        <td id=\"T_b914985e_d4b0_11ea_820d_84fdd1e63b41row6_col5\" class=\"data row6 col5\" >0.3212</td>\n",
       "                        <td id=\"T_b914985e_d4b0_11ea_820d_84fdd1e63b41row6_col6\" class=\"data row6 col6\" >0.3239</td>\n",
       "            </tr>\n",
       "            <tr>\n",
       "                        <th id=\"T_b914985e_d4b0_11ea_820d_84fdd1e63b41level0_row7\" class=\"row_heading level0 row7\" >7</th>\n",
       "                        <td id=\"T_b914985e_d4b0_11ea_820d_84fdd1e63b41row7_col0\" class=\"data row7 col0\" >0.4965</td>\n",
       "                        <td id=\"T_b914985e_d4b0_11ea_820d_84fdd1e63b41row7_col1\" class=\"data row7 col1\" >0.0000</td>\n",
       "                        <td id=\"T_b914985e_d4b0_11ea_820d_84fdd1e63b41row7_col2\" class=\"data row7 col2\" >0.4859</td>\n",
       "                        <td id=\"T_b914985e_d4b0_11ea_820d_84fdd1e63b41row7_col3\" class=\"data row7 col3\" >0.5028</td>\n",
       "                        <td id=\"T_b914985e_d4b0_11ea_820d_84fdd1e63b41row7_col4\" class=\"data row7 col4\" >0.4837</td>\n",
       "                        <td id=\"T_b914985e_d4b0_11ea_820d_84fdd1e63b41row7_col5\" class=\"data row7 col5\" >0.3253</td>\n",
       "                        <td id=\"T_b914985e_d4b0_11ea_820d_84fdd1e63b41row7_col6\" class=\"data row7 col6\" >0.3307</td>\n",
       "            </tr>\n",
       "            <tr>\n",
       "                        <th id=\"T_b914985e_d4b0_11ea_820d_84fdd1e63b41level0_row8\" class=\"row_heading level0 row8\" >8</th>\n",
       "                        <td id=\"T_b914985e_d4b0_11ea_820d_84fdd1e63b41row8_col0\" class=\"data row8 col0\" >0.5142</td>\n",
       "                        <td id=\"T_b914985e_d4b0_11ea_820d_84fdd1e63b41row8_col1\" class=\"data row8 col1\" >0.0000</td>\n",
       "                        <td id=\"T_b914985e_d4b0_11ea_820d_84fdd1e63b41row8_col2\" class=\"data row8 col2\" >0.5028</td>\n",
       "                        <td id=\"T_b914985e_d4b0_11ea_820d_84fdd1e63b41row8_col3\" class=\"data row8 col3\" >0.4952</td>\n",
       "                        <td id=\"T_b914985e_d4b0_11ea_820d_84fdd1e63b41row8_col4\" class=\"data row8 col4\" >0.4971</td>\n",
       "                        <td id=\"T_b914985e_d4b0_11ea_820d_84fdd1e63b41row8_col5\" class=\"data row8 col5\" >0.3493</td>\n",
       "                        <td id=\"T_b914985e_d4b0_11ea_820d_84fdd1e63b41row8_col6\" class=\"data row8 col6\" >0.3531</td>\n",
       "            </tr>\n",
       "            <tr>\n",
       "                        <th id=\"T_b914985e_d4b0_11ea_820d_84fdd1e63b41level0_row9\" class=\"row_heading level0 row9\" >9</th>\n",
       "                        <td id=\"T_b914985e_d4b0_11ea_820d_84fdd1e63b41row9_col0\" class=\"data row9 col0\" >0.5160</td>\n",
       "                        <td id=\"T_b914985e_d4b0_11ea_820d_84fdd1e63b41row9_col1\" class=\"data row9 col1\" >0.0000</td>\n",
       "                        <td id=\"T_b914985e_d4b0_11ea_820d_84fdd1e63b41row9_col2\" class=\"data row9 col2\" >0.5039</td>\n",
       "                        <td id=\"T_b914985e_d4b0_11ea_820d_84fdd1e63b41row9_col3\" class=\"data row9 col3\" >0.5038</td>\n",
       "                        <td id=\"T_b914985e_d4b0_11ea_820d_84fdd1e63b41row9_col4\" class=\"data row9 col4\" >0.5041</td>\n",
       "                        <td id=\"T_b914985e_d4b0_11ea_820d_84fdd1e63b41row9_col5\" class=\"data row9 col5\" >0.3517</td>\n",
       "                        <td id=\"T_b914985e_d4b0_11ea_820d_84fdd1e63b41row9_col6\" class=\"data row9 col6\" >0.3546</td>\n",
       "            </tr>\n",
       "            <tr>\n",
       "                        <th id=\"T_b914985e_d4b0_11ea_820d_84fdd1e63b41level0_row10\" class=\"row_heading level0 row10\" >Mean</th>\n",
       "                        <td id=\"T_b914985e_d4b0_11ea_820d_84fdd1e63b41row10_col0\" class=\"data row10 col0\" >0.5077</td>\n",
       "                        <td id=\"T_b914985e_d4b0_11ea_820d_84fdd1e63b41row10_col1\" class=\"data row10 col1\" >0.0000</td>\n",
       "                        <td id=\"T_b914985e_d4b0_11ea_820d_84fdd1e63b41row10_col2\" class=\"data row10 col2\" >0.4962</td>\n",
       "                        <td id=\"T_b914985e_d4b0_11ea_820d_84fdd1e63b41row10_col3\" class=\"data row10 col3\" >0.4948</td>\n",
       "                        <td id=\"T_b914985e_d4b0_11ea_820d_84fdd1e63b41row10_col4\" class=\"data row10 col4\" >0.4931</td>\n",
       "                        <td id=\"T_b914985e_d4b0_11ea_820d_84fdd1e63b41row10_col5\" class=\"data row10 col5\" >0.3401</td>\n",
       "                        <td id=\"T_b914985e_d4b0_11ea_820d_84fdd1e63b41row10_col6\" class=\"data row10 col6\" >0.3436</td>\n",
       "            </tr>\n",
       "            <tr>\n",
       "                        <th id=\"T_b914985e_d4b0_11ea_820d_84fdd1e63b41level0_row11\" class=\"row_heading level0 row11\" >SD</th>\n",
       "                        <td id=\"T_b914985e_d4b0_11ea_820d_84fdd1e63b41row11_col0\" class=\"data row11 col0\" >0.0175</td>\n",
       "                        <td id=\"T_b914985e_d4b0_11ea_820d_84fdd1e63b41row11_col1\" class=\"data row11 col1\" >0.0000</td>\n",
       "                        <td id=\"T_b914985e_d4b0_11ea_820d_84fdd1e63b41row11_col2\" class=\"data row11 col2\" >0.0174</td>\n",
       "                        <td id=\"T_b914985e_d4b0_11ea_820d_84fdd1e63b41row11_col3\" class=\"data row11 col3\" >0.0202</td>\n",
       "                        <td id=\"T_b914985e_d4b0_11ea_820d_84fdd1e63b41row11_col4\" class=\"data row11 col4\" >0.0187</td>\n",
       "                        <td id=\"T_b914985e_d4b0_11ea_820d_84fdd1e63b41row11_col5\" class=\"data row11 col5\" >0.0238</td>\n",
       "                        <td id=\"T_b914985e_d4b0_11ea_820d_84fdd1e63b41row11_col6\" class=\"data row11 col6\" >0.0238</td>\n",
       "            </tr>\n",
       "    </tbody></table>"
      ],
      "text/plain": [
       "<pandas.io.formats.style.Styler at 0x25954f81518>"
      ]
     },
     "metadata": {},
     "output_type": "display_data"
    }
   ],
   "source": [
    "stack_hard = stack_models([tuned_gbc,tuned_xgb], method='hard')"
   ]
  },
  {
   "cell_type": "code",
   "execution_count": 57,
   "metadata": {
    "ExecuteTime": {
     "end_time": "2020-08-02T11:18:25.720595Z",
     "start_time": "2020-08-02T11:11:03.649490Z"
    }
   },
   "outputs": [
    {
     "data": {
      "text/html": [
       "<style  type=\"text/css\" >\n",
       "#T_e22b8d5a_d4b1_11ea_bc0a_84fdd1e63b41row10_col0,#T_e22b8d5a_d4b1_11ea_bc0a_84fdd1e63b41row10_col1,#T_e22b8d5a_d4b1_11ea_bc0a_84fdd1e63b41row10_col2,#T_e22b8d5a_d4b1_11ea_bc0a_84fdd1e63b41row10_col3,#T_e22b8d5a_d4b1_11ea_bc0a_84fdd1e63b41row10_col4,#T_e22b8d5a_d4b1_11ea_bc0a_84fdd1e63b41row10_col5,#T_e22b8d5a_d4b1_11ea_bc0a_84fdd1e63b41row10_col6{\n",
       "            background:  yellow;\n",
       "        }</style><table id=\"T_e22b8d5a_d4b1_11ea_bc0a_84fdd1e63b41\" ><thead>    <tr>        <th class=\"blank level0\" ></th>        <th class=\"col_heading level0 col0\" >Accuracy</th>        <th class=\"col_heading level0 col1\" >AUC</th>        <th class=\"col_heading level0 col2\" >Recall</th>        <th class=\"col_heading level0 col3\" >Prec.</th>        <th class=\"col_heading level0 col4\" >F1</th>        <th class=\"col_heading level0 col5\" >Kappa</th>        <th class=\"col_heading level0 col6\" >MCC</th>    </tr></thead><tbody>\n",
       "                <tr>\n",
       "                        <th id=\"T_e22b8d5a_d4b1_11ea_bc0a_84fdd1e63b41level0_row0\" class=\"row_heading level0 row0\" >0</th>\n",
       "                        <td id=\"T_e22b8d5a_d4b1_11ea_bc0a_84fdd1e63b41row0_col0\" class=\"data row0 col0\" >0.5451</td>\n",
       "                        <td id=\"T_e22b8d5a_d4b1_11ea_bc0a_84fdd1e63b41row0_col1\" class=\"data row0 col1\" >0.0000</td>\n",
       "                        <td id=\"T_e22b8d5a_d4b1_11ea_bc0a_84fdd1e63b41row0_col2\" class=\"data row0 col2\" >0.5346</td>\n",
       "                        <td id=\"T_e22b8d5a_d4b1_11ea_bc0a_84fdd1e63b41row0_col3\" class=\"data row0 col3\" >0.5350</td>\n",
       "                        <td id=\"T_e22b8d5a_d4b1_11ea_bc0a_84fdd1e63b41row0_col4\" class=\"data row0 col4\" >0.5383</td>\n",
       "                        <td id=\"T_e22b8d5a_d4b1_11ea_bc0a_84fdd1e63b41row0_col5\" class=\"data row0 col5\" >0.3909</td>\n",
       "                        <td id=\"T_e22b8d5a_d4b1_11ea_bc0a_84fdd1e63b41row0_col6\" class=\"data row0 col6\" >0.3918</td>\n",
       "            </tr>\n",
       "            <tr>\n",
       "                        <th id=\"T_e22b8d5a_d4b1_11ea_bc0a_84fdd1e63b41level0_row1\" class=\"row_heading level0 row1\" >1</th>\n",
       "                        <td id=\"T_e22b8d5a_d4b1_11ea_bc0a_84fdd1e63b41row1_col0\" class=\"data row1 col0\" >0.4850</td>\n",
       "                        <td id=\"T_e22b8d5a_d4b1_11ea_bc0a_84fdd1e63b41row1_col1\" class=\"data row1 col1\" >0.0000</td>\n",
       "                        <td id=\"T_e22b8d5a_d4b1_11ea_bc0a_84fdd1e63b41row1_col2\" class=\"data row1 col2\" >0.4784</td>\n",
       "                        <td id=\"T_e22b8d5a_d4b1_11ea_bc0a_84fdd1e63b41row1_col3\" class=\"data row1 col3\" >0.4860</td>\n",
       "                        <td id=\"T_e22b8d5a_d4b1_11ea_bc0a_84fdd1e63b41row1_col4\" class=\"data row1 col4\" >0.4849</td>\n",
       "                        <td id=\"T_e22b8d5a_d4b1_11ea_bc0a_84fdd1e63b41row1_col5\" class=\"data row1 col5\" >0.3114</td>\n",
       "                        <td id=\"T_e22b8d5a_d4b1_11ea_bc0a_84fdd1e63b41row1_col6\" class=\"data row1 col6\" >0.3116</td>\n",
       "            </tr>\n",
       "            <tr>\n",
       "                        <th id=\"T_e22b8d5a_d4b1_11ea_bc0a_84fdd1e63b41level0_row2\" class=\"row_heading level0 row2\" >2</th>\n",
       "                        <td id=\"T_e22b8d5a_d4b1_11ea_bc0a_84fdd1e63b41row2_col0\" class=\"data row2 col0\" >0.5150</td>\n",
       "                        <td id=\"T_e22b8d5a_d4b1_11ea_bc0a_84fdd1e63b41row2_col1\" class=\"data row2 col1\" >0.0000</td>\n",
       "                        <td id=\"T_e22b8d5a_d4b1_11ea_bc0a_84fdd1e63b41row2_col2\" class=\"data row2 col2\" >0.5077</td>\n",
       "                        <td id=\"T_e22b8d5a_d4b1_11ea_bc0a_84fdd1e63b41row2_col3\" class=\"data row2 col3\" >0.5122</td>\n",
       "                        <td id=\"T_e22b8d5a_d4b1_11ea_bc0a_84fdd1e63b41row2_col4\" class=\"data row2 col4\" >0.5128</td>\n",
       "                        <td id=\"T_e22b8d5a_d4b1_11ea_bc0a_84fdd1e63b41row2_col5\" class=\"data row2 col5\" >0.3510</td>\n",
       "                        <td id=\"T_e22b8d5a_d4b1_11ea_bc0a_84fdd1e63b41row2_col6\" class=\"data row2 col6\" >0.3514</td>\n",
       "            </tr>\n",
       "            <tr>\n",
       "                        <th id=\"T_e22b8d5a_d4b1_11ea_bc0a_84fdd1e63b41level0_row3\" class=\"row_heading level0 row3\" >3</th>\n",
       "                        <td id=\"T_e22b8d5a_d4b1_11ea_bc0a_84fdd1e63b41row3_col0\" class=\"data row3 col0\" >0.5558</td>\n",
       "                        <td id=\"T_e22b8d5a_d4b1_11ea_bc0a_84fdd1e63b41row3_col1\" class=\"data row3 col1\" >0.0000</td>\n",
       "                        <td id=\"T_e22b8d5a_d4b1_11ea_bc0a_84fdd1e63b41row3_col2\" class=\"data row3 col2\" >0.5488</td>\n",
       "                        <td id=\"T_e22b8d5a_d4b1_11ea_bc0a_84fdd1e63b41row3_col3\" class=\"data row3 col3\" >0.5540</td>\n",
       "                        <td id=\"T_e22b8d5a_d4b1_11ea_bc0a_84fdd1e63b41row3_col4\" class=\"data row3 col4\" >0.5541</td>\n",
       "                        <td id=\"T_e22b8d5a_d4b1_11ea_bc0a_84fdd1e63b41row3_col5\" class=\"data row3 col5\" >0.4058</td>\n",
       "                        <td id=\"T_e22b8d5a_d4b1_11ea_bc0a_84fdd1e63b41row3_col6\" class=\"data row3 col6\" >0.4062</td>\n",
       "            </tr>\n",
       "            <tr>\n",
       "                        <th id=\"T_e22b8d5a_d4b1_11ea_bc0a_84fdd1e63b41level0_row4\" class=\"row_heading level0 row4\" >4</th>\n",
       "                        <td id=\"T_e22b8d5a_d4b1_11ea_bc0a_84fdd1e63b41row4_col0\" class=\"data row4 col0\" >0.5504</td>\n",
       "                        <td id=\"T_e22b8d5a_d4b1_11ea_bc0a_84fdd1e63b41row4_col1\" class=\"data row4 col1\" >0.0000</td>\n",
       "                        <td id=\"T_e22b8d5a_d4b1_11ea_bc0a_84fdd1e63b41row4_col2\" class=\"data row4 col2\" >0.5430</td>\n",
       "                        <td id=\"T_e22b8d5a_d4b1_11ea_bc0a_84fdd1e63b41row4_col3\" class=\"data row4 col3\" >0.5465</td>\n",
       "                        <td id=\"T_e22b8d5a_d4b1_11ea_bc0a_84fdd1e63b41row4_col4\" class=\"data row4 col4\" >0.5474</td>\n",
       "                        <td id=\"T_e22b8d5a_d4b1_11ea_bc0a_84fdd1e63b41row4_col5\" class=\"data row4 col5\" >0.3984</td>\n",
       "                        <td id=\"T_e22b8d5a_d4b1_11ea_bc0a_84fdd1e63b41row4_col6\" class=\"data row4 col6\" >0.3989</td>\n",
       "            </tr>\n",
       "            <tr>\n",
       "                        <th id=\"T_e22b8d5a_d4b1_11ea_bc0a_84fdd1e63b41level0_row5\" class=\"row_heading level0 row5\" >5</th>\n",
       "                        <td id=\"T_e22b8d5a_d4b1_11ea_bc0a_84fdd1e63b41row5_col0\" class=\"data row5 col0\" >0.5416</td>\n",
       "                        <td id=\"T_e22b8d5a_d4b1_11ea_bc0a_84fdd1e63b41row5_col1\" class=\"data row5 col1\" >0.0000</td>\n",
       "                        <td id=\"T_e22b8d5a_d4b1_11ea_bc0a_84fdd1e63b41row5_col2\" class=\"data row5 col2\" >0.5329</td>\n",
       "                        <td id=\"T_e22b8d5a_d4b1_11ea_bc0a_84fdd1e63b41row5_col3\" class=\"data row5 col3\" >0.5373</td>\n",
       "                        <td id=\"T_e22b8d5a_d4b1_11ea_bc0a_84fdd1e63b41row5_col4\" class=\"data row5 col4\" >0.5390</td>\n",
       "                        <td id=\"T_e22b8d5a_d4b1_11ea_bc0a_84fdd1e63b41row5_col5\" class=\"data row5 col5\" >0.3871</td>\n",
       "                        <td id=\"T_e22b8d5a_d4b1_11ea_bc0a_84fdd1e63b41row5_col6\" class=\"data row5 col6\" >0.3873</td>\n",
       "            </tr>\n",
       "            <tr>\n",
       "                        <th id=\"T_e22b8d5a_d4b1_11ea_bc0a_84fdd1e63b41level0_row6\" class=\"row_heading level0 row6\" >6</th>\n",
       "                        <td id=\"T_e22b8d5a_d4b1_11ea_bc0a_84fdd1e63b41row6_col0\" class=\"data row6 col0\" >0.5168</td>\n",
       "                        <td id=\"T_e22b8d5a_d4b1_11ea_bc0a_84fdd1e63b41row6_col1\" class=\"data row6 col1\" >0.0000</td>\n",
       "                        <td id=\"T_e22b8d5a_d4b1_11ea_bc0a_84fdd1e63b41row6_col2\" class=\"data row6 col2\" >0.5101</td>\n",
       "                        <td id=\"T_e22b8d5a_d4b1_11ea_bc0a_84fdd1e63b41row6_col3\" class=\"data row6 col3\" >0.5120</td>\n",
       "                        <td id=\"T_e22b8d5a_d4b1_11ea_bc0a_84fdd1e63b41row6_col4\" class=\"data row6 col4\" >0.5135</td>\n",
       "                        <td id=\"T_e22b8d5a_d4b1_11ea_bc0a_84fdd1e63b41row6_col5\" class=\"data row6 col5\" >0.3534</td>\n",
       "                        <td id=\"T_e22b8d5a_d4b1_11ea_bc0a_84fdd1e63b41row6_col6\" class=\"data row6 col6\" >0.3539</td>\n",
       "            </tr>\n",
       "            <tr>\n",
       "                        <th id=\"T_e22b8d5a_d4b1_11ea_bc0a_84fdd1e63b41level0_row7\" class=\"row_heading level0 row7\" >7</th>\n",
       "                        <td id=\"T_e22b8d5a_d4b1_11ea_bc0a_84fdd1e63b41row7_col0\" class=\"data row7 col0\" >0.5071</td>\n",
       "                        <td id=\"T_e22b8d5a_d4b1_11ea_bc0a_84fdd1e63b41row7_col1\" class=\"data row7 col1\" >0.0000</td>\n",
       "                        <td id=\"T_e22b8d5a_d4b1_11ea_bc0a_84fdd1e63b41row7_col2\" class=\"data row7 col2\" >0.4986</td>\n",
       "                        <td id=\"T_e22b8d5a_d4b1_11ea_bc0a_84fdd1e63b41row7_col3\" class=\"data row7 col3\" >0.5044</td>\n",
       "                        <td id=\"T_e22b8d5a_d4b1_11ea_bc0a_84fdd1e63b41row7_col4\" class=\"data row7 col4\" >0.5056</td>\n",
       "                        <td id=\"T_e22b8d5a_d4b1_11ea_bc0a_84fdd1e63b41row7_col5\" class=\"data row7 col5\" >0.3411</td>\n",
       "                        <td id=\"T_e22b8d5a_d4b1_11ea_bc0a_84fdd1e63b41row7_col6\" class=\"data row7 col6\" >0.3412</td>\n",
       "            </tr>\n",
       "            <tr>\n",
       "                        <th id=\"T_e22b8d5a_d4b1_11ea_bc0a_84fdd1e63b41level0_row8\" class=\"row_heading level0 row8\" >8</th>\n",
       "                        <td id=\"T_e22b8d5a_d4b1_11ea_bc0a_84fdd1e63b41row8_col0\" class=\"data row8 col0\" >0.5585</td>\n",
       "                        <td id=\"T_e22b8d5a_d4b1_11ea_bc0a_84fdd1e63b41row8_col1\" class=\"data row8 col1\" >0.0000</td>\n",
       "                        <td id=\"T_e22b8d5a_d4b1_11ea_bc0a_84fdd1e63b41row8_col2\" class=\"data row8 col2\" >0.5505</td>\n",
       "                        <td id=\"T_e22b8d5a_d4b1_11ea_bc0a_84fdd1e63b41row8_col3\" class=\"data row8 col3\" >0.5538</td>\n",
       "                        <td id=\"T_e22b8d5a_d4b1_11ea_bc0a_84fdd1e63b41row8_col4\" class=\"data row8 col4\" >0.5547</td>\n",
       "                        <td id=\"T_e22b8d5a_d4b1_11ea_bc0a_84fdd1e63b41row8_col5\" class=\"data row8 col5\" >0.4091</td>\n",
       "                        <td id=\"T_e22b8d5a_d4b1_11ea_bc0a_84fdd1e63b41row8_col6\" class=\"data row8 col6\" >0.4098</td>\n",
       "            </tr>\n",
       "            <tr>\n",
       "                        <th id=\"T_e22b8d5a_d4b1_11ea_bc0a_84fdd1e63b41level0_row9\" class=\"row_heading level0 row9\" >9</th>\n",
       "                        <td id=\"T_e22b8d5a_d4b1_11ea_bc0a_84fdd1e63b41row9_col0\" class=\"data row9 col0\" >0.5160</td>\n",
       "                        <td id=\"T_e22b8d5a_d4b1_11ea_bc0a_84fdd1e63b41row9_col1\" class=\"data row9 col1\" >0.0000</td>\n",
       "                        <td id=\"T_e22b8d5a_d4b1_11ea_bc0a_84fdd1e63b41row9_col2\" class=\"data row9 col2\" >0.5080</td>\n",
       "                        <td id=\"T_e22b8d5a_d4b1_11ea_bc0a_84fdd1e63b41row9_col3\" class=\"data row9 col3\" >0.5121</td>\n",
       "                        <td id=\"T_e22b8d5a_d4b1_11ea_bc0a_84fdd1e63b41row9_col4\" class=\"data row9 col4\" >0.5130</td>\n",
       "                        <td id=\"T_e22b8d5a_d4b1_11ea_bc0a_84fdd1e63b41row9_col5\" class=\"data row9 col5\" >0.3520</td>\n",
       "                        <td id=\"T_e22b8d5a_d4b1_11ea_bc0a_84fdd1e63b41row9_col6\" class=\"data row9 col6\" >0.3525</td>\n",
       "            </tr>\n",
       "            <tr>\n",
       "                        <th id=\"T_e22b8d5a_d4b1_11ea_bc0a_84fdd1e63b41level0_row10\" class=\"row_heading level0 row10\" >Mean</th>\n",
       "                        <td id=\"T_e22b8d5a_d4b1_11ea_bc0a_84fdd1e63b41row10_col0\" class=\"data row10 col0\" >0.5291</td>\n",
       "                        <td id=\"T_e22b8d5a_d4b1_11ea_bc0a_84fdd1e63b41row10_col1\" class=\"data row10 col1\" >0.0000</td>\n",
       "                        <td id=\"T_e22b8d5a_d4b1_11ea_bc0a_84fdd1e63b41row10_col2\" class=\"data row10 col2\" >0.5213</td>\n",
       "                        <td id=\"T_e22b8d5a_d4b1_11ea_bc0a_84fdd1e63b41row10_col3\" class=\"data row10 col3\" >0.5253</td>\n",
       "                        <td id=\"T_e22b8d5a_d4b1_11ea_bc0a_84fdd1e63b41row10_col4\" class=\"data row10 col4\" >0.5263</td>\n",
       "                        <td id=\"T_e22b8d5a_d4b1_11ea_bc0a_84fdd1e63b41row10_col5\" class=\"data row10 col5\" >0.3700</td>\n",
       "                        <td id=\"T_e22b8d5a_d4b1_11ea_bc0a_84fdd1e63b41row10_col6\" class=\"data row10 col6\" >0.3705</td>\n",
       "            </tr>\n",
       "            <tr>\n",
       "                        <th id=\"T_e22b8d5a_d4b1_11ea_bc0a_84fdd1e63b41level0_row11\" class=\"row_heading level0 row11\" >SD</th>\n",
       "                        <td id=\"T_e22b8d5a_d4b1_11ea_bc0a_84fdd1e63b41row11_col0\" class=\"data row11 col0\" >0.0232</td>\n",
       "                        <td id=\"T_e22b8d5a_d4b1_11ea_bc0a_84fdd1e63b41row11_col1\" class=\"data row11 col1\" >0.0000</td>\n",
       "                        <td id=\"T_e22b8d5a_d4b1_11ea_bc0a_84fdd1e63b41row11_col2\" class=\"data row11 col2\" >0.0229</td>\n",
       "                        <td id=\"T_e22b8d5a_d4b1_11ea_bc0a_84fdd1e63b41row11_col3\" class=\"data row11 col3\" >0.0220</td>\n",
       "                        <td id=\"T_e22b8d5a_d4b1_11ea_bc0a_84fdd1e63b41row11_col4\" class=\"data row11 col4\" >0.0224</td>\n",
       "                        <td id=\"T_e22b8d5a_d4b1_11ea_bc0a_84fdd1e63b41row11_col5\" class=\"data row11 col5\" >0.0309</td>\n",
       "                        <td id=\"T_e22b8d5a_d4b1_11ea_bc0a_84fdd1e63b41row11_col6\" class=\"data row11 col6\" >0.0311</td>\n",
       "            </tr>\n",
       "    </tbody></table>"
      ],
      "text/plain": [
       "<pandas.io.formats.style.Styler at 0x2595512bc18>"
      ]
     },
     "metadata": {},
     "output_type": "display_data"
    }
   ],
   "source": [
    "stack_soft2 = stack_models([tuned_gbc,tuned_xgb], meta_model=tuned_xgb)"
   ]
  },
  {
   "cell_type": "code",
   "execution_count": 58,
   "metadata": {
    "ExecuteTime": {
     "end_time": "2020-08-02T11:30:50.041647Z",
     "start_time": "2020-08-02T11:19:20.706289Z"
    }
   },
   "outputs": [
    {
     "name": "stderr",
     "output_type": "stream",
     "text": [
      "C:\\Users\\balaji\\AppData\\Roaming\\Python\\Python37\\site-packages\\pycaret\\classification.py:7546: UserWarning:\n",
      "\n",
      "This function will adopt to Stackingclassifer() from sklearn in future release of PyCaret 2.x.\n",
      "\n"
     ]
    }
   ],
   "source": [
    "final_stack_soft = finalize_model(stack_soft2)"
   ]
  },
  {
   "cell_type": "code",
   "execution_count": 59,
   "metadata": {
    "ExecuteTime": {
     "end_time": "2020-08-02T11:31:26.672336Z",
     "start_time": "2020-08-02T11:31:26.651393Z"
    }
   },
   "outputs": [
    {
     "data": {
      "text/html": [
       "<div>\n",
       "<style scoped>\n",
       "    .dataframe tbody tr th:only-of-type {\n",
       "        vertical-align: middle;\n",
       "    }\n",
       "\n",
       "    .dataframe tbody tr th {\n",
       "        vertical-align: top;\n",
       "    }\n",
       "\n",
       "    .dataframe thead th {\n",
       "        text-align: right;\n",
       "    }\n",
       "</style>\n",
       "<table border=\"1\" class=\"dataframe\">\n",
       "  <thead>\n",
       "    <tr style=\"text-align: right;\">\n",
       "      <th></th>\n",
       "      <th>Age</th>\n",
       "      <th>Work_Experience</th>\n",
       "      <th>Spending_Score</th>\n",
       "      <th>Family_Size</th>\n",
       "      <th>Gender_0.0</th>\n",
       "      <th>Gender_1.0</th>\n",
       "      <th>Ever_Married_0.0</th>\n",
       "      <th>Ever_Married_1.0</th>\n",
       "      <th>Graduated_0.0</th>\n",
       "      <th>Graduated_1.0</th>\n",
       "      <th>...</th>\n",
       "      <th>Profession_9.0</th>\n",
       "      <th>Var_1_1.0</th>\n",
       "      <th>Var_1_2.0</th>\n",
       "      <th>Var_1_3.0</th>\n",
       "      <th>Var_1_4.0</th>\n",
       "      <th>Var_1_5.0</th>\n",
       "      <th>Var_1_6.0</th>\n",
       "      <th>Var_1_7.0</th>\n",
       "      <th>ID</th>\n",
       "      <th>Segmentation</th>\n",
       "    </tr>\n",
       "  </thead>\n",
       "  <tbody>\n",
       "    <tr>\n",
       "      <th>0</th>\n",
       "      <td>22.0</td>\n",
       "      <td>1.0</td>\n",
       "      <td>1.0</td>\n",
       "      <td>4.0</td>\n",
       "      <td>0</td>\n",
       "      <td>1</td>\n",
       "      <td>1</td>\n",
       "      <td>0</td>\n",
       "      <td>1</td>\n",
       "      <td>0</td>\n",
       "      <td>...</td>\n",
       "      <td>0</td>\n",
       "      <td>0</td>\n",
       "      <td>0</td>\n",
       "      <td>0</td>\n",
       "      <td>1</td>\n",
       "      <td>0</td>\n",
       "      <td>0</td>\n",
       "      <td>0</td>\n",
       "      <td>458989</td>\n",
       "      <td>NaN</td>\n",
       "    </tr>\n",
       "    <tr>\n",
       "      <th>1</th>\n",
       "      <td>38.0</td>\n",
       "      <td>3.0</td>\n",
       "      <td>2.0</td>\n",
       "      <td>3.0</td>\n",
       "      <td>1</td>\n",
       "      <td>0</td>\n",
       "      <td>0</td>\n",
       "      <td>1</td>\n",
       "      <td>0</td>\n",
       "      <td>1</td>\n",
       "      <td>...</td>\n",
       "      <td>0</td>\n",
       "      <td>0</td>\n",
       "      <td>0</td>\n",
       "      <td>0</td>\n",
       "      <td>1</td>\n",
       "      <td>0</td>\n",
       "      <td>0</td>\n",
       "      <td>0</td>\n",
       "      <td>458994</td>\n",
       "      <td>NaN</td>\n",
       "    </tr>\n",
       "    <tr>\n",
       "      <th>2</th>\n",
       "      <td>67.0</td>\n",
       "      <td>1.0</td>\n",
       "      <td>1.0</td>\n",
       "      <td>1.0</td>\n",
       "      <td>1</td>\n",
       "      <td>0</td>\n",
       "      <td>0</td>\n",
       "      <td>1</td>\n",
       "      <td>0</td>\n",
       "      <td>1</td>\n",
       "      <td>...</td>\n",
       "      <td>0</td>\n",
       "      <td>0</td>\n",
       "      <td>0</td>\n",
       "      <td>0</td>\n",
       "      <td>0</td>\n",
       "      <td>0</td>\n",
       "      <td>1</td>\n",
       "      <td>0</td>\n",
       "      <td>458996</td>\n",
       "      <td>NaN</td>\n",
       "    </tr>\n",
       "    <tr>\n",
       "      <th>3</th>\n",
       "      <td>67.0</td>\n",
       "      <td>0.0</td>\n",
       "      <td>3.0</td>\n",
       "      <td>2.0</td>\n",
       "      <td>0</td>\n",
       "      <td>1</td>\n",
       "      <td>0</td>\n",
       "      <td>1</td>\n",
       "      <td>0</td>\n",
       "      <td>1</td>\n",
       "      <td>...</td>\n",
       "      <td>0</td>\n",
       "      <td>0</td>\n",
       "      <td>0</td>\n",
       "      <td>0</td>\n",
       "      <td>0</td>\n",
       "      <td>0</td>\n",
       "      <td>1</td>\n",
       "      <td>0</td>\n",
       "      <td>459000</td>\n",
       "      <td>NaN</td>\n",
       "    </tr>\n",
       "    <tr>\n",
       "      <th>4</th>\n",
       "      <td>40.0</td>\n",
       "      <td>4.0</td>\n",
       "      <td>3.0</td>\n",
       "      <td>6.0</td>\n",
       "      <td>1</td>\n",
       "      <td>0</td>\n",
       "      <td>0</td>\n",
       "      <td>1</td>\n",
       "      <td>0</td>\n",
       "      <td>1</td>\n",
       "      <td>...</td>\n",
       "      <td>0</td>\n",
       "      <td>0</td>\n",
       "      <td>0</td>\n",
       "      <td>0</td>\n",
       "      <td>0</td>\n",
       "      <td>0</td>\n",
       "      <td>1</td>\n",
       "      <td>0</td>\n",
       "      <td>459001</td>\n",
       "      <td>NaN</td>\n",
       "    </tr>\n",
       "  </tbody>\n",
       "</table>\n",
       "<p>5 rows × 28 columns</p>\n",
       "</div>"
      ],
      "text/plain": [
       "    Age  Work_Experience  Spending_Score  Family_Size  Gender_0.0  Gender_1.0  \\\n",
       "0  22.0              1.0             1.0          4.0           0           1   \n",
       "1  38.0              3.0             2.0          3.0           1           0   \n",
       "2  67.0              1.0             1.0          1.0           1           0   \n",
       "3  67.0              0.0             3.0          2.0           0           1   \n",
       "4  40.0              4.0             3.0          6.0           1           0   \n",
       "\n",
       "   Ever_Married_0.0  Ever_Married_1.0  Graduated_0.0  Graduated_1.0  ...  \\\n",
       "0                 1                 0              1              0  ...   \n",
       "1                 0                 1              0              1  ...   \n",
       "2                 0                 1              0              1  ...   \n",
       "3                 0                 1              0              1  ...   \n",
       "4                 0                 1              0              1  ...   \n",
       "\n",
       "   Profession_9.0  Var_1_1.0  Var_1_2.0  Var_1_3.0  Var_1_4.0  Var_1_5.0  \\\n",
       "0               0          0          0          0          1          0   \n",
       "1               0          0          0          0          1          0   \n",
       "2               0          0          0          0          0          0   \n",
       "3               0          0          0          0          0          0   \n",
       "4               0          0          0          0          0          0   \n",
       "\n",
       "   Var_1_6.0  Var_1_7.0      ID  Segmentation  \n",
       "0          0          0  458989           NaN  \n",
       "1          0          0  458994           NaN  \n",
       "2          1          0  458996           NaN  \n",
       "3          1          0  459000           NaN  \n",
       "4          1          0  459001           NaN  \n",
       "\n",
       "[5 rows x 28 columns]"
      ]
     },
     "execution_count": 59,
     "metadata": {},
     "output_type": "execute_result"
    }
   ],
   "source": [
    "df_final_test.head()"
   ]
  },
  {
   "cell_type": "code",
   "execution_count": 60,
   "metadata": {
    "ExecuteTime": {
     "end_time": "2020-08-02T11:32:07.870012Z",
     "start_time": "2020-08-02T11:32:06.732550Z"
    }
   },
   "outputs": [
    {
     "data": {
      "text/html": [
       "<div>\n",
       "<style scoped>\n",
       "    .dataframe tbody tr th:only-of-type {\n",
       "        vertical-align: middle;\n",
       "    }\n",
       "\n",
       "    .dataframe tbody tr th {\n",
       "        vertical-align: top;\n",
       "    }\n",
       "\n",
       "    .dataframe thead th {\n",
       "        text-align: right;\n",
       "    }\n",
       "</style>\n",
       "<table border=\"1\" class=\"dataframe\">\n",
       "  <thead>\n",
       "    <tr style=\"text-align: right;\">\n",
       "      <th></th>\n",
       "      <th>Age</th>\n",
       "      <th>Work_Experience</th>\n",
       "      <th>Spending_Score</th>\n",
       "      <th>Family_Size</th>\n",
       "      <th>Gender_0.0</th>\n",
       "      <th>Gender_1.0</th>\n",
       "      <th>Ever_Married_0.0</th>\n",
       "      <th>Ever_Married_1.0</th>\n",
       "      <th>Graduated_0.0</th>\n",
       "      <th>Graduated_1.0</th>\n",
       "      <th>...</th>\n",
       "      <th>Var_1_2.0</th>\n",
       "      <th>Var_1_3.0</th>\n",
       "      <th>Var_1_4.0</th>\n",
       "      <th>Var_1_5.0</th>\n",
       "      <th>Var_1_6.0</th>\n",
       "      <th>Var_1_7.0</th>\n",
       "      <th>ID</th>\n",
       "      <th>Segmentation</th>\n",
       "      <th>Label</th>\n",
       "      <th>Score</th>\n",
       "    </tr>\n",
       "  </thead>\n",
       "  <tbody>\n",
       "    <tr>\n",
       "      <th>0</th>\n",
       "      <td>22.0</td>\n",
       "      <td>1.0</td>\n",
       "      <td>1.0</td>\n",
       "      <td>4.0</td>\n",
       "      <td>0</td>\n",
       "      <td>1</td>\n",
       "      <td>1</td>\n",
       "      <td>0</td>\n",
       "      <td>1</td>\n",
       "      <td>0</td>\n",
       "      <td>...</td>\n",
       "      <td>0</td>\n",
       "      <td>0</td>\n",
       "      <td>1</td>\n",
       "      <td>0</td>\n",
       "      <td>0</td>\n",
       "      <td>0</td>\n",
       "      <td>458989</td>\n",
       "      <td>NaN</td>\n",
       "      <td>0</td>\n",
       "      <td>0.5136</td>\n",
       "    </tr>\n",
       "    <tr>\n",
       "      <th>1</th>\n",
       "      <td>38.0</td>\n",
       "      <td>3.0</td>\n",
       "      <td>2.0</td>\n",
       "      <td>3.0</td>\n",
       "      <td>1</td>\n",
       "      <td>0</td>\n",
       "      <td>0</td>\n",
       "      <td>1</td>\n",
       "      <td>0</td>\n",
       "      <td>1</td>\n",
       "      <td>...</td>\n",
       "      <td>0</td>\n",
       "      <td>0</td>\n",
       "      <td>1</td>\n",
       "      <td>0</td>\n",
       "      <td>0</td>\n",
       "      <td>0</td>\n",
       "      <td>458994</td>\n",
       "      <td>NaN</td>\n",
       "      <td>3</td>\n",
       "      <td>0.6521</td>\n",
       "    </tr>\n",
       "    <tr>\n",
       "      <th>2</th>\n",
       "      <td>67.0</td>\n",
       "      <td>1.0</td>\n",
       "      <td>1.0</td>\n",
       "      <td>1.0</td>\n",
       "      <td>1</td>\n",
       "      <td>0</td>\n",
       "      <td>0</td>\n",
       "      <td>1</td>\n",
       "      <td>0</td>\n",
       "      <td>1</td>\n",
       "      <td>...</td>\n",
       "      <td>0</td>\n",
       "      <td>0</td>\n",
       "      <td>0</td>\n",
       "      <td>0</td>\n",
       "      <td>1</td>\n",
       "      <td>0</td>\n",
       "      <td>458996</td>\n",
       "      <td>NaN</td>\n",
       "      <td>0</td>\n",
       "      <td>0.4422</td>\n",
       "    </tr>\n",
       "    <tr>\n",
       "      <th>3</th>\n",
       "      <td>67.0</td>\n",
       "      <td>0.0</td>\n",
       "      <td>3.0</td>\n",
       "      <td>2.0</td>\n",
       "      <td>0</td>\n",
       "      <td>1</td>\n",
       "      <td>0</td>\n",
       "      <td>1</td>\n",
       "      <td>0</td>\n",
       "      <td>1</td>\n",
       "      <td>...</td>\n",
       "      <td>0</td>\n",
       "      <td>0</td>\n",
       "      <td>0</td>\n",
       "      <td>0</td>\n",
       "      <td>1</td>\n",
       "      <td>0</td>\n",
       "      <td>459000</td>\n",
       "      <td>NaN</td>\n",
       "      <td>1</td>\n",
       "      <td>0.6827</td>\n",
       "    </tr>\n",
       "    <tr>\n",
       "      <th>4</th>\n",
       "      <td>40.0</td>\n",
       "      <td>4.0</td>\n",
       "      <td>3.0</td>\n",
       "      <td>6.0</td>\n",
       "      <td>1</td>\n",
       "      <td>0</td>\n",
       "      <td>0</td>\n",
       "      <td>1</td>\n",
       "      <td>0</td>\n",
       "      <td>1</td>\n",
       "      <td>...</td>\n",
       "      <td>0</td>\n",
       "      <td>0</td>\n",
       "      <td>0</td>\n",
       "      <td>0</td>\n",
       "      <td>1</td>\n",
       "      <td>0</td>\n",
       "      <td>459001</td>\n",
       "      <td>NaN</td>\n",
       "      <td>3</td>\n",
       "      <td>0.6521</td>\n",
       "    </tr>\n",
       "  </tbody>\n",
       "</table>\n",
       "<p>5 rows × 30 columns</p>\n",
       "</div>"
      ],
      "text/plain": [
       "    Age  Work_Experience  Spending_Score  Family_Size  Gender_0.0  Gender_1.0  \\\n",
       "0  22.0              1.0             1.0          4.0           0           1   \n",
       "1  38.0              3.0             2.0          3.0           1           0   \n",
       "2  67.0              1.0             1.0          1.0           1           0   \n",
       "3  67.0              0.0             3.0          2.0           0           1   \n",
       "4  40.0              4.0             3.0          6.0           1           0   \n",
       "\n",
       "   Ever_Married_0.0  Ever_Married_1.0  Graduated_0.0  Graduated_1.0  ...  \\\n",
       "0                 1                 0              1              0  ...   \n",
       "1                 0                 1              0              1  ...   \n",
       "2                 0                 1              0              1  ...   \n",
       "3                 0                 1              0              1  ...   \n",
       "4                 0                 1              0              1  ...   \n",
       "\n",
       "   Var_1_2.0  Var_1_3.0  Var_1_4.0  Var_1_5.0  Var_1_6.0  Var_1_7.0      ID  \\\n",
       "0          0          0          1          0          0          0  458989   \n",
       "1          0          0          1          0          0          0  458994   \n",
       "2          0          0          0          0          1          0  458996   \n",
       "3          0          0          0          0          1          0  459000   \n",
       "4          0          0          0          0          1          0  459001   \n",
       "\n",
       "   Segmentation  Label   Score  \n",
       "0           NaN      0  0.5136  \n",
       "1           NaN      3  0.6521  \n",
       "2           NaN      0  0.4422  \n",
       "3           NaN      1  0.6827  \n",
       "4           NaN      3  0.6521  \n",
       "\n",
       "[5 rows x 30 columns]"
      ]
     },
     "execution_count": 60,
     "metadata": {},
     "output_type": "execute_result"
    }
   ],
   "source": [
    "unseen_predictions = predict_model(final_stack_soft, data=df_final_test)\n",
    "unseen_predictions.head()"
   ]
  },
  {
   "cell_type": "code",
   "execution_count": 62,
   "metadata": {
    "ExecuteTime": {
     "end_time": "2020-08-02T11:32:47.725298Z",
     "start_time": "2020-08-02T11:32:47.721309Z"
    }
   },
   "outputs": [],
   "source": [
    "unseen_predictions = unseen_predictions[['ID','Label']]"
   ]
  },
  {
   "cell_type": "code",
   "execution_count": 69,
   "metadata": {
    "ExecuteTime": {
     "end_time": "2020-08-02T11:36:15.542383Z",
     "start_time": "2020-08-02T11:36:15.537397Z"
    }
   },
   "outputs": [],
   "source": [
    "label = {0: 'A',\n",
    "        1:'B',\n",
    "        2:'C',\n",
    "        3:'D'}\n",
    "\n",
    "unseen_predictions.Label = [label[item] for item in unseen_predictions.Label]"
   ]
  },
  {
   "cell_type": "code",
   "execution_count": 71,
   "metadata": {
    "ExecuteTime": {
     "end_time": "2020-08-02T11:36:35.418932Z",
     "start_time": "2020-08-02T11:36:35.406457Z"
    }
   },
   "outputs": [],
   "source": [
    "unseen_predictions.to_csv('final_submission.csv',index = False)"
   ]
  },
  {
   "cell_type": "code",
   "execution_count": null,
   "metadata": {},
   "outputs": [],
   "source": []
  }
 ],
 "metadata": {
  "kernelspec": {
   "display_name": "Python 3",
   "language": "python",
   "name": "python3"
  },
  "language_info": {
   "codemirror_mode": {
    "name": "ipython",
    "version": 3
   },
   "file_extension": ".py",
   "mimetype": "text/x-python",
   "name": "python",
   "nbconvert_exporter": "python",
   "pygments_lexer": "ipython3",
   "version": "3.7.3"
  },
  "toc": {
   "base_numbering": 1,
   "nav_menu": {},
   "number_sections": true,
   "sideBar": true,
   "skip_h1_title": false,
   "title_cell": "Table of Contents",
   "title_sidebar": "Contents",
   "toc_cell": false,
   "toc_position": {},
   "toc_section_display": true,
   "toc_window_display": false
  },
  "varInspector": {
   "cols": {
    "lenName": 16,
    "lenType": 16,
    "lenVar": 40
   },
   "kernels_config": {
    "python": {
     "delete_cmd_postfix": "",
     "delete_cmd_prefix": "del ",
     "library": "var_list.py",
     "varRefreshCmd": "print(var_dic_list())"
    },
    "r": {
     "delete_cmd_postfix": ") ",
     "delete_cmd_prefix": "rm(",
     "library": "var_list.r",
     "varRefreshCmd": "cat(var_dic_list()) "
    }
   },
   "types_to_exclude": [
    "module",
    "function",
    "builtin_function_or_method",
    "instance",
    "_Feature"
   ],
   "window_display": false
  }
 },
 "nbformat": 4,
 "nbformat_minor": 2
}
