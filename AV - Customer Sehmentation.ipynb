{
 "cells": [
  {
   "cell_type": "code",
   "execution_count": 939,
   "metadata": {
    "ExecuteTime": {
     "end_time": "2020-08-01T17:26:26.982456Z",
     "start_time": "2020-08-01T17:26:26.977469Z"
    }
   },
   "outputs": [
    {
     "data": {
      "text/html": [
       "<style>.container { width:90% !important; }</style>"
      ],
      "text/plain": [
       "<IPython.core.display.HTML object>"
      ]
     },
     "metadata": {},
     "output_type": "display_data"
    }
   ],
   "source": [
    "# To increase the size of the cell\n",
    "from IPython.core.display import display, HTML\n",
    "display(HTML(\"<style>.container { width:90% !important; }</style>\"))  # To change the cell size"
   ]
  },
  {
   "cell_type": "markdown",
   "metadata": {},
   "source": [
    "# Project: Janatahack: Customer Segmentation"
   ]
  },
  {
   "cell_type": "markdown",
   "metadata": {},
   "source": [
    "An automobile company has plans to enter new markets with their existing products (P1, P2, P3, P4 and P5). After intensive market research, they’ve deduced that the behavior of new market is similar to their existing market. \n",
    "\n",
    "In their existing market, the sales team has classified all customers into 4 segments (A, B, C, D ). Then, they performed segmented outreach and communication for different segment of customers. This strategy has work exceptionally well for them. They plan to use the same strategy on new markets and have identified 2627 new potential customers. \n",
    "\n",
    "You are required to help the manager to predict the right group of the new customers."
   ]
  },
  {
   "cell_type": "markdown",
   "metadata": {},
   "source": [
    "## Importing Packages"
   ]
  },
  {
   "cell_type": "code",
   "execution_count": 940,
   "metadata": {
    "ExecuteTime": {
     "end_time": "2020-08-01T17:26:32.424486Z",
     "start_time": "2020-08-01T17:26:32.419499Z"
    }
   },
   "outputs": [],
   "source": [
    "import pandas as pd\n",
    "import os\n",
    "\n",
    "#Ignore warnings\n",
    "import warnings\n",
    "warnings.filterwarnings('ignore')\n",
    "\n",
    "### Setting Display size\n",
    "pd.set_option('max_columns', 200)\n",
    "pd.set_option('max_rows', 300)\n",
    "\n",
    "import missingno as msno # For visualizing missing values\n",
    "import matplotlib.pyplot as plt\n",
    "import seaborn as sns\n",
    "import ppscore as pps\n",
    "from impyute.imputation.cs import mice"
   ]
  },
  {
   "cell_type": "markdown",
   "metadata": {},
   "source": [
    "## Importing Dataset"
   ]
  },
  {
   "cell_type": "code",
   "execution_count": 941,
   "metadata": {
    "ExecuteTime": {
     "end_time": "2020-08-01T17:26:37.831612Z",
     "start_time": "2020-08-01T17:26:37.827231Z"
    }
   },
   "outputs": [
    {
     "name": "stdout",
     "output_type": "stream",
     "text": [
      "Current working Directory D:\\PrivateProjects\\Customer_segmentation\n",
      "Changed Working Directory D:\\PrivateProjects\\Customer_segmentation\n"
     ]
    }
   ],
   "source": [
    "print('Current working Directory',os.getcwd())#Find out your current working directory\n",
    "root = 'D:\\\\PrivateProjects\\Customer_segmentation'\n",
    "os.chdir(root)\n",
    "print('Changed Working Directory',os.getcwd())#Find out your (changed) current working directory"
   ]
  },
  {
   "cell_type": "markdown",
   "metadata": {},
   "source": [
    "### Importing data - train, test, sample_submission"
   ]
  },
  {
   "cell_type": "code",
   "execution_count": 942,
   "metadata": {
    "ExecuteTime": {
     "end_time": "2020-08-01T17:26:43.724225Z",
     "start_time": "2020-08-01T17:26:43.691315Z"
    }
   },
   "outputs": [],
   "source": [
    "df_train = pd.read_csv(f'{root}\\data\\Train_aBjfeNk.csv')\n",
    "df_test = pd.read_csv(f'{root}\\data\\Test_LqhgPWU.csv')\n",
    "df_submission = pd.read_csv(f'{root}\\data\\sample_submission_wyi0h0z.csv')"
   ]
  },
  {
   "cell_type": "code",
   "execution_count": 943,
   "metadata": {
    "ExecuteTime": {
     "end_time": "2020-08-01T17:26:49.319702Z",
     "start_time": "2020-08-01T17:26:49.312343Z"
    }
   },
   "outputs": [
    {
     "name": "stdout",
     "output_type": "stream",
     "text": [
      "We have 8068 rows & 11 columns in training dataset\n",
      "We have 2627 rows & 11 columns in testing dataset\n",
      "We have 2627 rows & 11 columns in sample submission dataset\n"
     ]
    }
   ],
   "source": [
    "print('We have {} rows & {} columns in training dataset'.format(df_train.shape[0],df_train.shape[1] ))\n",
    "print('We have {} rows & {} columns in testing dataset'.format(df_test.shape[0],df_train.shape[1]))\n",
    "print('We have {} rows & {} columns in sample submission dataset'.format(df_submission.shape[0],df_train.shape[1]))"
   ]
  },
  {
   "cell_type": "code",
   "execution_count": 944,
   "metadata": {
    "ExecuteTime": {
     "end_time": "2020-08-01T17:26:54.374975Z",
     "start_time": "2020-08-01T17:26:54.368476Z"
    },
    "code_folding": [
     0
    ]
   },
   "outputs": [],
   "source": [
    "#To get over all idea about the columns in dataset like count of unique values, type, % of missing values\n",
    "\n",
    "def describe_df(df):\n",
    "    stats = []\n",
    "    for col in df.columns:\n",
    "        stats.append((col, df[col].nunique(), df[col].isnull().sum() * 100 / df.shape[0], df[col].value_counts(normalize=True, dropna=False).values[0] * 100, df[col].dtype))\n",
    "    \n",
    "    stats_df = pd.DataFrame(stats, columns=['Feature', 'Unique_values', 'Percentage of missing values', 'Percentage of values in the biggest category', 'type'])\n",
    "    stats_df.sort_values('Percentage of missing values', ascending=False)\n",
    "    return stats_df"
   ]
  },
  {
   "cell_type": "code",
   "execution_count": 945,
   "metadata": {
    "ExecuteTime": {
     "end_time": "2020-08-01T17:26:59.439747Z",
     "start_time": "2020-08-01T17:26:59.404800Z"
    }
   },
   "outputs": [
    {
     "data": {
      "text/html": [
       "<div>\n",
       "<style scoped>\n",
       "    .dataframe tbody tr th:only-of-type {\n",
       "        vertical-align: middle;\n",
       "    }\n",
       "\n",
       "    .dataframe tbody tr th {\n",
       "        vertical-align: top;\n",
       "    }\n",
       "\n",
       "    .dataframe thead th {\n",
       "        text-align: right;\n",
       "    }\n",
       "</style>\n",
       "<table border=\"1\" class=\"dataframe\">\n",
       "  <thead>\n",
       "    <tr style=\"text-align: right;\">\n",
       "      <th></th>\n",
       "      <th>Feature</th>\n",
       "      <th>Unique_values</th>\n",
       "      <th>Percentage of missing values</th>\n",
       "      <th>Percentage of values in the biggest category</th>\n",
       "      <th>type</th>\n",
       "    </tr>\n",
       "  </thead>\n",
       "  <tbody>\n",
       "    <tr>\n",
       "      <th>0</th>\n",
       "      <td>ID</td>\n",
       "      <td>8068</td>\n",
       "      <td>0.000000</td>\n",
       "      <td>0.012395</td>\n",
       "      <td>int64</td>\n",
       "    </tr>\n",
       "    <tr>\n",
       "      <th>1</th>\n",
       "      <td>Gender</td>\n",
       "      <td>2</td>\n",
       "      <td>0.000000</td>\n",
       "      <td>54.747149</td>\n",
       "      <td>object</td>\n",
       "    </tr>\n",
       "    <tr>\n",
       "      <th>2</th>\n",
       "      <td>Ever_Married</td>\n",
       "      <td>2</td>\n",
       "      <td>1.735250</td>\n",
       "      <td>57.548339</td>\n",
       "      <td>object</td>\n",
       "    </tr>\n",
       "    <tr>\n",
       "      <th>3</th>\n",
       "      <td>Age</td>\n",
       "      <td>67</td>\n",
       "      <td>0.000000</td>\n",
       "      <td>3.098661</td>\n",
       "      <td>int64</td>\n",
       "    </tr>\n",
       "    <tr>\n",
       "      <th>4</th>\n",
       "      <td>Graduated</td>\n",
       "      <td>2</td>\n",
       "      <td>0.966782</td>\n",
       "      <td>61.576599</td>\n",
       "      <td>object</td>\n",
       "    </tr>\n",
       "    <tr>\n",
       "      <th>5</th>\n",
       "      <td>Profession</td>\n",
       "      <td>9</td>\n",
       "      <td>1.536936</td>\n",
       "      <td>31.184928</td>\n",
       "      <td>object</td>\n",
       "    </tr>\n",
       "    <tr>\n",
       "      <th>6</th>\n",
       "      <td>Work_Experience</td>\n",
       "      <td>15</td>\n",
       "      <td>10.275161</td>\n",
       "      <td>29.176996</td>\n",
       "      <td>float64</td>\n",
       "    </tr>\n",
       "    <tr>\n",
       "      <th>7</th>\n",
       "      <td>Spending_Score</td>\n",
       "      <td>3</td>\n",
       "      <td>0.000000</td>\n",
       "      <td>60.461081</td>\n",
       "      <td>object</td>\n",
       "    </tr>\n",
       "    <tr>\n",
       "      <th>8</th>\n",
       "      <td>Family_Size</td>\n",
       "      <td>9</td>\n",
       "      <td>4.152206</td>\n",
       "      <td>29.623203</td>\n",
       "      <td>float64</td>\n",
       "    </tr>\n",
       "    <tr>\n",
       "      <th>9</th>\n",
       "      <td>Var_1</td>\n",
       "      <td>7</td>\n",
       "      <td>0.941993</td>\n",
       "      <td>64.923153</td>\n",
       "      <td>object</td>\n",
       "    </tr>\n",
       "    <tr>\n",
       "      <th>10</th>\n",
       "      <td>Segmentation</td>\n",
       "      <td>4</td>\n",
       "      <td>0.000000</td>\n",
       "      <td>28.111056</td>\n",
       "      <td>object</td>\n",
       "    </tr>\n",
       "  </tbody>\n",
       "</table>\n",
       "</div>"
      ],
      "text/plain": [
       "            Feature  Unique_values  Percentage of missing values  \\\n",
       "0                ID           8068                      0.000000   \n",
       "1            Gender              2                      0.000000   \n",
       "2      Ever_Married              2                      1.735250   \n",
       "3               Age             67                      0.000000   \n",
       "4         Graduated              2                      0.966782   \n",
       "5        Profession              9                      1.536936   \n",
       "6   Work_Experience             15                     10.275161   \n",
       "7    Spending_Score              3                      0.000000   \n",
       "8       Family_Size              9                      4.152206   \n",
       "9             Var_1              7                      0.941993   \n",
       "10     Segmentation              4                      0.000000   \n",
       "\n",
       "    Percentage of values in the biggest category     type  \n",
       "0                                       0.012395    int64  \n",
       "1                                      54.747149   object  \n",
       "2                                      57.548339   object  \n",
       "3                                       3.098661    int64  \n",
       "4                                      61.576599   object  \n",
       "5                                      31.184928   object  \n",
       "6                                      29.176996  float64  \n",
       "7                                      60.461081   object  \n",
       "8                                      29.623203  float64  \n",
       "9                                      64.923153   object  \n",
       "10                                     28.111056   object  "
      ]
     },
     "execution_count": 945,
     "metadata": {},
     "output_type": "execute_result"
    }
   ],
   "source": [
    "describe_df(df_train)"
   ]
  },
  {
   "cell_type": "code",
   "execution_count": 946,
   "metadata": {
    "ExecuteTime": {
     "end_time": "2020-08-01T17:27:04.860124Z",
     "start_time": "2020-08-01T17:27:04.857290Z"
    }
   },
   "outputs": [],
   "source": [
    "# %matplotlib inline\n",
    "# # %matplotlib notebook\n",
    "# msno.matrix(df_train,labels = True,figsize=(50, 10))"
   ]
  },
  {
   "cell_type": "code",
   "execution_count": 947,
   "metadata": {
    "ExecuteTime": {
     "end_time": "2020-08-01T17:27:09.890389Z",
     "start_time": "2020-08-01T17:27:09.841502Z"
    }
   },
   "outputs": [
    {
     "data": {
      "text/html": [
       "<div>\n",
       "<style scoped>\n",
       "    .dataframe tbody tr th:only-of-type {\n",
       "        vertical-align: middle;\n",
       "    }\n",
       "\n",
       "    .dataframe tbody tr th {\n",
       "        vertical-align: top;\n",
       "    }\n",
       "\n",
       "    .dataframe thead th {\n",
       "        text-align: right;\n",
       "    }\n",
       "</style>\n",
       "<table border=\"1\" class=\"dataframe\">\n",
       "  <thead>\n",
       "    <tr style=\"text-align: right;\">\n",
       "      <th></th>\n",
       "      <th>Feature</th>\n",
       "      <th>Unique_values</th>\n",
       "      <th>Percentage of missing values</th>\n",
       "      <th>Percentage of values in the biggest category</th>\n",
       "      <th>type</th>\n",
       "    </tr>\n",
       "  </thead>\n",
       "  <tbody>\n",
       "    <tr>\n",
       "      <th>0</th>\n",
       "      <td>ID</td>\n",
       "      <td>2627</td>\n",
       "      <td>0.000000</td>\n",
       "      <td>0.038066</td>\n",
       "      <td>int64</td>\n",
       "    </tr>\n",
       "    <tr>\n",
       "      <th>1</th>\n",
       "      <td>Gender</td>\n",
       "      <td>2</td>\n",
       "      <td>0.000000</td>\n",
       "      <td>54.206319</td>\n",
       "      <td>object</td>\n",
       "    </tr>\n",
       "    <tr>\n",
       "      <th>2</th>\n",
       "      <td>Ever_Married</td>\n",
       "      <td>2</td>\n",
       "      <td>1.903312</td>\n",
       "      <td>57.860678</td>\n",
       "      <td>object</td>\n",
       "    </tr>\n",
       "    <tr>\n",
       "      <th>3</th>\n",
       "      <td>Age</td>\n",
       "      <td>67</td>\n",
       "      <td>0.000000</td>\n",
       "      <td>3.349829</td>\n",
       "      <td>int64</td>\n",
       "    </tr>\n",
       "    <tr>\n",
       "      <th>4</th>\n",
       "      <td>Graduated</td>\n",
       "      <td>2</td>\n",
       "      <td>0.913590</td>\n",
       "      <td>60.982109</td>\n",
       "      <td>object</td>\n",
       "    </tr>\n",
       "    <tr>\n",
       "      <th>5</th>\n",
       "      <td>Profession</td>\n",
       "      <td>9</td>\n",
       "      <td>1.446517</td>\n",
       "      <td>30.529121</td>\n",
       "      <td>object</td>\n",
       "    </tr>\n",
       "    <tr>\n",
       "      <th>6</th>\n",
       "      <td>Work_Experience</td>\n",
       "      <td>15</td>\n",
       "      <td>10.239817</td>\n",
       "      <td>29.425200</td>\n",
       "      <td>float64</td>\n",
       "    </tr>\n",
       "    <tr>\n",
       "      <th>7</th>\n",
       "      <td>Spending_Score</td>\n",
       "      <td>3</td>\n",
       "      <td>0.000000</td>\n",
       "      <td>61.515036</td>\n",
       "      <td>object</td>\n",
       "    </tr>\n",
       "    <tr>\n",
       "      <th>8</th>\n",
       "      <td>Family_Size</td>\n",
       "      <td>9</td>\n",
       "      <td>4.301485</td>\n",
       "      <td>29.234869</td>\n",
       "      <td>float64</td>\n",
       "    </tr>\n",
       "    <tr>\n",
       "      <th>9</th>\n",
       "      <td>Var_1</td>\n",
       "      <td>7</td>\n",
       "      <td>1.218120</td>\n",
       "      <td>63.646745</td>\n",
       "      <td>object</td>\n",
       "    </tr>\n",
       "  </tbody>\n",
       "</table>\n",
       "</div>"
      ],
      "text/plain": [
       "           Feature  Unique_values  Percentage of missing values  \\\n",
       "0               ID           2627                      0.000000   \n",
       "1           Gender              2                      0.000000   \n",
       "2     Ever_Married              2                      1.903312   \n",
       "3              Age             67                      0.000000   \n",
       "4        Graduated              2                      0.913590   \n",
       "5       Profession              9                      1.446517   \n",
       "6  Work_Experience             15                     10.239817   \n",
       "7   Spending_Score              3                      0.000000   \n",
       "8      Family_Size              9                      4.301485   \n",
       "9            Var_1              7                      1.218120   \n",
       "\n",
       "   Percentage of values in the biggest category     type  \n",
       "0                                      0.038066    int64  \n",
       "1                                     54.206319   object  \n",
       "2                                     57.860678   object  \n",
       "3                                      3.349829    int64  \n",
       "4                                     60.982109   object  \n",
       "5                                     30.529121   object  \n",
       "6                                     29.425200  float64  \n",
       "7                                     61.515036   object  \n",
       "8                                     29.234869  float64  \n",
       "9                                     63.646745   object  "
      ]
     },
     "execution_count": 947,
     "metadata": {},
     "output_type": "execute_result"
    }
   ],
   "source": [
    "describe_df(df_test)"
   ]
  },
  {
   "cell_type": "code",
   "execution_count": 948,
   "metadata": {
    "ExecuteTime": {
     "end_time": "2020-08-01T17:27:14.834736Z",
     "start_time": "2020-08-01T17:27:14.830746Z"
    }
   },
   "outputs": [],
   "source": [
    "# %matplotlib inline\n",
    "# # %matplotlib notebook\n",
    "# msno.matrix(df_test,labels = True,figsize=(50, 10))"
   ]
  },
  {
   "cell_type": "markdown",
   "metadata": {},
   "source": [
    " - Let's combaine train & test, then remove the rows with missing columns.\n",
    " - Save the rows with the missing columns for later use.\n",
    " - Do teh data processing with the remaining rows."
   ]
  },
  {
   "cell_type": "code",
   "execution_count": 949,
   "metadata": {
    "ExecuteTime": {
     "end_time": "2020-08-01T17:27:19.810344Z",
     "start_time": "2020-08-01T17:27:19.798086Z"
    }
   },
   "outputs": [],
   "source": [
    "df_train['is_train'] = '1'\n",
    "df_test['is_train'] = '0'\n",
    "df_full = pd.concat([df_train, df_test])"
   ]
  },
  {
   "cell_type": "code",
   "execution_count": 950,
   "metadata": {
    "ExecuteTime": {
     "end_time": "2020-08-01T17:27:25.145327Z",
     "start_time": "2020-08-01T17:27:25.139714Z"
    }
   },
   "outputs": [],
   "source": [
    "df_full['is_train'] = df_full['is_train'].astype('int64')"
   ]
  },
  {
   "cell_type": "markdown",
   "metadata": {},
   "source": [
    "### Predictive score"
   ]
  },
  {
   "cell_type": "code",
   "execution_count": 951,
   "metadata": {
    "ExecuteTime": {
     "end_time": "2020-08-01T17:27:35.774612Z",
     "start_time": "2020-08-01T17:27:30.191881Z"
    }
   },
   "outputs": [
    {
     "data": {
      "text/plain": [
       "<matplotlib.axes._subplots.AxesSubplot at 0x199920d10b8>"
      ]
     },
     "execution_count": 951,
     "metadata": {},
     "output_type": "execute_result"
    },
    {
     "data": {
      "image/png": "[encoded data removed]",
      "text/plain": [
       "<Figure size 648x360 with 2 Axes>"
      ]
     },
     "metadata": {
      "needs_background": "light"
     },
     "output_type": "display_data"
    }
   ],
   "source": [
    "%matplotlib inline\n",
    "plt.figure(figsize=(9,5))\n",
    "sns.heatmap(pps.matrix(df_train),annot=True,fmt=\".2f\")"
   ]
  },
  {
   "cell_type": "markdown",
   "metadata": {},
   "source": [
    "###### Insights:\n",
    "            - Age has 63% correlation with Ever_Married\n",
    "            - Profession has 51% good scorre with Ever_married\n",
    "            - ding_Score has 66% good score with Ever_married\n",
    "            - Segmentaion depends on Spending_Score, Graduated, Ever_Married\n",
    "            - Its is important to fill missing values of  Ever_Married,Graduated,Profession in that order"
   ]
  },
  {
   "cell_type": "markdown",
   "metadata": {},
   "source": [
    " - How distribuded the segments are?\n"
   ]
  },
  {
   "cell_type": "code",
   "execution_count": 952,
   "metadata": {
    "ExecuteTime": {
     "end_time": "2020-08-01T17:27:40.808662Z",
     "start_time": "2020-08-01T17:27:40.800718Z"
    }
   },
   "outputs": [
    {
     "data": {
      "text/plain": [
       "D    0.281111\n",
       "A    0.244422\n",
       "C    0.244175\n",
       "B    0.230293\n",
       "Name: Segmentation, dtype: float64"
      ]
     },
     "execution_count": 952,
     "metadata": {},
     "output_type": "execute_result"
    }
   ],
   "source": [
    "df_train.Segmentation.value_counts()/df_train.shape[0]"
   ]
  },
  {
   "cell_type": "markdown",
   "metadata": {},
   "source": [
    "Answer : We can see the segments are almost equally distributed, no need to worry about sampling issues"
   ]
  },
  {
   "cell_type": "markdown",
   "metadata": {},
   "source": [
    "#### Data Processing"
   ]
  },
  {
   "cell_type": "markdown",
   "metadata": {},
   "source": [
    "Info:\n",
    "\n",
    "    Binary columns : {Ever_Married, Gender, Graduated}\n",
    "    Ordinal column : {Spending_Score}\n",
    "    Nominal column : {Profession,Var_1, Segmentation}\n",
    "    numerical column : {Age, Work_experience, Family_Size}\n",
    "    id column : {ID}"
   ]
  },
  {
   "cell_type": "code",
   "execution_count": 953,
   "metadata": {
    "ExecuteTime": {
     "end_time": "2020-08-01T17:27:46.475615Z",
     "start_time": "2020-08-01T17:27:46.469630Z"
    }
   },
   "outputs": [],
   "source": [
    "# Create df with ID & Segment\n",
    "df_id_segment = df_full[['ID','Segmentation','is_train']]"
   ]
  },
  {
   "cell_type": "code",
   "execution_count": 954,
   "metadata": {
    "ExecuteTime": {
     "end_time": "2020-08-01T17:27:52.409766Z",
     "start_time": "2020-08-01T17:27:52.403783Z"
    }
   },
   "outputs": [],
   "source": [
    "df_full.drop('Segmentation',axis = 1,inplace = True) # Dropping target"
   ]
  },
  {
   "cell_type": "code",
   "execution_count": 955,
   "metadata": {
    "ExecuteTime": {
     "end_time": "2020-08-01T17:27:57.923964Z",
     "start_time": "2020-08-01T17:27:57.911998Z"
    }
   },
   "outputs": [],
   "source": [
    "df_full.fillna('NA',inplace = True)"
   ]
  },
  {
   "cell_type": "code",
   "execution_count": 956,
   "metadata": {
    "ExecuteTime": {
     "end_time": "2020-08-01T17:28:03.012525Z",
     "start_time": "2020-08-01T17:28:02.997565Z"
    }
   },
   "outputs": [],
   "source": [
    "#Processing Binary Columns\n",
    "\n",
    "gender = {'Male': 1,'Female': 0}\n",
    "df_full.Gender = [gender[item] for item in df_full.Gender]\n",
    "\n",
    "graduate = {'Yes': 1,'No': 0, 'NA':'NA'}\n",
    "df_full.Graduated = [graduate[item] for item in df_full.Graduated]\n",
    "\n",
    "ever_married = {'Yes': 1,'No': 0, 'NA':'NA'}\n",
    "df_full.Ever_Married = [ever_married[item] for item in df_full.Ever_Married]"
   ]
  },
  {
   "cell_type": "code",
   "execution_count": 957,
   "metadata": {
    "ExecuteTime": {
     "end_time": "2020-08-01T17:28:08.027611Z",
     "start_time": "2020-08-01T17:28:08.018632Z"
    }
   },
   "outputs": [],
   "source": [
    "# Processing Ordinal column\n",
    "score = {'Low' : 1 , 'Average' : 2, 'High' : 3}\n",
    "df_full.Spending_Score = [score[item] for item in df_full.Spending_Score]"
   ]
  },
  {
   "cell_type": "markdown",
   "metadata": {
    "ExecuteTime": {
     "end_time": "2020-08-01T10:27:35.356392Z",
     "start_time": "2020-08-01T10:27:35.353590Z"
    }
   },
   "source": [
    "#### Handle Missing values"
   ]
  },
  {
   "cell_type": "code",
   "execution_count": 958,
   "metadata": {
    "ExecuteTime": {
     "end_time": "2020-08-01T17:28:13.268110Z",
     "start_time": "2020-08-01T17:28:13.236694Z"
    }
   },
   "outputs": [],
   "source": [
    "df_full.replace('NA', np.nan,inplace = True)"
   ]
  },
  {
   "cell_type": "code",
   "execution_count": 959,
   "metadata": {
    "ExecuteTime": {
     "end_time": "2020-08-01T17:28:18.359320Z",
     "start_time": "2020-08-01T17:28:18.343732Z"
    }
   },
   "outputs": [],
   "source": [
    "df_full_dummies = pd.get_dummies(df_full[['Age', 'Ever_Married', 'Family_Size', 'Gender', 'Graduated','ID',\n",
    "       'Profession', 'Spending_Score', 'Var_1','Work_Experience', 'is_train']])"
   ]
  },
  {
   "cell_type": "markdown",
   "metadata": {},
   "source": [
    "#### MICE - Missing Values"
   ]
  },
  {
   "cell_type": "code",
   "execution_count": 960,
   "metadata": {
    "ExecuteTime": {
     "end_time": "2020-08-01T17:28:26.460068Z",
     "start_time": "2020-08-01T17:28:23.463775Z"
    }
   },
   "outputs": [],
   "source": [
    "# start the MICE training\n",
    "imputed_training_mice=mice(df_full_dummies.values)\n",
    "imputed_training_mice = pd.DataFrame(imputed_training_mice)\n",
    "\n",
    "cols = df_full_dummies.columns # Since imputed_training is numpy array wer have to convert it to PD dataframe & assign col names\n",
    "imputed_training_mice.columns = cols"
   ]
  },
  {
   "cell_type": "code",
   "execution_count": 961,
   "metadata": {
    "ExecuteTime": {
     "end_time": "2020-08-01T17:28:31.879401Z",
     "start_time": "2020-08-01T17:28:31.868430Z"
    }
   },
   "outputs": [],
   "source": [
    "imputed_training_mice[['ID','is_train']] = imputed_training_mice[['ID','is_train']].astype('int64')"
   ]
  },
  {
   "cell_type": "code",
   "execution_count": 962,
   "metadata": {
    "ExecuteTime": {
     "end_time": "2020-08-01T17:28:36.847207Z",
     "start_time": "2020-08-01T17:28:36.832247Z"
    }
   },
   "outputs": [],
   "source": [
    "df_processed_mice = pd.merge(imputed_training_mice,df_id_segment, how = 'inner', on =['ID','is_train'])"
   ]
  },
  {
   "cell_type": "markdown",
   "metadata": {},
   "source": [
    "#### KNN"
   ]
  },
  {
   "cell_type": "code",
   "execution_count": 963,
   "metadata": {
    "ExecuteTime": {
     "end_time": "2020-08-01T17:28:43.260886Z",
     "start_time": "2020-08-01T17:28:42.184559Z"
    }
   },
   "outputs": [],
   "source": [
    "import sys\n",
    "from impyute.imputation.cs import fast_knn\n",
    "sys.setrecursionlimit(100000) #Increase the recursion limit of the OS\n",
    "\n",
    "# start the KNN training\n",
    "imputed_training_knn =fast_knn(df_full_dummies.values, k=30)\n",
    "imputed_training_knn = pd.DataFrame(imputed_training_knn)\n",
    "\n",
    "cols = df_full_dummies.columns # Since imputed_training is numpy array wer have to convert it to PD dataframe & assign col names\n",
    "imputed_training_knn.columns = cols"
   ]
  },
  {
   "cell_type": "code",
   "execution_count": 964,
   "metadata": {
    "ExecuteTime": {
     "end_time": "2020-08-01T17:28:48.360840Z",
     "start_time": "2020-08-01T17:28:48.341849Z"
    }
   },
   "outputs": [],
   "source": [
    "imputed_training_knn[['ID','is_train']] = imputed_training_knn[['ID','is_train']].astype('int64')\n",
    "df_processed_knn = pd.merge(imputed_training_knn,df_id_segment, how = 'inner', on =['ID','is_train'])"
   ]
  },
  {
   "cell_type": "markdown",
   "metadata": {},
   "source": [
    "###### Now that we have imputed the missing values we can combain these two imputations & take average"
   ]
  },
  {
   "cell_type": "markdown",
   "metadata": {},
   "source": [
    "List of cols with missing values : \n",
    "    - Ever_Married\n",
    "    - Graduated\n",
    "    - Profession\n",
    "    - Work_Experience\n",
    "    - Family_Size\n",
    "    - var_1"
   ]
  },
  {
   "cell_type": "code",
   "execution_count": 965,
   "metadata": {
    "ExecuteTime": {
     "end_time": "2020-08-01T17:28:53.377848Z",
     "start_time": "2020-08-01T17:28:53.347849Z"
    }
   },
   "outputs": [],
   "source": [
    "temp = pd.concat((df_processed_knn, df_processed_mice)); \n",
    "df_final = temp.groupby(temp.index).mean()"
   ]
  },
  {
   "cell_type": "code",
   "execution_count": 966,
   "metadata": {
    "ExecuteTime": {
     "end_time": "2020-08-01T17:28:58.453019Z",
     "start_time": "2020-08-01T17:28:58.419599Z"
    }
   },
   "outputs": [],
   "source": [
    "df_final = pd.merge(df_final, df_id_segment, how = 'inner', on =['ID','is_train'] )"
   ]
  },
  {
   "cell_type": "code",
   "execution_count": 967,
   "metadata": {
    "ExecuteTime": {
     "end_time": "2020-08-01T17:29:03.905935Z",
     "start_time": "2020-08-01T17:29:03.898410Z"
    }
   },
   "outputs": [],
   "source": [
    "Segmentation = df_final[['ID','Segmentation','is_train']]"
   ]
  },
  {
   "cell_type": "code",
   "execution_count": 968,
   "metadata": {
    "ExecuteTime": {
     "end_time": "2020-08-01T17:29:08.968594Z",
     "start_time": "2020-08-01T17:29:08.962649Z"
    }
   },
   "outputs": [],
   "source": [
    "df_final.drop(['Segmentation','ID','is_train'],axis = 1, inplace = True)"
   ]
  },
  {
   "cell_type": "code",
   "execution_count": 969,
   "metadata": {
    "ExecuteTime": {
     "end_time": "2020-08-01T17:29:14.076336Z",
     "start_time": "2020-08-01T17:29:14.060178Z"
    }
   },
   "outputs": [],
   "source": [
    "from sklearn import preprocessing\n",
    "col = df_final.columns\n",
    "df_final = preprocessing.scale(df_final)"
   ]
  },
  {
   "cell_type": "code",
   "execution_count": 970,
   "metadata": {
    "ExecuteTime": {
     "end_time": "2020-08-01T17:29:18.980554Z",
     "start_time": "2020-08-01T17:29:18.976234Z"
    }
   },
   "outputs": [],
   "source": [
    "df_final = pd.DataFrame(df_final)\n",
    "df_final.columns = col"
   ]
  },
  {
   "cell_type": "code",
   "execution_count": 972,
   "metadata": {
    "ExecuteTime": {
     "end_time": "2020-08-01T17:29:29.867402Z",
     "start_time": "2020-08-01T17:29:29.860420Z"
    }
   },
   "outputs": [],
   "source": [
    "df_final = pd.concat([df_final,Segmentation], axis = 1)"
   ]
  },
  {
   "cell_type": "code",
   "execution_count": null,
   "metadata": {},
   "outputs": [],
   "source": [
    "df_final.head()"
   ]
  },
  {
   "cell_type": "code",
   "execution_count": 974,
   "metadata": {
    "ExecuteTime": {
     "end_time": "2020-08-01T17:29:53.681412Z",
     "start_time": "2020-08-01T17:29:53.672887Z"
    }
   },
   "outputs": [],
   "source": [
    "df_final_train = df_final[df_final['is_train'] == 1]\n",
    "df_final_test = df_final[df_final['is_train'] == 0]"
   ]
  },
  {
   "cell_type": "code",
   "execution_count": 975,
   "metadata": {
    "ExecuteTime": {
     "end_time": "2020-08-01T17:30:00.042168Z",
     "start_time": "2020-08-01T17:29:59.174074Z"
    }
   },
   "outputs": [],
   "source": [
    "df_final_train.drop(['is_train'],axis = 1,inplace = True)\n",
    "df_final_test.drop(['is_train'],axis = 1,inplace = True)"
   ]
  },
  {
   "cell_type": "code",
   "execution_count": 976,
   "metadata": {
    "ExecuteTime": {
     "end_time": "2020-08-01T17:30:05.940024Z",
     "start_time": "2020-08-01T17:30:05.506408Z"
    }
   },
   "outputs": [],
   "source": [
    "df_final_train.to_csv('train.csv',index = False)\n",
    "df_final_test.to_csv('test.csv',index = False)"
   ]
  },
  {
   "cell_type": "markdown",
   "metadata": {},
   "source": [
    "##### Let's see hwo the Segment is distributed in training df"
   ]
  },
  {
   "cell_type": "code",
   "execution_count": 977,
   "metadata": {
    "ExecuteTime": {
     "end_time": "2020-08-01T17:30:11.202573Z",
     "start_time": "2020-08-01T17:30:11.020020Z"
    }
   },
   "outputs": [
    {
     "data": {
      "image/png": "[encoded data removed]",
      "text/plain": [
       "<Figure size 1008x432 with 1 Axes>"
      ]
     },
     "metadata": {
      "needs_background": "light"
     },
     "output_type": "display_data"
    }
   ],
   "source": [
    "plt.figure(figsize=(14, 6));\n",
    "g = sns.countplot(x='Segmentation', data=df_final_train)\n",
    "plt.title('Segment Distribution in training data');\n",
    "ax=g.axes\n",
    "for p in ax.patches:\n",
    "     ax.annotate(f\"{p.get_height() * 100 / df_processed.shape[0]:.2f}%\", (p.get_x() + p.get_width() / 2., p.get_height()),\n",
    "         ha='center', va='center', fontsize=11, color='gray', rotation=0, xytext=(0, 10),\n",
    "         textcoords='offset points')"
   ]
  },
  {
   "cell_type": "markdown",
   "metadata": {},
   "source": [
    "### Model - MLP"
   ]
  },
  {
   "cell_type": "code",
   "execution_count": 978,
   "metadata": {
    "ExecuteTime": {
     "end_time": "2020-08-01T17:30:16.912171Z",
     "start_time": "2020-08-01T17:30:16.908394Z"
    }
   },
   "outputs": [],
   "source": [
    "from sklearn.neural_network import MLPClassifier\n",
    "from sklearn.model_selection import train_test_split\n",
    "from sklearn.metrics import accuracy_score\n",
    "from sklearn.metrics import confusion_matrix"
   ]
  },
  {
   "cell_type": "code",
   "execution_count": 979,
   "metadata": {
    "ExecuteTime": {
     "end_time": "2020-08-01T17:30:24.910771Z",
     "start_time": "2020-08-01T17:30:24.544752Z"
    }
   },
   "outputs": [],
   "source": [
    "df_final_train.drop('ID', axis = 1, inplace = True)"
   ]
  },
  {
   "cell_type": "code",
   "execution_count": 980,
   "metadata": {
    "ExecuteTime": {
     "end_time": "2020-08-01T17:30:30.120272Z",
     "start_time": "2020-08-01T17:30:30.115288Z"
    }
   },
   "outputs": [],
   "source": [
    "y = df_final_train['Segmentation']\n",
    "x = df_final_train.drop(['Segmentation'], axis=1)"
   ]
  },
  {
   "cell_type": "code",
   "execution_count": 981,
   "metadata": {
    "ExecuteTime": {
     "end_time": "2020-08-01T17:30:35.691330Z",
     "start_time": "2020-08-01T17:30:35.683301Z"
    }
   },
   "outputs": [],
   "source": [
    "x_train, x_test, y_train, y_test = train_test_split(x,y, test_size= 0.10, random_state=27)"
   ]
  },
  {
   "cell_type": "code",
   "execution_count": 821,
   "metadata": {
    "ExecuteTime": {
     "end_time": "2020-08-01T15:32:19.938022Z",
     "start_time": "2020-08-01T15:32:19.932037Z"
    }
   },
   "outputs": [],
   "source": [
    "clf = MLPClassifier(hidden_layer_sizes=(500,500,500,500,500,500,500), max_iter=1000, alpha=0.0001,\n",
    "                     solver='adam', verbose=10,  random_state=21,tol=0.000000001, activation= 'relu' )"
   ]
  },
  {
   "cell_type": "code",
   "execution_count": 822,
   "metadata": {
    "ExecuteTime": {
     "end_time": "2020-08-01T15:50:29.161882Z",
     "start_time": "2020-08-01T15:32:36.873795Z"
    },
    "collapsed": true
   },
   "outputs": [
    {
     "name": "stdout",
     "output_type": "stream",
     "text": [
      "Iteration 1, loss = 1.35640212\n",
      "Iteration 2, loss = 1.25848912\n",
      "Iteration 3, loss = 1.18898097\n",
      "Iteration 4, loss = 1.14372614\n",
      "Iteration 5, loss = 1.11813820\n",
      "Iteration 6, loss = 1.13337760\n",
      "Iteration 7, loss = 1.09514002\n",
      "Iteration 8, loss = 1.09161690\n",
      "Iteration 9, loss = 1.07883930\n",
      "Iteration 10, loss = 1.09022837\n",
      "Iteration 11, loss = 1.09849439\n",
      "Iteration 12, loss = 1.10683469\n",
      "Iteration 13, loss = 1.07546119\n",
      "Iteration 14, loss = 1.07555953\n",
      "Iteration 15, loss = 1.07547945\n",
      "Iteration 16, loss = 1.07788581\n",
      "Iteration 17, loss = 1.06998498\n",
      "Iteration 18, loss = 1.06230138\n",
      "Iteration 19, loss = 1.06983876\n",
      "Iteration 20, loss = 1.08098681\n",
      "Iteration 21, loss = 1.07057107\n",
      "Iteration 22, loss = 1.05931670\n",
      "Iteration 23, loss = 1.04946181\n",
      "Iteration 24, loss = 1.05315975\n",
      "Iteration 25, loss = 1.04379675\n",
      "Iteration 26, loss = 1.04931369\n",
      "Iteration 27, loss = 1.05656928\n",
      "Iteration 28, loss = 1.04450955\n",
      "Iteration 29, loss = 1.05331141\n",
      "Iteration 30, loss = 1.06607874\n",
      "Iteration 31, loss = 1.03519897\n",
      "Iteration 32, loss = 1.04128743\n",
      "Iteration 33, loss = 1.02988273\n",
      "Iteration 34, loss = 1.02888461\n",
      "Iteration 35, loss = 1.02397182\n",
      "Iteration 36, loss = 1.02655565\n",
      "Iteration 37, loss = 1.01518679\n",
      "Iteration 38, loss = 1.01792765\n",
      "Iteration 39, loss = 1.01913579\n",
      "Iteration 40, loss = 1.02474769\n",
      "Iteration 41, loss = 1.01006548\n",
      "Iteration 42, loss = 1.00640764\n",
      "Iteration 43, loss = 1.01448762\n",
      "Iteration 44, loss = 1.00959605\n",
      "Iteration 45, loss = 0.99649561\n",
      "Iteration 46, loss = 0.98939879\n",
      "Iteration 47, loss = 0.98756860\n",
      "Iteration 48, loss = 0.98170360\n",
      "Iteration 49, loss = 0.98275924\n",
      "Iteration 50, loss = 0.98878301\n",
      "Iteration 51, loss = 0.97723604\n",
      "Iteration 52, loss = 0.98005716\n",
      "Iteration 53, loss = 0.96371689\n",
      "Iteration 54, loss = 0.95992093\n",
      "Iteration 55, loss = 0.97808778\n",
      "Iteration 56, loss = 0.96242440\n",
      "Iteration 57, loss = 0.94379969\n",
      "Iteration 58, loss = 0.93741328\n",
      "Iteration 59, loss = 0.93455991\n",
      "Iteration 60, loss = 0.94274310\n",
      "Iteration 61, loss = 0.92908117\n",
      "Iteration 62, loss = 0.90540133\n",
      "Iteration 63, loss = 0.91049247\n",
      "Iteration 64, loss = 0.90290359\n",
      "Iteration 65, loss = 0.88817934\n",
      "Iteration 66, loss = 0.88024398\n",
      "Iteration 67, loss = 0.87959950\n",
      "Iteration 68, loss = 0.88845503\n",
      "Iteration 69, loss = 0.87067159\n",
      "Iteration 70, loss = 0.84513456\n",
      "Iteration 71, loss = 0.85133280\n",
      "Iteration 72, loss = 0.84099540\n",
      "Iteration 73, loss = 0.84900202\n",
      "Iteration 74, loss = 0.82831731\n",
      "Iteration 75, loss = 0.81956619\n",
      "Iteration 76, loss = 0.80744622\n",
      "Iteration 77, loss = 0.80652096\n",
      "Iteration 78, loss = 0.81154661\n",
      "Iteration 79, loss = 0.81062916\n",
      "Iteration 80, loss = 0.76337897\n",
      "Iteration 81, loss = 0.77062430\n",
      "Iteration 82, loss = 0.78127262\n",
      "Iteration 83, loss = 0.76540889\n",
      "Iteration 84, loss = 0.77407753\n",
      "Iteration 85, loss = 0.75644816\n",
      "Iteration 86, loss = 0.77305052\n",
      "Iteration 87, loss = 0.74523647\n",
      "Iteration 88, loss = 0.71117441\n",
      "Iteration 89, loss = 0.69907672\n",
      "Iteration 90, loss = 0.69354656\n",
      "Iteration 91, loss = 0.70193236\n",
      "Iteration 92, loss = 0.72246579\n",
      "Iteration 93, loss = 0.69191253\n",
      "Iteration 94, loss = 0.69454809\n",
      "Iteration 95, loss = 0.65713149\n",
      "Iteration 96, loss = 0.66448577\n",
      "Iteration 97, loss = 0.64878051\n",
      "Iteration 98, loss = 0.63153663\n",
      "Iteration 99, loss = 0.64597584\n",
      "Iteration 100, loss = 0.62191452\n",
      "Iteration 101, loss = 0.61159834\n",
      "Iteration 102, loss = 0.63077428\n",
      "Iteration 103, loss = 0.64020800\n",
      "Iteration 104, loss = 0.61755846\n",
      "Iteration 105, loss = 0.62263988\n",
      "Iteration 106, loss = 0.57930309\n",
      "Iteration 107, loss = 0.58002061\n",
      "Iteration 108, loss = 0.57337919\n",
      "Iteration 109, loss = 0.58469214\n",
      "Iteration 110, loss = 0.59161735\n",
      "Iteration 111, loss = 0.57316476\n",
      "Iteration 112, loss = 0.56202303\n",
      "Iteration 113, loss = 0.55517117\n",
      "Iteration 114, loss = 0.54231826\n",
      "Iteration 115, loss = 0.52705402\n",
      "Iteration 116, loss = 0.52109853\n",
      "Iteration 117, loss = 0.53853779\n",
      "Iteration 118, loss = 0.61208920\n",
      "Iteration 119, loss = 0.54128528\n",
      "Iteration 120, loss = 0.52296405\n",
      "Iteration 121, loss = 0.48827603\n",
      "Iteration 122, loss = 0.48789619\n",
      "Iteration 123, loss = 0.49314528\n",
      "Iteration 124, loss = 0.47352014\n",
      "Iteration 125, loss = 0.46392179\n",
      "Iteration 126, loss = 0.44720810\n",
      "Iteration 127, loss = 0.44493261\n",
      "Iteration 128, loss = 0.47222757\n",
      "Iteration 129, loss = 0.48339987\n",
      "Iteration 130, loss = 0.49495911\n",
      "Iteration 131, loss = 0.46701579\n",
      "Iteration 132, loss = 0.44036991\n",
      "Iteration 133, loss = 0.43599105\n",
      "Iteration 134, loss = 0.42890293\n",
      "Iteration 135, loss = 0.46378260\n",
      "Iteration 136, loss = 0.43076442\n",
      "Iteration 137, loss = 0.43532109\n",
      "Iteration 138, loss = 0.43022453\n",
      "Iteration 139, loss = 0.45592736\n",
      "Iteration 140, loss = 0.42468166\n",
      "Iteration 141, loss = 0.40670807\n",
      "Iteration 142, loss = 0.43353962\n",
      "Iteration 143, loss = 0.40527158\n",
      "Iteration 144, loss = 0.38220132\n",
      "Iteration 145, loss = 0.39550226\n",
      "Iteration 146, loss = 0.44988499\n",
      "Iteration 147, loss = 0.40199420\n",
      "Iteration 148, loss = 0.39451533\n",
      "Iteration 149, loss = 0.37556386\n",
      "Iteration 150, loss = 0.35761162\n",
      "Iteration 151, loss = 0.37321059\n",
      "Iteration 152, loss = 0.39323072\n",
      "Iteration 153, loss = 0.38721194\n",
      "Iteration 154, loss = 0.40561771\n",
      "Iteration 155, loss = 0.40378021\n",
      "Iteration 156, loss = 0.41457612\n",
      "Iteration 157, loss = 0.37198862\n",
      "Iteration 158, loss = 0.35525726\n",
      "Iteration 159, loss = 0.34773461\n",
      "Iteration 160, loss = 0.34081511\n",
      "Iteration 161, loss = 0.33890824\n",
      "Iteration 162, loss = 0.34770715\n",
      "Iteration 163, loss = 0.34465708\n",
      "Iteration 164, loss = 0.34442131\n",
      "Iteration 165, loss = 0.39865572\n",
      "Iteration 166, loss = 0.33867665\n",
      "Iteration 167, loss = 0.36475660\n",
      "Iteration 168, loss = 0.35830328\n",
      "Iteration 169, loss = 0.34057473\n",
      "Iteration 170, loss = 0.33481098\n",
      "Iteration 171, loss = 0.33472226\n",
      "Iteration 172, loss = 0.34587067\n",
      "Iteration 173, loss = 0.36001879\n",
      "Iteration 174, loss = 0.37000519\n",
      "Iteration 175, loss = 0.34630501\n",
      "Iteration 176, loss = 0.32042884\n",
      "Iteration 177, loss = 0.31120924\n",
      "Iteration 178, loss = 0.36009611\n",
      "Iteration 179, loss = 0.35638399\n",
      "Iteration 180, loss = 0.33489489\n",
      "Iteration 181, loss = 0.35325317\n",
      "Iteration 182, loss = 0.34000032\n",
      "Iteration 183, loss = 0.34229876\n",
      "Iteration 184, loss = 0.32822135\n",
      "Iteration 185, loss = 0.31243597\n",
      "Iteration 186, loss = 0.30962186\n",
      "Iteration 187, loss = 0.31232706\n",
      "Iteration 188, loss = 0.30971004\n",
      "Iteration 189, loss = 0.31449603\n",
      "Iteration 190, loss = 0.29362398\n",
      "Iteration 191, loss = 0.27495709\n",
      "Iteration 192, loss = 0.28235561\n",
      "Iteration 193, loss = 0.32458218\n",
      "Iteration 194, loss = 0.29079213\n",
      "Iteration 195, loss = 0.28750246\n",
      "Iteration 196, loss = 0.29523749\n",
      "Iteration 197, loss = 0.29371082\n",
      "Iteration 198, loss = 0.29331079\n",
      "Iteration 199, loss = 0.30845524\n",
      "Iteration 200, loss = 0.31026392\n",
      "Iteration 201, loss = 0.28897435\n",
      "Iteration 202, loss = 0.27137110\n",
      "Iteration 203, loss = 0.26913434\n",
      "Iteration 204, loss = 0.28547491\n",
      "Iteration 205, loss = 0.32397991\n",
      "Iteration 206, loss = 0.30479128\n",
      "Iteration 207, loss = 0.32788628\n",
      "Iteration 208, loss = 0.31753256\n",
      "Iteration 209, loss = 0.30759661\n",
      "Iteration 210, loss = 0.29858549\n",
      "Iteration 211, loss = 0.27362845\n",
      "Iteration 212, loss = 0.31308219\n",
      "Iteration 213, loss = 0.33110695\n",
      "Iteration 214, loss = 0.33588271\n",
      "Training loss did not improve more than tol=0.000000 for 10 consecutive epochs. Stopping.\n"
     ]
    }
   ],
   "source": [
    "clf.fit(x_train, y_train)\n",
    "y_pred = clf.predict(x_test)"
   ]
  },
  {
   "cell_type": "code",
   "execution_count": 798,
   "metadata": {
    "ExecuteTime": {
     "end_time": "2020-08-01T15:19:46.285816Z",
     "start_time": "2020-08-01T15:19:46.279871Z"
    }
   },
   "outputs": [
    {
     "data": {
      "text/plain": [
       "0.4634448574969021"
      ]
     },
     "execution_count": 798,
     "metadata": {},
     "output_type": "execute_result"
    }
   ],
   "source": [
    "accuracy_score(y_test, y_pred) #0.519087754090233, 0.5161130391670798, 0.5176003966286564,0.4969021065675341,0.44981412639405205,0.459727385377943"
   ]
  },
  {
   "cell_type": "code",
   "execution_count": 782,
   "metadata": {
    "ExecuteTime": {
     "end_time": "2020-08-01T15:11:28.281741Z",
     "start_time": "2020-08-01T15:11:28.273898Z"
    }
   },
   "outputs": [],
   "source": [
    "temp = pd.DataFrame(y_pred == y_test).astype('int')\n",
    "y_test = pd.DataFrame(y_test)\n",
    "y_test['Succuss'] = temp"
   ]
  },
  {
   "cell_type": "code",
   "execution_count": 783,
   "metadata": {
    "ExecuteTime": {
     "end_time": "2020-08-01T15:11:33.054759Z",
     "start_time": "2020-08-01T15:11:33.042792Z"
    }
   },
   "outputs": [
    {
     "data": {
      "text/plain": [
       "Segmentation\n",
       "A    0.360215\n",
       "B    0.343915\n",
       "C    0.497462\n",
       "D    0.612766\n",
       "dtype: float64"
      ]
     },
     "execution_count": 783,
     "metadata": {},
     "output_type": "execute_result"
    }
   ],
   "source": [
    "y_test.groupby('Segmentation')['Succuss'].sum()/y_test.groupby('Segmentation')['Segmentation'].count()"
   ]
  },
  {
   "cell_type": "markdown",
   "metadata": {},
   "source": [
    "### ONE VS REST"
   ]
  },
  {
   "cell_type": "code",
   "execution_count": 982,
   "metadata": {
    "ExecuteTime": {
     "end_time": "2020-08-01T17:30:48.334576Z",
     "start_time": "2020-08-01T17:30:48.329593Z"
    }
   },
   "outputs": [],
   "source": [
    "from sklearn.linear_model import LogisticRegression\n",
    "logregressor = LogisticRegression(solver=\"liblinear\", multi_class=\"ovr\")"
   ]
  },
  {
   "cell_type": "code",
   "execution_count": 983,
   "metadata": {
    "ExecuteTime": {
     "end_time": "2020-08-01T17:30:53.277906Z",
     "start_time": "2020-08-01T17:30:53.270926Z"
    }
   },
   "outputs": [],
   "source": [
    "x_train, x_test, y_train, y_test = train_test_split(x,y, test_size= 0.10, random_state=27)"
   ]
  },
  {
   "cell_type": "code",
   "execution_count": 984,
   "metadata": {
    "ExecuteTime": {
     "end_time": "2020-08-01T17:30:58.242590Z",
     "start_time": "2020-08-01T17:30:58.156822Z"
    }
   },
   "outputs": [
    {
     "data": {
      "text/plain": [
       "LogisticRegression(C=1.0, class_weight=None, dual=False, fit_intercept=True,\n",
       "                   intercept_scaling=1, l1_ratio=None, max_iter=100,\n",
       "                   multi_class='ovr', n_jobs=None, penalty='l2',\n",
       "                   random_state=None, solver='liblinear', tol=0.0001, verbose=0,\n",
       "                   warm_start=False)"
      ]
     },
     "execution_count": 984,
     "metadata": {},
     "output_type": "execute_result"
    }
   ],
   "source": [
    "train_y = y_train.as_matrix()  # To get the right vector-like shape call as_matrix on the single column\n",
    "train_X = x_train.as_matrix()\n",
    "\n",
    "logregressor.fit(train_X, train_y)"
   ]
  },
  {
   "cell_type": "code",
   "execution_count": 985,
   "metadata": {
    "ExecuteTime": {
     "end_time": "2020-08-01T17:31:03.314704Z",
     "start_time": "2020-08-01T17:31:03.309673Z"
    }
   },
   "outputs": [],
   "source": [
    "y_pred = logregressor.predict(x_test)"
   ]
  },
  {
   "cell_type": "code",
   "execution_count": 986,
   "metadata": {
    "ExecuteTime": {
     "end_time": "2020-08-01T17:31:08.673076Z",
     "start_time": "2020-08-01T17:31:08.667052Z"
    }
   },
   "outputs": [
    {
     "data": {
      "text/plain": [
       "0.5092936802973977"
      ]
     },
     "execution_count": 986,
     "metadata": {},
     "output_type": "execute_result"
    }
   ],
   "source": [
    "accuracy_score(y_test, y_pred) #0.519087754090233, 0.5161130391670798, 0.5176003966286564,0.4969021065675341,0.44981412639405205,0.459727385377943"
   ]
  },
  {
   "cell_type": "code",
   "execution_count": 987,
   "metadata": {
    "ExecuteTime": {
     "end_time": "2020-08-01T17:31:13.398957Z",
     "start_time": "2020-08-01T17:31:13.391975Z"
    }
   },
   "outputs": [],
   "source": [
    "temp = pd.DataFrame(y_pred == y_test).astype('int')\n",
    "y_test = pd.DataFrame(y_test)\n",
    "y_test['Succuss'] = temp"
   ]
  },
  {
   "cell_type": "code",
   "execution_count": 988,
   "metadata": {
    "ExecuteTime": {
     "end_time": "2020-08-01T17:31:17.790177Z",
     "start_time": "2020-08-01T17:31:17.780690Z"
    }
   },
   "outputs": [
    {
     "data": {
      "text/plain": [
       "Segmentation\n",
       "A    0.467742\n",
       "B    0.158730\n",
       "C    0.639594\n",
       "D    0.714894\n",
       "dtype: float64"
      ]
     },
     "execution_count": 988,
     "metadata": {},
     "output_type": "execute_result"
    }
   ],
   "source": [
    "y_test.groupby('Segmentation')['Succuss'].sum()/y_test.groupby('Segmentation')['Segmentation'].count()"
   ]
  },
  {
   "cell_type": "markdown",
   "metadata": {
    "ExecuteTime": {
     "end_time": "2020-08-01T15:13:52.242794Z",
     "start_time": "2020-08-01T15:13:52.212834Z"
    }
   },
   "source": [
    "### Ensemble Classifier"
   ]
  },
  {
   "cell_type": "code",
   "execution_count": 989,
   "metadata": {
    "ExecuteTime": {
     "end_time": "2020-08-01T17:31:22.270127Z",
     "start_time": "2020-08-01T17:31:22.265141Z"
    }
   },
   "outputs": [],
   "source": [
    "import numpy as np\n",
    "import pandas as pd\n",
    "import seaborn as sns\n",
    "import matplotlib.pyplot as plt\n",
    "\n",
    "def warn(*args, **kwargs): pass\n",
    "import warnings\n",
    "warnings.warn = warn\n",
    "\n",
    "from sklearn.preprocessing import LabelEncoder\n",
    "from sklearn.model_selection import StratifiedShuffleSplit"
   ]
  },
  {
   "cell_type": "code",
   "execution_count": 990,
   "metadata": {
    "ExecuteTime": {
     "end_time": "2020-08-01T17:31:27.089844Z",
     "start_time": "2020-08-01T17:31:27.085855Z"
    }
   },
   "outputs": [],
   "source": [
    "# # Swiss army knife function to organize the data\n",
    "\n",
    "# def encode(df_final_train, df_final_test):\n",
    "#     le = LabelEncoder().fit(df_final_train['Segmentation']) \n",
    "#     labels = le.transform(df_final_train['Segmentation'])           # encode species strings\n",
    "#     classes = list(le.classes_)                    # save column names for submission\n",
    "#     test_ids = df_final_test.ID                             # save test ids for submission\n",
    "    \n",
    "      \n",
    "#     df_final_test = df_final_test.drop(['ID'], axis=1)\n",
    "    \n",
    "#     return df_final_train, labels, df_final_test, test_ids, classes\n",
    "\n",
    "# train, labels, test, test_ids, classes = encode(df_final_train, df_final_test)\n",
    "# train.head(1)"
   ]
  },
  {
   "cell_type": "code",
   "execution_count": 991,
   "metadata": {
    "ExecuteTime": {
     "end_time": "2020-08-01T17:31:31.516072Z",
     "start_time": "2020-08-01T17:31:31.508094Z"
    }
   },
   "outputs": [],
   "source": [
    "x_train, x_test, y_train, y_test = train_test_split(x,y, test_size= 0.10, random_state=27)"
   ]
  },
  {
   "cell_type": "code",
   "execution_count": 992,
   "metadata": {
    "ExecuteTime": {
     "end_time": "2020-08-01T17:37:13.697665Z",
     "start_time": "2020-08-01T17:31:36.089468Z"
    }
   },
   "outputs": [
    {
     "name": "stdout",
     "output_type": "stream",
     "text": [
      "==============================\n",
      "LogisticRegression\n",
      "****Results****\n",
      "Accuracy: 50.5576%\n",
      "Log Loss: 1.116240827905893\n",
      "==============================\n",
      "DecisionTreeClassifier\n",
      "****Results****\n",
      "Accuracy: 43.8662%\n",
      "Log Loss: 18.937341884523384\n",
      "==============================\n",
      "KNeighborsClassifier\n",
      "****Results****\n",
      "Accuracy: 48.4511%\n",
      "Log Loss: 7.231026478818772\n",
      "==============================\n",
      "SVC\n",
      "****Results****\n",
      "Accuracy: 46.7162%\n",
      "Log Loss: 1.1441846768134245\n",
      "==============================\n",
      "NuSVC\n",
      "****Results****\n",
      "Accuracy: 53.5316%\n",
      "Log Loss: 1.1030755610655756\n",
      "==============================\n",
      "RandomForestClassifier\n",
      "****Results****\n",
      "Accuracy: 49.0706%\n",
      "Log Loss: 1.8155425601674826\n",
      "==============================\n",
      "AdaBoostClassifier\n",
      "****Results****\n",
      "Accuracy: 51.1772%\n",
      "Log Loss: 1.3711869257909686\n",
      "==============================\n",
      "GradientBoostingClassifier\n",
      "****Results****\n",
      "Accuracy: 54.8947%\n",
      "Log Loss: 1.0299283465196714\n",
      "==============================\n",
      "GaussianNB\n",
      "****Results****\n",
      "Accuracy: 44.3618%\n",
      "Log Loss: 2.5710605766152965\n",
      "==============================\n",
      "LinearDiscriminantAnalysis\n",
      "****Results****\n",
      "Accuracy: 51.0533%\n",
      "Log Loss: 1.1340086295821639\n",
      "==============================\n",
      "QuadraticDiscriminantAnalysis\n",
      "****Results****\n",
      "Accuracy: 46.8401%\n",
      "Log Loss: 2.415214979634928\n",
      "Iteration 1, loss = 1.19720323\n",
      "Iteration 2, loss = 1.09952415\n",
      "Iteration 3, loss = 1.06886445\n",
      "Iteration 4, loss = 1.04966314\n",
      "Iteration 5, loss = 1.03744673\n",
      "Iteration 6, loss = 1.02274397\n",
      "Iteration 7, loss = 1.01062129\n",
      "Iteration 8, loss = 1.00068147\n",
      "Iteration 9, loss = 0.98124864\n",
      "Iteration 10, loss = 0.97661621\n",
      "Iteration 11, loss = 0.97404358\n",
      "Iteration 12, loss = 0.96588254\n",
      "Iteration 13, loss = 0.94145919\n",
      "Iteration 14, loss = 0.92771889\n",
      "Iteration 15, loss = 0.91371263\n",
      "Iteration 16, loss = 0.90551250\n",
      "Iteration 17, loss = 0.88466628\n",
      "Iteration 18, loss = 0.87191865\n",
      "Iteration 19, loss = 0.85650401\n",
      "Iteration 20, loss = 0.84292623\n",
      "Iteration 21, loss = 0.82045213\n",
      "Iteration 22, loss = 0.81106232\n",
      "Iteration 23, loss = 0.79130914\n",
      "Iteration 24, loss = 0.77697396\n",
      "Iteration 25, loss = 0.74624161\n",
      "Iteration 26, loss = 0.73361474\n",
      "Iteration 27, loss = 0.70468423\n",
      "Iteration 28, loss = 0.71054356\n",
      "Iteration 29, loss = 0.68861777\n",
      "Iteration 30, loss = 0.66095968\n",
      "Iteration 31, loss = 0.65328696\n",
      "Iteration 32, loss = 0.65234045\n",
      "Iteration 33, loss = 0.63283198\n",
      "Iteration 34, loss = 0.63544016\n",
      "Iteration 35, loss = 0.59845707\n",
      "Iteration 36, loss = 0.59095104\n",
      "Iteration 37, loss = 0.59013125\n",
      "Iteration 38, loss = 0.56037216\n",
      "Iteration 39, loss = 0.54460492\n",
      "Iteration 40, loss = 0.53611080\n",
      "Iteration 41, loss = 0.55053936\n",
      "Iteration 42, loss = 0.54590366\n",
      "Iteration 43, loss = 0.53216058\n",
      "Iteration 44, loss = 0.52882829\n",
      "Iteration 45, loss = 0.51198119\n",
      "Iteration 46, loss = 0.48603688\n",
      "Iteration 47, loss = 0.48544906\n",
      "Iteration 48, loss = 0.48225245\n",
      "Iteration 49, loss = 0.44135343\n",
      "Iteration 50, loss = 0.46320932\n",
      "Iteration 51, loss = 0.44705291\n",
      "Iteration 52, loss = 0.46389093\n",
      "Iteration 53, loss = 0.44558650\n",
      "Iteration 54, loss = 0.44608296\n",
      "Iteration 55, loss = 0.44545549\n",
      "Iteration 56, loss = 0.43757819\n",
      "Iteration 57, loss = 0.41583085\n",
      "Iteration 58, loss = 0.42923377\n",
      "Iteration 59, loss = 0.41333353\n",
      "Iteration 60, loss = 0.41230246\n",
      "Iteration 61, loss = 0.41620290\n",
      "Iteration 62, loss = 0.41855188\n",
      "Iteration 63, loss = 0.41901075\n",
      "Iteration 64, loss = 0.38150019\n",
      "Iteration 65, loss = 0.38290576\n",
      "Iteration 66, loss = 0.38535399\n",
      "Iteration 67, loss = 0.37245121\n",
      "Iteration 68, loss = 0.35466523\n",
      "Iteration 69, loss = 0.36363011\n",
      "Iteration 70, loss = 0.36276807\n",
      "Iteration 71, loss = 0.35828709\n",
      "Iteration 72, loss = 0.37220273\n",
      "Iteration 73, loss = 0.34962572\n",
      "Iteration 74, loss = 0.35771410\n",
      "Iteration 75, loss = 0.35785578\n",
      "Iteration 76, loss = 0.35225156\n",
      "Iteration 77, loss = 0.34604848\n",
      "Iteration 78, loss = 0.34706124\n",
      "Iteration 79, loss = 0.32744115\n",
      "Iteration 80, loss = 0.34511431\n",
      "Iteration 81, loss = 0.34657939\n",
      "Iteration 82, loss = 0.34268736\n",
      "Iteration 83, loss = 0.33599478\n",
      "Iteration 84, loss = 0.31887141\n",
      "Iteration 85, loss = 0.32583065\n",
      "Iteration 86, loss = 0.32143187\n",
      "Iteration 87, loss = 0.30728033\n",
      "Iteration 88, loss = 0.30178644\n",
      "Iteration 89, loss = 0.30060858\n",
      "Iteration 90, loss = 0.30801408\n",
      "Iteration 91, loss = 0.30232829\n",
      "Iteration 92, loss = 0.29438002\n",
      "Iteration 93, loss = 0.30180266\n",
      "Iteration 94, loss = 0.30814410\n",
      "Iteration 95, loss = 0.29045568\n",
      "Iteration 96, loss = 0.28957942\n",
      "Iteration 97, loss = 0.29506345\n",
      "Iteration 98, loss = 0.30736488\n",
      "Iteration 99, loss = 0.29540588\n",
      "Iteration 100, loss = 0.28368401\n",
      "Iteration 101, loss = 0.29837077\n",
      "Iteration 102, loss = 0.29428489\n",
      "Iteration 103, loss = 0.29001538\n",
      "Iteration 104, loss = 0.27956472\n",
      "Iteration 105, loss = 0.28172180\n",
      "Iteration 106, loss = 0.27224199\n",
      "Iteration 107, loss = 0.28040078\n",
      "Iteration 108, loss = 0.28594819\n",
      "Iteration 109, loss = 0.29474201\n",
      "Iteration 110, loss = 0.27691602\n",
      "Iteration 111, loss = 0.26871987\n",
      "Iteration 112, loss = 0.27683504\n",
      "Iteration 113, loss = 0.27722480\n",
      "Iteration 114, loss = 0.29662750\n",
      "Iteration 115, loss = 0.28186511\n",
      "Iteration 116, loss = 0.29515884\n",
      "Iteration 117, loss = 0.28412841\n",
      "Iteration 118, loss = 0.27084338\n",
      "Iteration 119, loss = 0.26657210\n",
      "Iteration 120, loss = 0.27184351\n",
      "Iteration 121, loss = 0.25759341\n",
      "Iteration 122, loss = 0.24856196\n",
      "Iteration 123, loss = 0.24499731\n",
      "Iteration 124, loss = 0.24623542\n",
      "Iteration 125, loss = 0.25107935\n",
      "Iteration 126, loss = 0.24404325\n",
      "Iteration 127, loss = 0.28447940\n",
      "Iteration 128, loss = 0.28957778\n",
      "Iteration 129, loss = 0.28328433\n",
      "Iteration 130, loss = 0.26091491\n",
      "Iteration 131, loss = 0.24883206\n",
      "Iteration 132, loss = 0.25130506\n",
      "Iteration 133, loss = 0.24181864\n",
      "Iteration 134, loss = 0.23711841\n",
      "Iteration 135, loss = 0.24462384\n",
      "Iteration 136, loss = 0.23429641\n",
      "Iteration 137, loss = 0.23551910\n",
      "Iteration 138, loss = 0.24209586\n",
      "Iteration 139, loss = 0.24850473\n",
      "Iteration 140, loss = 0.26608601\n",
      "Iteration 141, loss = 0.25587941\n",
      "Iteration 142, loss = 0.28444532\n",
      "Iteration 143, loss = 0.24324783\n",
      "Iteration 144, loss = 0.26926411\n",
      "Iteration 145, loss = 0.24037598\n",
      "Iteration 146, loss = 0.23626069\n",
      "Iteration 147, loss = 0.23696267\n",
      "Training loss did not improve more than tol=0.000000 for 10 consecutive epochs. Stopping.\n",
      "==============================\n",
      "MLPClassifier\n",
      "****Results****\n",
      "Accuracy: 44.7336%\n",
      "Log Loss: 3.809884132207003\n",
      "==============================\n"
     ]
    }
   ],
   "source": [
    "from sklearn.metrics import accuracy_score, log_loss\n",
    "from sklearn.neighbors import KNeighborsClassifier\n",
    "from sklearn.svm import SVC, LinearSVC, NuSVC\n",
    "from sklearn.tree import DecisionTreeClassifier\n",
    "from sklearn.ensemble import RandomForestClassifier, AdaBoostClassifier, GradientBoostingClassifier\n",
    "from sklearn.naive_bayes import GaussianNB\n",
    "from sklearn.discriminant_analysis import LinearDiscriminantAnalysis\n",
    "from sklearn.discriminant_analysis import QuadraticDiscriminantAnalysis\n",
    "from sklearn.tree import DecisionTreeClassifier\n",
    "from sklearn.utils.testing import ignore_warnings\n",
    "from sklearn.exceptions import ConvergenceWarning\n",
    "\n",
    "classifiers = [\n",
    "    LogisticRegression(random_state=1),\n",
    "    DecisionTreeClassifier(),\n",
    "    KNeighborsClassifier(4),\n",
    "    SVC(kernel=\"rbf\", C=0.025, probability=True),\n",
    "    NuSVC(probability=True),\n",
    "    RandomForestClassifier(),\n",
    "    AdaBoostClassifier(),\n",
    "    GradientBoostingClassifier(),\n",
    "    GaussianNB(),\n",
    "    LinearDiscriminantAnalysis(),\n",
    "    QuadraticDiscriminantAnalysis(),\n",
    "    MLPClassifier(hidden_layer_sizes=(500,500,500,100,100,100,100,100,100), max_iter=1000, alpha=0.0001,\n",
    "                     solver='adam', verbose=10,  random_state=21,tol=0.000000001, activation= 'relu' )\n",
    "]\n",
    "\n",
    "# Logging for Visual Comparison\n",
    "log_cols=[\"Classifier\", \"Accuracy\", \"Log Loss\"]\n",
    "log = pd.DataFrame(columns=log_cols)\n",
    "\n",
    "for clf in classifiers:\n",
    "    clf.fit(x_train, y_train)\n",
    "    name = clf.__class__.__name__\n",
    "    \n",
    "    print(\"=\"*30)\n",
    "    print(name)\n",
    "    \n",
    "    print('****Results****')\n",
    "    train_predictions = clf.predict(x_test)\n",
    "    acc = accuracy_score(y_test, train_predictions)\n",
    "    print(\"Accuracy: {:.4%}\".format(acc))\n",
    "    \n",
    "    train_predictions = clf.predict_proba(x_test)\n",
    "    ll = log_loss(y_test, train_predictions)\n",
    "    print(\"Log Loss: {}\".format(ll))\n",
    "    \n",
    "    log_entry = pd.DataFrame([[name, acc*100, ll]], columns=log_cols)\n",
    "    log = log.append(log_entry)\n",
    "    \n",
    "print(\"=\"*30)"
   ]
  },
  {
   "cell_type": "code",
   "execution_count": 994,
   "metadata": {
    "ExecuteTime": {
     "end_time": "2020-08-01T17:37:36.233363Z",
     "start_time": "2020-08-01T17:37:35.799975Z"
    }
   },
   "outputs": [
    {
     "data": {
      "image/png": "[encoded data removed]",
      "text/plain": [
       "<Figure size 432x288 with 1 Axes>"
      ]
     },
     "metadata": {
      "needs_background": "light"
     },
     "output_type": "display_data"
    },
    {
     "data": {
      "image/png": "[encoded data removed]",
      "text/plain": [
       "<Figure size 432x288 with 1 Axes>"
      ]
     },
     "metadata": {
      "needs_background": "light"
     },
     "output_type": "display_data"
    }
   ],
   "source": [
    "sns.set_color_codes(\"muted\")\n",
    "sns.barplot(x='Accuracy', y='Classifier', data=log, color=\"b\")\n",
    "\n",
    "plt.xlabel('Accuracy %')\n",
    "plt.title('Classifier Accuracy')\n",
    "plt.show()\n",
    "\n",
    "sns.set_color_codes(\"muted\")\n",
    "sns.barplot(x='Log Loss', y='Classifier', data=log, color=\"g\")\n",
    "\n",
    "plt.xlabel('Log Loss')\n",
    "plt.title('Classifier Log Loss')\n",
    "plt.show()"
   ]
  },
  {
   "cell_type": "code",
   "execution_count": 996,
   "metadata": {
    "ExecuteTime": {
     "end_time": "2020-08-01T17:40:27.892462Z",
     "start_time": "2020-08-01T17:40:02.566135Z"
    }
   },
   "outputs": [
    {
     "data": {
      "text/plain": [
       "0.5539033457249071"
      ]
     },
     "execution_count": 996,
     "metadata": {},
     "output_type": "execute_result"
    }
   ],
   "source": [
    "from sklearn.ensemble import VotingClassifier\n",
    "\n",
    "model1 = LogisticRegression(random_state=1)\n",
    "# model2 = DecisionTreeClassifier(random_state=1)\n",
    "model3 = KNeighborsClassifier(4)\n",
    "# model4 = SVC(kernel=\"rbf\", C=0.025, probability=True)\n",
    "model5 = NuSVC(probability=True)\n",
    "model6 = RandomForestClassifier()\n",
    "model7 = AdaBoostClassifier()\n",
    "model8 = GradientBoostingClassifier()\n",
    "# model9 = GaussianNB()\n",
    "model10 = LinearDiscriminantAnalysis()\n",
    "# model11 = QuadraticDiscriminantAnalysis()\n",
    "# model12 = MLPClassifier(hidden_layer_sizes=(500,500,500,100,100,100,100,100,100), max_iter=1000, alpha=0.0001,\n",
    "#                      solver='adam', verbose=10,  random_state=21,tol=0.000000001, activation= 'relu' )\n",
    "\n",
    "\n",
    "model = VotingClassifier(estimators=[('lr', model1),\n",
    "#                                      ('dtc', model2),\n",
    "                                      ('knc', model3),\n",
    "#                                      ('svc', model4),\n",
    "                                      ('nsv', model5),\n",
    "                                      ('rfc', model6),\n",
    "                                      ('abc', model7),\n",
    "                                      ('gbc', model8),\n",
    "#                                      ('gnb', model9),\n",
    "                                      ('lda', model10),\n",
    "#                                      ('qda', model11),\n",
    "#                                      ('mlp',model12)\n",
    "                                    \n",
    "                                    ],\n",
    "                                     voting='hard')\n",
    "model.fit(x_train, y_train)\n",
    "model.score( x_test, y_test)"
   ]
  },
  {
   "cell_type": "code",
   "execution_count": 997,
   "metadata": {
    "ExecuteTime": {
     "end_time": "2020-08-01T17:40:32.700131Z",
     "start_time": "2020-08-01T17:40:32.697138Z"
    }
   },
   "outputs": [],
   "source": [
    "col = x_train.columns"
   ]
  },
  {
   "cell_type": "code",
   "execution_count": 998,
   "metadata": {
    "ExecuteTime": {
     "end_time": "2020-08-01T17:40:37.170072Z",
     "start_time": "2020-08-01T17:40:37.165086Z"
    }
   },
   "outputs": [],
   "source": [
    "temp = df_final_test[col]"
   ]
  },
  {
   "cell_type": "code",
   "execution_count": 999,
   "metadata": {
    "ExecuteTime": {
     "end_time": "2020-08-01T17:40:43.476963Z",
     "start_time": "2020-08-01T17:40:42.176409Z"
    }
   },
   "outputs": [],
   "source": [
    "pred = model.predict(temp)"
   ]
  },
  {
   "cell_type": "code",
   "execution_count": 1000,
   "metadata": {
    "ExecuteTime": {
     "end_time": "2020-08-01T17:40:48.375017Z",
     "start_time": "2020-08-01T17:40:48.365001Z"
    }
   },
   "outputs": [],
   "source": [
    "pd.DataFrame(pred).to_csv('submission_ensmbl.csv',index = False)"
   ]
  },
  {
   "cell_type": "code",
   "execution_count": null,
   "metadata": {
    "ExecuteTime": {
     "end_time": "2020-08-01T16:27:54.258241Z",
     "start_time": "2020-08-01T16:27:54.253274Z"
    }
   },
   "outputs": [],
   "source": []
  },
  {
   "cell_type": "code",
   "execution_count": null,
   "metadata": {
    "ExecuteTime": {
     "end_time": "2020-08-01T16:28:13.803838Z",
     "start_time": "2020-08-01T16:28:13.414298Z"
    }
   },
   "outputs": [],
   "source": []
  },
  {
   "cell_type": "code",
   "execution_count": null,
   "metadata": {},
   "outputs": [],
   "source": []
  }
 ],
 "metadata": {
  "kernelspec": {
   "display_name": "Python 3",
   "language": "python",
   "name": "python3"
  },
  "language_info": {
   "codemirror_mode": {
    "name": "ipython",
    "version": 3
   },
   "file_extension": ".py",
   "mimetype": "text/x-python",
   "name": "python",
   "nbconvert_exporter": "python",
   "pygments_lexer": "ipython3",
   "version": "3.7.3"
  },
  "toc": {
   "base_numbering": 1,
   "nav_menu": {},
   "number_sections": true,
   "sideBar": true,
   "skip_h1_title": false,
   "title_cell": "Table of Contents",
   "title_sidebar": "Contents",
   "toc_cell": false,
   "toc_position": {},
   "toc_section_display": true,
   "toc_window_display": false
  },
  "varInspector": {
   "cols": {
    "lenName": 16,
    "lenType": 16,
    "lenVar": 40
   },
   "kernels_config": {
    "python": {
     "delete_cmd_postfix": "",
     "delete_cmd_prefix": "del ",
     "library": "var_list.py",
     "varRefreshCmd": "print(var_dic_list())"
    },
    "r": {
     "delete_cmd_postfix": ") ",
     "delete_cmd_prefix": "rm(",
     "library": "var_list.r",
     "varRefreshCmd": "cat(var_dic_list()) "
    }
   },
   "types_to_exclude": [
    "module",
    "function",
    "builtin_function_or_method",
    "instance",
    "_Feature"
   ],
   "window_display": false
  }
 },
 "nbformat": 4,
 "nbformat_minor": 2
}
